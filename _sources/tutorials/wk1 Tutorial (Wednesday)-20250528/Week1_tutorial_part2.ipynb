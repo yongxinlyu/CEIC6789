{
 "cells": [
  {
   "cell_type": "markdown",
   "metadata": {
    "id": "ND6fxlfhv2Qg"
   },
   "source": [
    "# Week 1 tutorial: Data preprocessing and analysis\n",
    "\n"
   ]
  },
  {
   "cell_type": "markdown",
   "metadata": {
    "id": "Wa97uClR5eHY"
   },
   "source": [
    "## Question 1\n",
    "\n",
    "You are working for a pharmaceutical company that is interested in understanding the antimicrobic property of various molecules as a function of their respective three-dimensional (3D) structures. A preprocessing step involves transforming the 3D structure of each molecule to a computer-readable, numerical format (features). One such transformation method is to use an approach called the Coloumb matrix that mimics the electrostatic interaction between the nuclei of the atoms in a molecule.\n",
    "\n",
    "Coulomb matrix (M) is calculated using the equation below.\n",
    "\n",
    "\\begin{equation}\n",
    "    M_{ij}^\\mathrm{Coulomb}=\\left\\{\n",
    "        \\begin{matrix}\n",
    "        0.5 Z_i^{2.4} & \\text{for } i = j \\\\\n",
    "            \\frac{Z_i Z_j}{R_{ij}} & \\text{for } i \\neq j\n",
    "        \\end{matrix}\n",
    "        \\right.\n",
    "\\end{equation}\n",
    "\n",
    "where, $M_{ij}$ are the elements of the matrix, $Z_i$ (or $Z_j$) represents the atomic number of the atom $i$ (or $j$) in the molecule, and $R_{ij}$ is the distance between atom $i$ and atom $j$.\n",
    "\n",
    "1. Write a function that accepts a python dictionary containing the molecule information (elements, their respective atomic numbers, 3D Cartesian coordinates in Angstrom), and returns the corresponding Coulomb matrix. Test the function you wrote on the dictionary of a water and a benzene molecule given in the cell below. For example, since the water molecule has three atoms, i.e. 2 H and 1 O atoms, your function should output a 3$\\times$3 matrix, where the diagonal elements contain the information for the $i=j$ case, while the off-diagonal elements contain the information for the $i \\neq j$ case.\n",
    "\n",
    "2. One important feature of the transformation method is that it should produce the same output even when the molecule is rotated. This is because the property of the molecule does not change if it is rotated and hence, the transformation method should yield the same features (in this case the same matrix). Does Coulomb matrix satisfy this rule?"
   ]
  },
  {
   "cell_type": "code",
   "execution_count": null,
   "metadata": {
    "id": "wCBshQA4wHvF"
   },
   "outputs": [],
   "source": [
    "water = {\n",
    "  'elements': ['H','H','O'],\n",
    "  'atomic_numbers': [1, 1, 8],\n",
    "  'coordinates': [[0.00000, 0.75545, -0.47116], [0.00000, -0.75545, -0.47116], [0.00000, 0.00000, 0.11779]]\n",
    "}"
   ]
  },
  {
   "cell_type": "code",
   "execution_count": null,
   "metadata": {
    "id": "MaSllyJjwIyk"
   },
   "outputs": [],
   "source": [
    "benzene = {\n",
    "    'elements': ['C', 'C', 'C', 'C', 'C', 'C', 'H', 'H', 'H', 'H', 'H', 'H'],\n",
    "    'atomic_numbers': [6, 6, 6, 6, 6, 6, 1, 1, 1, 1, 1, 1],\n",
    "    'coordinates': [[0.6825, -0.0924, 1.2087], \\\n",
    "                    [-0.7075, -0.0352, 1.1973], \\\n",
    "                    [-1.3898, 0.0572, -0.0114], \\\n",
    "                    [-0.6824, 0.0925, -1.2088], \\\n",
    "                    [0.7075, 0.0352, -1.1973], \\\n",
    "                    [1.3899, -0.0572, 0.0114], \\\n",
    "                    [2.4836, -0.1022, 0.0205], \\\n",
    "                    [1.2194, -0.1652, 2.1600], \\\n",
    "                    [-1.2644, -0.0630, 2.1393], \\\n",
    "                    [-2.4836, 0.1021, -0.0204], \\\n",
    "                    [-1.2194, 0.1652, -2.1599], \\\n",
    "                    [1.2641, 0.0628, -2.1395]]\n",
    "}"
   ]
  },
  {
   "cell_type": "markdown",
   "metadata": {
    "id": "LBoQoOP9v2Qi"
   },
   "source": [
    "## Question 2\n",
    "\n",
    "A juice manufacturing company has introduced a new product. They wanted to know if people liked the product or not, so they conducted an experiment where randomly chosen customers were asked to drink the juice and say whether they would be interested in buying the product. They have collected some relevant data, which is contained in juice_product.xlsx.\n",
    "\n",
    "There are seven variables (or columns):\n",
    "- Customer ID : A number assigned to the customer by the company.\n",
    "- Interested? : If the customer is willing to buy the product, the value is 1. If not, the value is 0.\n",
    "- Bottle type : The company tried selling the product in 3 different bottle designs namely 1, 2 and 3, in the increasing order of complexity; 1 being a simple design, while 3 being a complex design. This variable refers to the bottle design the customer received.\n",
    "- Age : The age of the customer.\n",
    "- Price : The amount the customer is willing to pay for a bottle of this product.\n",
    "- Customer name : Name of the customer. Although this was asked, later they had to delete all the names due to privacy reasons.\n",
    "- Gender : The gender of the customer.\n",
    "\n",
    "Now, you have been handed this data set and asked to preprocess the data, and if possible, obtain some useful insights already with the data you have.\n",
    "\n",
    "Here's a template to guide you with the process. There is no right or wrong answer when it comes to data science. Some approaches lead to a greater prediction accuracy, while some lead to a lower accuracy. So, this is a template I have given you based on how I approached this problem. This doesn't mean it's the best template. So, feel free to explore your own template and approach this problem in your own way.\n"
   ]
  },
  {
   "cell_type": "markdown",
   "metadata": {
    "id": "9YmddXIAv2Qi"
   },
   "source": [
    "## 1. Import the relevant libraries"
   ]
  },
  {
   "cell_type": "markdown",
   "metadata": {
    "id": "35zO0Af0v2Qj"
   },
   "source": [
    "## 2. Load the raw data"
   ]
  },
  {
   "cell_type": "markdown",
   "metadata": {
    "id": "tJ7kVJRJv2Qj"
   },
   "source": [
    "## 3. Explore the descriptive statistics"
   ]
  },
  {
   "cell_type": "markdown",
   "metadata": {
    "id": "Jdrypv1Sv2Qj"
   },
   "source": [
    "## 4. Determine the variables of interest to us"
   ]
  },
  {
   "cell_type": "markdown",
   "metadata": {
    "id": "u8Dw83NYv2Qj"
   },
   "source": [
    "According to you, what variables are useful in understanding if a person likes a juice product or not? Try to retain those and remove the rest."
   ]
  },
  {
   "cell_type": "markdown",
   "metadata": {
    "id": "5TD1Jp6Rv2Qj"
   },
   "source": [
    "## 5. Address the missing values"
   ]
  },
  {
   "cell_type": "markdown",
   "metadata": {
    "id": "z5IlgFElv2Qj"
   },
   "source": [
    "### 5.1: Remove rows or columns containing missing values"
   ]
  },
  {
   "cell_type": "markdown",
   "metadata": {
    "id": "IltNuZwxv2Qk"
   },
   "source": [
    "Which variables (containing missing values) would you like to address using this method? Think a bit and then decide to remove either rows or columns from the data set."
   ]
  },
  {
   "cell_type": "markdown",
   "metadata": {
    "id": "mIzdCUGTv2Qk"
   },
   "source": [
    "### 5.2: Impute using the mean of the columns (for numerical variables)"
   ]
  },
  {
   "cell_type": "markdown",
   "metadata": {
    "id": "rAEgUDHqv2Qk"
   },
   "source": [
    "Which numerical variables would you like to impute using the mean? Select those and proceed using the sklearn approach we saw in Lecture 2."
   ]
  },
  {
   "cell_type": "markdown",
   "metadata": {
    "id": "pfhKyVyZv2Qk"
   },
   "source": [
    "### 5.3: Impute using the most frequent value (categorical variables)"
   ]
  },
  {
   "cell_type": "markdown",
   "metadata": {
    "id": "7BWEm7n3v2Qk"
   },
   "source": [
    "## 6. Deal with outliers"
   ]
  },
  {
   "cell_type": "markdown",
   "metadata": {
    "id": "mOERm9dDv2Qk"
   },
   "source": [
    "Here, think about how you want to address the outliers. Once again, there is no right or wrong approach. What makes sense to you? And rather what do you think would lead to a more meaningful result? To remove values beyond a certain critical number? Use the Interquartile rule? use the z-score? Or some other way you wish to handle this?"
   ]
  },
  {
   "cell_type": "markdown",
   "metadata": {
    "id": "YbU0-SERv2Qk"
   },
   "source": [
    "### 6.1 Explore the probability distribution functions"
   ]
  },
  {
   "cell_type": "markdown",
   "metadata": {
    "id": "9nFFgi4Lv2Ql"
   },
   "source": [
    "Perhaps you can start by exploring the probability distribution functions."
   ]
  },
  {
   "cell_type": "markdown",
   "metadata": {
    "id": "YHK1b-rCv2Ql"
   },
   "source": [
    "## 7. Are there any additional processing steps you could think of at this stage that could result in more insights for your company?"
   ]
  },
  {
   "cell_type": "markdown",
   "metadata": {
    "id": "sb4Fo8E2v2Ql"
   },
   "source": [
    "## 8. Correlation matrix"
   ]
  },
  {
   "cell_type": "markdown",
   "metadata": {
    "id": "08LqQYDgv2Ql"
   },
   "source": [
    "Correlation is a standardized measure of the joint variability of two variables. It takes on values between -1 and 1, thus it is easy for us to interpret the result.\n",
    "\n",
    "- A correlation of 1, known as perfect positive correlation, means that one variable is perfectly explained by the other. (We can observe a positive correlation between the interest in the product and the price a customer is willing to pay. The more interested they are, they are willing to pay more.)\n",
    "\n",
    "- A correlation of 0 means that the variables are independent.\n",
    "- A correlation of -1, known as perfect negative correlation, means that one variable is explaining the other one perfectly, but they move in opposite directions. (We can observe a negative correlation between the bottle type and the price a customer is willing to pay. In this case, the more complex the bottle design is, a customer is willing to pay less.)\n",
    "\n",
    "Sample correlation is given by:\n",
    "## $\\Gamma = \\frac{s_{xy}}{s_{x}s_{y}}$\n",
    "\n",
    "Population correlation is given by:\n",
    "## $\\rho = \\frac{\\sigma_{xy}}{\\sigma_{x}\\sigma_{y}}$"
   ]
  },
  {
   "cell_type": "markdown",
   "metadata": {
    "id": "LjqG3DICv2Ql"
   },
   "source": [
    "## 9. With the knowledge you gained regarding correlation, would you reapproach the imputation of the bottle type variable? If yes, how?"
   ]
  }
 ],
 "metadata": {
  "colab": {
   "provenance": []
  },
  "kernelspec": {
   "display_name": "Python 3",
   "language": "python",
   "name": "python3"
  },
  "language_info": {
   "codemirror_mode": {
    "name": "ipython",
    "version": 3
   },
   "file_extension": ".py",
   "mimetype": "text/x-python",
   "name": "python",
   "nbconvert_exporter": "python",
   "pygments_lexer": "ipython3",
   "version": "3.6.3"
  }
 },
 "nbformat": 4,
 "nbformat_minor": 0
}
