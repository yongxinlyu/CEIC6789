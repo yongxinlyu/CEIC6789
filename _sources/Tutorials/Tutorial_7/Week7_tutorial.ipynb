{
 "cells": [
  {
   "cell_type": "markdown",
   "id": "73d1f35d",
   "metadata": {},
   "source": [
    "# K-means clustering: Customer segmentation"
   ]
  },
  {
   "cell_type": "markdown",
   "id": "28ff5349",
   "metadata": {},
   "source": [
    "The following example helps you understand the use of k-means clustering in market segmentation. \n",
    "\n",
    "Assume that you are working are working for a bank and you have gathered relevant customer data in a file called customer_segmentation.csv (taken from Kaggle and modified). The dataset has the following columns:\n",
    "\n",
    "- Customer Id: ID of the customer\n",
    "- Age: Age of the customer\n",
    "- Edu: Education level of the customer\n",
    "- Income: Annual income in thousands of dollars\n",
    "\n",
    "Given the data, you are being asked what kind of products (could be policies, loans, investment strategies etc.) the bank should develop. Some questions that they ask you specifically could be: should we develop one investment product for all our customers? Or should we develop different ones for different sets of customers? In order to answer such questions, you take on the task of k-means clustering to find different groups of customers that then the bank can deal with independently.\n",
    "\n",
    "Here's a template that assigns several tasks for you and also provides a roadmap to guide you. Please note, you are free to follow your own coding style and name the variables the way you like."
   ]
  },
  {
   "cell_type": "markdown",
   "id": "058d2fce",
   "metadata": {},
   "source": [
    "## 1. Import the relevant libraries"
   ]
  },
  {
   "cell_type": "markdown",
   "id": "3d6a0613",
   "metadata": {},
   "source": [
    "## 2. Load the data"
   ]
  },
  {
   "cell_type": "markdown",
   "id": "955d14d3",
   "metadata": {},
   "source": [
    "## 3. Explore the descriptive statistics"
   ]
  },
  {
   "cell_type": "markdown",
   "id": "e949fec4",
   "metadata": {},
   "source": [
    "## 4. Data preprocessing"
   ]
  },
  {
   "cell_type": "markdown",
   "id": "b68796c7",
   "metadata": {},
   "source": [
    "If necessary, we carry out preprocessing here. However, in this example, we don't need to do this. So, we can proceed ahead."
   ]
  },
  {
   "cell_type": "markdown",
   "id": "9e151f04",
   "metadata": {},
   "source": [
    "## 5. Perform K-means clustering "
   ]
  },
  {
   "cell_type": "markdown",
   "id": "f4321b92",
   "metadata": {},
   "source": [
    "### 5.1 Declare the inputs "
   ]
  },
  {
   "cell_type": "markdown",
   "id": "004e36ac",
   "metadata": {},
   "source": [
    "### 5.2 Feature scaling"
   ]
  },
  {
   "cell_type": "markdown",
   "id": "9eed8352",
   "metadata": {},
   "source": [
    "Feature scaling is an important aspect of k-means clustering. Since k-means algorithm is based on euclidean distances between different features, the disparity in magnitudes amongst the features can lead to less meaningful clusters. So, feature scaling is generally performed prior to running a k-means algorithm."
   ]
  },
  {
   "cell_type": "markdown",
   "id": "fba1bf9a",
   "metadata": {},
   "source": [
    "### 5.3 Build the k-means model and find out the optimal number of clusters based on the elbow method"
   ]
  },
  {
   "cell_type": "code",
   "execution_count": null,
   "id": "357878f3",
   "metadata": {},
   "outputs": [],
   "source": [
    "from sklearn.cluster import KMeans\n",
    "\n",
    "nmin = none # minimum no of clusters you would like to investigate\n",
    "nmax = none # maximum no of clusters you would like to investigate\n",
    "\n",
    "wcss = [] # List to store the Within-Cluster-Sum-of-Squares metric for each iteration\n",
    "\n",
    "for i in range(nmin,nmax):\n",
    "    kmeans = none\n",
    "    #use the fit method\n",
    "    wcss_iter = none\n",
    "    wcss.append(wcss_iter)"
   ]
  },
  {
   "cell_type": "code",
   "execution_count": null,
   "id": "c3f6e86b",
   "metadata": {},
   "outputs": [],
   "source": [
    "wcss"
   ]
  },
  {
   "cell_type": "code",
   "execution_count": null,
   "id": "36b76034",
   "metadata": {},
   "outputs": [],
   "source": [
    "# Elbow method\n",
    "\n",
    "number_clusters = range(nmin,nmax)\n",
    "plt.plot(number_clusters,wcss)\n",
    "plt.title('The Elbow Method')\n",
    "plt.xlabel('Number of clusters')\n",
    "plt.ylabel('Within-cluster Sum of Squares')\n",
    "plt.show()"
   ]
  },
  {
   "cell_type": "markdown",
   "id": "4550a9ca",
   "metadata": {},
   "source": [
    "What value of \"number of clusters\" would you choose based on the elbow method?"
   ]
  },
  {
   "cell_type": "markdown",
   "id": "94edde19",
   "metadata": {},
   "source": [
    "### 5.4 Clustering results based on the \"optimal number of clusters\" chosen from the elbow method"
   ]
  },
  {
   "cell_type": "code",
   "execution_count": null,
   "id": "0ba5cfa3",
   "metadata": {},
   "outputs": [],
   "source": [
    "# Perform k-means clustering by choosing the optimal number of clusters"
   ]
  },
  {
   "cell_type": "code",
   "execution_count": null,
   "id": "280d06a8",
   "metadata": {},
   "outputs": [],
   "source": [
    "%matplotlib notebook\n",
    "from mpl_toolkits.mplot3d import Axes3D\n",
    " \n",
    "fig = plt.figure(figsize =(9, 9))\n",
    "ax = Axes3D(fig, \n",
    "            rect = [0, 0, .95, 1], \n",
    "            elev = 48, \n",
    "            azim = 134)\n",
    "\n",
    "ax.scatter(data_with_clusters['Edu'], data_with_clusters['Age'], data_with_clusters['Income'], \n",
    "           c = data_with_clusters['Cluster'], \n",
    "           s = 200, \n",
    "           cmap = 'hot', \n",
    "           alpha = 0.5, \n",
    "           edgecolor = 'darkgrey')\n",
    "ax.set_xlabel('Education', \n",
    "              fontsize = 16)\n",
    "ax.set_ylabel('Age', \n",
    "              fontsize = 16)\n",
    "ax.set_zlabel('Income', \n",
    "              fontsize = 16)\n",
    "\n",
    "plt.show()"
   ]
  },
  {
   "cell_type": "markdown",
   "id": "8726bf51",
   "metadata": {},
   "source": [
    "Based on the result above:\n",
    "1. How do you think the groups can be named? \n",
    "2. How would you choose to develop products for these different groups?"
   ]
  },
  {
   "cell_type": "markdown",
   "id": "eaf31281",
   "metadata": {},
   "source": [
    "- Group 1: Younger, lower education and lower income\n",
    "- Group 2: Older, lower education and lower income\n",
    "- Group 3: Higher education and lower income\n",
    "- Group 4: Older and higher income"
   ]
  },
  {
   "cell_type": "markdown",
   "id": "8ff3aa33",
   "metadata": {},
   "source": [
    "## 6. Regression following cluster analysis"
   ]
  },
  {
   "cell_type": "markdown",
   "id": "b90a2345",
   "metadata": {},
   "source": [
    "Now that you have found out different customer groups (or segments), you can look at each of these groups separately and understand the data better within each group and make additional predictions to set up suitable products and pricing of the products."
   ]
  },
  {
   "cell_type": "code",
   "execution_count": null,
   "id": "8c816f0b",
   "metadata": {},
   "outputs": [],
   "source": [
    "# As an example, create a dataframe that contains data of the customers pertaining to cluster 0 alone.\n"
   ]
  },
  {
   "cell_type": "code",
   "execution_count": null,
   "id": "81089266",
   "metadata": {},
   "outputs": [],
   "source": [
    "# Make a scatter plot of Age vs. Income of this customer segment\n",
    "\n",
    "%matplotlib inline\n",
    "plt.scatter...\n",
    "\n",
    "plt.show()"
   ]
  },
  {
   "cell_type": "markdown",
   "id": "d9abdeed",
   "metadata": {},
   "source": [
    "Homework: You can build a multiple regression model on this particular customer segment and find out how income depends on Age and the level of education."
   ]
  },
  {
   "cell_type": "markdown",
   "id": "6480ee69",
   "metadata": {},
   "source": [
    "## K-means clustering: Image Compression and Segmentation"
   ]
  },
  {
   "cell_type": "markdown",
   "id": "d05d91d9",
   "metadata": {},
   "source": [
    "The following example helps you in understanding the use of k-means for image compression and segmentation.\n",
    "\n",
    "In this case, we shall use one of the sample images available from sklearn, and see how image compression/segmentation can be achieved."
   ]
  },
  {
   "cell_type": "code",
   "execution_count": null,
   "id": "eec028c3",
   "metadata": {},
   "outputs": [],
   "source": [
    "# pick a sample image from sklearn\n",
    "from sklearn.datasets import load_sample_image\n",
    "china = load_sample_image(\"china.jpg\")\n",
    "\n",
    "# plot the image\n",
    "ax = plt.axes(xticks=[], yticks=[])\n",
    "ax.imshow(china);"
   ]
  },
  {
   "cell_type": "markdown",
   "id": "740bad2d",
   "metadata": {},
   "source": [
    "The image itself is stored in a three-dimensional array of size (height, width, RGB), containing red/blue/green contributions as integers from 0 to 255:"
   ]
  },
  {
   "cell_type": "code",
   "execution_count": null,
   "id": "9ef60a98",
   "metadata": {},
   "outputs": [],
   "source": [
    "#check the shape of \"china\"\n"
   ]
  },
  {
   "cell_type": "markdown",
   "id": "db70feda",
   "metadata": {},
   "source": [
    "This shows that the image has 427 $\\times$ 640 pixels. Each pixel has a R/G/B value associated with it, hence the third dimension has a shape 3."
   ]
  },
  {
   "cell_type": "code",
   "execution_count": null,
   "id": "9ea3f6e2",
   "metadata": {},
   "outputs": [],
   "source": [
    "china[0,0,:]"
   ]
  },
  {
   "cell_type": "markdown",
   "id": "7ddf3e33",
   "metadata": {},
   "source": [
    "This shows that the one of the pixels (0,0) has a color with a R/G/B combination of 174, 201, 231."
   ]
  },
  {
   "cell_type": "markdown",
   "id": "54797499",
   "metadata": {},
   "source": [
    "One way we can view this set of pixels is as a cloud of points in a three-dimensional color space. We will reshape the data to [n_samples x n_features], and rescale the colors so that they lie between 0 and 1:"
   ]
  },
  {
   "cell_type": "code",
   "execution_count": null,
   "id": "40c9a2ba",
   "metadata": {},
   "outputs": [],
   "source": [
    "# Rescale the pixel data so that its values are in the range [0, 1]. Here such a simple scaling approach is enough\n",
    "# since all the R/G/B values range between 0-255.\n",
    "\n",
    "data = none\n",
    "\n",
    "# Reshape the data so it's now 2D, with the first dimension of the reshaped data is equal to 427 x 640. \n",
    "# hint: you can use the np.reshape method\n",
    "\n",
    "data = none\n",
    "data.shape"
   ]
  },
  {
   "cell_type": "markdown",
   "id": "5c8b4ee6",
   "metadata": {},
   "source": [
    "Let's look at the 3D plot in the R/G/B space by randomly picking 2000 pixels from 273280 pixels. We pick a smaller number to just give us an idea and make the plot without any memory issues."
   ]
  },
  {
   "cell_type": "code",
   "execution_count": null,
   "id": "ed78b604",
   "metadata": {},
   "outputs": [],
   "source": [
    "# Randomly select N row indices from data\n",
    "N = 2000\n",
    "i = np.random.randint(0, data.shape[0], N)\n",
    "\n",
    "# Extract the colors associated with the randomly selected indices\n",
    "plot_data = data[i, :]\n",
    "\n",
    "%matplotlib notebook\n",
    "from mpl_toolkits.mplot3d import Axes3D\n",
    " \n",
    "fig = plt.figure(figsize =(9, 9))\n",
    "ax = Axes3D(fig, \n",
    "            rect = [0, 0, .95, 1], \n",
    "            elev = 48, \n",
    "            azim = 134)\n",
    "\n",
    "ax.scatter(plot_data[:,0], plot_data[:,1], plot_data[:,2], \n",
    "           s = 200, \n",
    "           cmap = 'hot', \n",
    "           alpha = 0.5, \n",
    "           edgecolor = 'darkgrey')\n",
    "ax.set_xlabel('Red', \n",
    "              fontsize = 16)\n",
    "ax.set_ylabel('Green', \n",
    "              fontsize = 16)\n",
    "ax.set_zlabel('Blue', \n",
    "              fontsize = 16)\n",
    "\n",
    "plt.show()"
   ]
  },
  {
   "cell_type": "code",
   "execution_count": null,
   "id": "ce57ca3c",
   "metadata": {},
   "outputs": [],
   "source": [
    "# Instantiate a KMeans model with a certain number of clusters\n",
    "kmeans = KMeans(n_clusters=none)\n",
    "\n",
    "# Train the model on the data\n",
    "kmeans.fit(data)"
   ]
  },
  {
   "cell_type": "code",
   "execution_count": null,
   "id": "81921432",
   "metadata": {},
   "outputs": [],
   "source": [
    "# Predict which cluster each point in the data belongs to \n",
    "# and find the color associated with the center of that cluster\n",
    "identified_clusters = kmeans.predict(data)\n",
    "\n",
    "# assign new colors to each pixel based on the centroid values\n",
    "new_colors = kmeans.cluster_centers_[identified_clusters]\n",
    "new_colors.shape"
   ]
  },
  {
   "cell_type": "code",
   "execution_count": null,
   "id": "b41a3b39",
   "metadata": {},
   "outputs": [],
   "source": [
    "# Replot the RGB data, but now with clustering results.\n",
    "\n",
    "# Randomly select N row indices from data\n",
    "N = 2000\n",
    "i = np.random.randint(0, data.shape[0], N)\n",
    "\n",
    "# Extract the colors associated with the randomly selected indices\n",
    "plot_data = data[i, :]\n",
    "plot_clusters = identified_clusters[i]\n",
    "\n",
    "%matplotlib notebook\n",
    "from mpl_toolkits.mplot3d import Axes3D\n",
    " \n",
    "fig = plt.figure(figsize =(9, 9))\n",
    "ax = Axes3D(fig, \n",
    "            rect = [0, 0, .95, 1], \n",
    "            elev = 48, \n",
    "            azim = 134)\n",
    "\n",
    "ax.scatter(plot_data[:,0], plot_data[:,1], plot_data[:,2], \n",
    "           c = plot_clusters, \n",
    "           s = 200, \n",
    "           cmap = 'hot', \n",
    "           alpha = 0.5, \n",
    "           edgecolor = 'darkgrey')\n",
    "ax.set_xlabel('Red', \n",
    "              fontsize = 16)\n",
    "ax.set_ylabel('Green', \n",
    "              fontsize = 16)\n",
    "ax.set_zlabel('Blue', \n",
    "              fontsize = 16)\n",
    "\n",
    "plt.show()"
   ]
  },
  {
   "cell_type": "code",
   "execution_count": null,
   "id": "27e367ce",
   "metadata": {},
   "outputs": [],
   "source": [
    "# Replot the image and compare with the original one\n",
    "china_recolored = new_colors.reshape(china.shape)\n",
    "\n",
    "%matplotlib inline\n",
    "fig, ax = plt.subplots(1, 2, figsize=(16, 6),\n",
    "                       subplot_kw=dict(xticks=[], yticks=[]))\n",
    "fig.subplots_adjust(wspace=0.05)\n",
    "ax[0].imshow(china)\n",
    "ax[0].set_title('Original Image', size=16)\n",
    "ax[1].imshow(china_recolored)\n",
    "ax[1].set_title('reduced-color Image', size=16);"
   ]
  },
  {
   "cell_type": "markdown",
   "id": "7b0fa076",
   "metadata": {},
   "source": [
    "What do you observe? "
   ]
  },
  {
   "cell_type": "code",
   "execution_count": null,
   "id": "c08d72c1",
   "metadata": {},
   "outputs": [],
   "source": []
  }
 ],
 "metadata": {
  "kernelspec": {
   "display_name": "Python 3",
   "language": "python",
   "name": "python3"
  },
  "language_info": {
   "codemirror_mode": {
    "name": "ipython",
    "version": 3
   },
   "file_extension": ".py",
   "mimetype": "text/x-python",
   "name": "python",
   "nbconvert_exporter": "python",
   "pygments_lexer": "ipython3",
   "version": "3.8.8"
  }
 },
 "nbformat": 4,
 "nbformat_minor": 5
}
