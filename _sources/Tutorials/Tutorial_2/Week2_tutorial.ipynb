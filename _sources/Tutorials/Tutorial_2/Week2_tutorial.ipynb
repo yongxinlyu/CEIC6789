{
 "cells": [
  {
   "cell_type": "markdown",
   "metadata": {},
   "source": [
    "# Data preprocessing and analysis"
   ]
  },
  {
   "cell_type": "markdown",
   "metadata": {},
   "source": [
    "A juice manufacturing company has introduced a new product. They wanted to know if people liked the product or not, so they conducted an experiment where randomly chosen customers were asked to drink the juice and say whether they would be interested in buying the product. They have collected some relevant data, which is contained in juice_product.xlsx.\n",
    "\n",
    "There are seven variables (or columns):\n",
    "- Customer ID : A number assigned to the customer by the company.\n",
    "- Interested? : If the customer is willing to buy the product, the value is 1. If not, the value is 0.\n",
    "- Bottle type : The company tried selling the product in 3 different bottle designs namely 1, 2 and 3, in the increasing order of complexity; 1 being a simple design, while 3 being a complex design. This variable refers to the bottle design the customer received.\n",
    "- Age : The age of the customer.\n",
    "- Price : The amount the customer is willing to pay for a bottle of this product.\n",
    "- Customer name : Name of the customer. Although this was asked, later they had to delete all the names due to privacy reasons.\n",
    "- Gender : The gender of the customer.\n",
    "\n",
    "Now, you have been handed this data set and asked to preprocess the data, and if possible, obtain some useful insights already with the data you have. \n",
    "\n",
    "Here's a template to guide you with the process. There is no right or wrong answer when it comes to data science. Some approaches lead to a greater prediction accuracy, while some lead to a lower accuracy. So, this is a template I have given you based on how I approached this problem. This doesn't mean it's the best template. So, feel free to explore your own template and approach this problem in your own way.\n"
   ]
  },
  {
   "cell_type": "markdown",
   "metadata": {},
   "source": [
    "## 1. Import the relevant libraries"
   ]
  },
  {
   "cell_type": "markdown",
   "metadata": {},
   "source": [
    "## 2. Load the raw data"
   ]
  },
  {
   "cell_type": "markdown",
   "metadata": {},
   "source": [
    "## 3. Explore the descriptive statistics"
   ]
  },
  {
   "cell_type": "markdown",
   "metadata": {},
   "source": [
    "## 4. Determine the variables of interest to us"
   ]
  },
  {
   "cell_type": "markdown",
   "metadata": {},
   "source": [
    "According to you, what variables are useful in understanding if a person likes a juice product or not? Try to retain those and remove the rest."
   ]
  },
  {
   "cell_type": "markdown",
   "metadata": {},
   "source": [
    "## 5. Address the missing values"
   ]
  },
  {
   "cell_type": "markdown",
   "metadata": {},
   "source": [
    "### 5.1: Remove rows or columns containing missing values"
   ]
  },
  {
   "cell_type": "markdown",
   "metadata": {},
   "source": [
    "Which variables (containing missing values) would you like to address using this method? Think a bit and then decide to remove either rows or columns from the data set."
   ]
  },
  {
   "cell_type": "markdown",
   "metadata": {},
   "source": [
    "### 5.2: Impute using the mean of the columns (for numerical variables)"
   ]
  },
  {
   "cell_type": "markdown",
   "metadata": {},
   "source": [
    "Which numerical variables would you like to impute using the mean? Select those and proceed using the sklearn approach we saw in Lecture 2."
   ]
  },
  {
   "cell_type": "markdown",
   "metadata": {},
   "source": [
    "### 5.3: Impute using the most frequent value (categorical variables)"
   ]
  },
  {
   "cell_type": "markdown",
   "metadata": {},
   "source": [
    "## 6. Deal with outliers"
   ]
  },
  {
   "cell_type": "markdown",
   "metadata": {},
   "source": [
    "Here, think about how you want to address the outliers. Once again, there is no right or wrong approach. What makes sense to you? And rather what do you think would lead to a more meaningful result? To remove values beyond a certain critical number? Use the Interquartile rule? use the z-score? Or some other way you wish to handle this?"
   ]
  },
  {
   "cell_type": "markdown",
   "metadata": {},
   "source": [
    "### 6.1 Explore the probability distribution functions"
   ]
  },
  {
   "cell_type": "markdown",
   "metadata": {},
   "source": [
    "Perhaps you can start by exploring the probability distribution functions."
   ]
  },
  {
   "cell_type": "markdown",
   "metadata": {},
   "source": [
    "## 7. Are there any additional processing steps you could think of at this stage that could result in more insights for your company?"
   ]
  },
  {
   "cell_type": "markdown",
   "metadata": {},
   "source": [
    "## 8. Correlation matrix"
   ]
  },
  {
   "cell_type": "markdown",
   "metadata": {},
   "source": [
    "Correlation is a standardized measure of the joint variability of two variables. It takes on values between -1 and 1, thus it is easy for us to interpret the result.\n",
    "\n",
    "- A correlation of 1, known as perfect positive correlation, means that one variable is perfectly explained by the other. (We can observe a positive correlation between the interest in the product and the price a customer is willing to pay. The more interested they are, they are willing to pay more.)\n",
    "\n",
    "- A correlation of 0 means that the variables are independent.\n",
    "- A correlation of -1, known as perfect negative correlation, means that one variable is explaining the other one perfectly, but they move in opposite directions. (We can observe a negative correlation between the bottle type and the price a customer is willing to pay. In this case, the more complex the bottle design is, a customer is willing to pay less.)\n",
    "\n",
    "Sample correlation is given by: \n",
    "## $\\Gamma = \\frac{s_{xy}}{s_{x}s_{y}}$\n",
    "\n",
    "Population correlation is given by: \n",
    "## $\\rho = \\frac{\\sigma_{xy}}{\\sigma_{x}\\sigma_{y}}$"
   ]
  },
  {
   "cell_type": "markdown",
   "metadata": {},
   "source": [
    "## 9. With the knowledge you gained regarding correlation, would you reapproach the imputation of the bottle type variable? If yes, how?"
   ]
  }
 ],
 "metadata": {
  "kernelspec": {
   "display_name": "Python 3",
   "language": "python",
   "name": "python3"
  },
  "language_info": {
   "codemirror_mode": {
    "name": "ipython",
    "version": 3
   },
   "file_extension": ".py",
   "mimetype": "text/x-python",
   "name": "python",
   "nbconvert_exporter": "python",
   "pygments_lexer": "ipython3",
   "version": "3.6.3"
  }
 },
 "nbformat": 4,
 "nbformat_minor": 2
}
