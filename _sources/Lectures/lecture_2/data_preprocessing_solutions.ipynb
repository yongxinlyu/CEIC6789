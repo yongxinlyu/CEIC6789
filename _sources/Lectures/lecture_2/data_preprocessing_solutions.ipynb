{
 "cells": [
  {
   "cell_type": "markdown",
   "metadata": {},
   "source": [
    "[📄 Download lecture notes (PDF)](Lecture2_notes.pdf)"
   ]
  },
  {
   "cell_type": "markdown",
   "metadata": {},
   "source": [
    "# Data preprocessing"
   ]
  },
  {
   "cell_type": "markdown",
   "metadata": {},
   "source": [
    "## Import the relevant libraries"
   ]
  },
  {
   "cell_type": "code",
   "execution_count": 6,
   "metadata": {
    "collapsed": true
   },
   "outputs": [],
   "source": [
    "import numpy as np\n",
    "import pandas as pd\n",
    "import matplotlib.pyplot as plt\n",
    "import seaborn as sns\n",
    "sns.set_theme()"
   ]
  },
  {
   "cell_type": "markdown",
   "metadata": {},
   "source": [
    "## Load the raw data"
   ]
  },
  {
   "cell_type": "code",
   "execution_count": null,
   "metadata": {},
   "outputs": [
    {
     "data": {
      "application/vnd.microsoft.datawrangler.viewer.v0+json": {
       "columns": [
        {
         "name": "index",
         "rawType": "int64",
         "type": "integer"
        },
        {
         "name": "Sample",
         "rawType": "int64",
         "type": "integer"
        },
        {
         "name": "Acetic",
         "rawType": "float64",
         "type": "float"
        },
        {
         "name": "Animal",
         "rawType": "object",
         "type": "unknown"
        },
        {
         "name": "H2S",
         "rawType": "float64",
         "type": "float"
        },
        {
         "name": "Lactic",
         "rawType": "float64",
         "type": "float"
        },
        {
         "name": "Taste",
         "rawType": "float64",
         "type": "float"
        }
       ],
       "ref": "5b9e73a8-540a-483c-8d53-c2fe0b4a7c73",
       "rows": [
        [
         "0",
         "1",
         "4.543",
         "sheep",
         "3.135",
         "0.86",
         "12.3"
        ],
        [
         "1",
         "2",
         "5.159",
         "sheep",
         "5.043",
         "1.53",
         "20.9"
        ],
        [
         "2",
         "3",
         "5.366",
         "cow",
         "5.438",
         "1.57",
         "39.0"
        ],
        [
         "3",
         "4",
         "5.759",
         "sheep",
         "7.496",
         "1.81",
         "47.9"
        ],
        [
         "4",
         "5",
         "4.663",
         "cow",
         "3.807",
         "0.99",
         "5.6"
        ],
        [
         "5",
         "6",
         "5.697",
         "goat",
         "7.601",
         "1.09",
         "25.9"
        ],
        [
         "6",
         "7",
         "5.892",
         "cow",
         "8.726",
         "1.29",
         "37.3"
        ],
        [
         "7",
         "8",
         "6.078",
         "cow",
         "7.966",
         "1.78",
         "21.9"
        ],
        [
         "8",
         "9",
         "4.898",
         "sheep",
         "3.85",
         "1.29",
         "18.1"
        ],
        [
         "9",
         "10",
         "5.242",
         "sheep",
         "4.174",
         "1.58",
         "21.0"
        ],
        [
         "10",
         "11",
         "5.74",
         "goat",
         "6.142",
         "1.68",
         "34.9"
        ],
        [
         "11",
         "12",
         "6.446",
         "goat",
         "7.908",
         "1.9",
         "57.2"
        ],
        [
         "12",
         "13",
         "4.477",
         "sheep",
         "2.996",
         null,
         "0.7"
        ],
        [
         "13",
         "14",
         "5.236",
         "sheep",
         "4.942",
         "1.3",
         "25.9"
        ],
        [
         "14",
         "15",
         "6.151",
         null,
         "6.752",
         "1.52",
         "54.9"
        ],
        [
         "15",
         "16",
         "6.365",
         "sheep",
         "9.588",
         "1.74",
         "40.9"
        ],
        [
         "16",
         "17",
         "4.787",
         "cow",
         "3.912",
         null,
         "15.9"
        ],
        [
         "17",
         "18",
         "15.213",
         "goat",
         "4.7",
         "1.49",
         "6.4"
        ],
        [
         "18",
         "19",
         "5.247",
         "sheep",
         "6.174",
         "1.63",
         "18.0"
        ],
        [
         "19",
         "20",
         "5.438",
         null,
         "9.064",
         "1.99",
         "38.9"
        ],
        [
         "20",
         "21",
         "4.564",
         "goat",
         "4.949",
         null,
         "14.0"
        ],
        [
         "21",
         "22",
         "5.298",
         "sheep",
         "5.22",
         "1.33",
         "15.2"
        ],
        [
         "22",
         "23",
         "5.455",
         "goat",
         "9.242",
         "1.44",
         "32.0"
        ],
        [
         "23",
         "24",
         "5.855",
         "sheep",
         "10.199",
         "2.0",
         "56.71"
        ],
        [
         "24",
         "25",
         "5.366",
         "goat",
         "3.664",
         "1.31",
         "16.8"
        ],
        [
         "25",
         "26",
         "12.052",
         "cow",
         "3.219",
         "1.46",
         "11.6"
        ],
        [
         "26",
         "27",
         "6.458",
         "sheep",
         "6.962",
         "1.72",
         "26.5"
        ],
        [
         "27",
         "28",
         "5.328",
         "cow",
         "3.912",
         "1.25",
         "0.7"
        ],
        [
         "28",
         "29",
         "5.802",
         "goat",
         "6.685",
         "1.08",
         "13.4"
        ],
        [
         "29",
         "30",
         "6.176",
         "cow",
         "4.787",
         "1.25",
         "5.5"
        ]
       ],
       "shape": {
        "columns": 6,
        "rows": 30
       }
      },
      "text/html": [
       "<div>\n",
       "<style scoped>\n",
       "    .dataframe tbody tr th:only-of-type {\n",
       "        vertical-align: middle;\n",
       "    }\n",
       "\n",
       "    .dataframe tbody tr th {\n",
       "        vertical-align: top;\n",
       "    }\n",
       "\n",
       "    .dataframe thead th {\n",
       "        text-align: right;\n",
       "    }\n",
       "</style>\n",
       "<table border=\"1\" class=\"dataframe\">\n",
       "  <thead>\n",
       "    <tr style=\"text-align: right;\">\n",
       "      <th></th>\n",
       "      <th>Sample</th>\n",
       "      <th>Acetic</th>\n",
       "      <th>Animal</th>\n",
       "      <th>H2S</th>\n",
       "      <th>Lactic</th>\n",
       "      <th>Taste</th>\n",
       "    </tr>\n",
       "  </thead>\n",
       "  <tbody>\n",
       "    <tr>\n",
       "      <th>0</th>\n",
       "      <td>1</td>\n",
       "      <td>4.543</td>\n",
       "      <td>sheep</td>\n",
       "      <td>3.135</td>\n",
       "      <td>0.86</td>\n",
       "      <td>12.30</td>\n",
       "    </tr>\n",
       "    <tr>\n",
       "      <th>1</th>\n",
       "      <td>2</td>\n",
       "      <td>5.159</td>\n",
       "      <td>sheep</td>\n",
       "      <td>5.043</td>\n",
       "      <td>1.53</td>\n",
       "      <td>20.90</td>\n",
       "    </tr>\n",
       "    <tr>\n",
       "      <th>2</th>\n",
       "      <td>3</td>\n",
       "      <td>5.366</td>\n",
       "      <td>cow</td>\n",
       "      <td>5.438</td>\n",
       "      <td>1.57</td>\n",
       "      <td>39.00</td>\n",
       "    </tr>\n",
       "    <tr>\n",
       "      <th>3</th>\n",
       "      <td>4</td>\n",
       "      <td>5.759</td>\n",
       "      <td>sheep</td>\n",
       "      <td>7.496</td>\n",
       "      <td>1.81</td>\n",
       "      <td>47.90</td>\n",
       "    </tr>\n",
       "    <tr>\n",
       "      <th>4</th>\n",
       "      <td>5</td>\n",
       "      <td>4.663</td>\n",
       "      <td>cow</td>\n",
       "      <td>3.807</td>\n",
       "      <td>0.99</td>\n",
       "      <td>5.60</td>\n",
       "    </tr>\n",
       "    <tr>\n",
       "      <th>5</th>\n",
       "      <td>6</td>\n",
       "      <td>5.697</td>\n",
       "      <td>goat</td>\n",
       "      <td>7.601</td>\n",
       "      <td>1.09</td>\n",
       "      <td>25.90</td>\n",
       "    </tr>\n",
       "    <tr>\n",
       "      <th>6</th>\n",
       "      <td>7</td>\n",
       "      <td>5.892</td>\n",
       "      <td>cow</td>\n",
       "      <td>8.726</td>\n",
       "      <td>1.29</td>\n",
       "      <td>37.30</td>\n",
       "    </tr>\n",
       "    <tr>\n",
       "      <th>7</th>\n",
       "      <td>8</td>\n",
       "      <td>6.078</td>\n",
       "      <td>cow</td>\n",
       "      <td>7.966</td>\n",
       "      <td>1.78</td>\n",
       "      <td>21.90</td>\n",
       "    </tr>\n",
       "    <tr>\n",
       "      <th>8</th>\n",
       "      <td>9</td>\n",
       "      <td>4.898</td>\n",
       "      <td>sheep</td>\n",
       "      <td>3.850</td>\n",
       "      <td>1.29</td>\n",
       "      <td>18.10</td>\n",
       "    </tr>\n",
       "    <tr>\n",
       "      <th>9</th>\n",
       "      <td>10</td>\n",
       "      <td>5.242</td>\n",
       "      <td>sheep</td>\n",
       "      <td>4.174</td>\n",
       "      <td>1.58</td>\n",
       "      <td>21.00</td>\n",
       "    </tr>\n",
       "    <tr>\n",
       "      <th>10</th>\n",
       "      <td>11</td>\n",
       "      <td>5.740</td>\n",
       "      <td>goat</td>\n",
       "      <td>6.142</td>\n",
       "      <td>1.68</td>\n",
       "      <td>34.90</td>\n",
       "    </tr>\n",
       "    <tr>\n",
       "      <th>11</th>\n",
       "      <td>12</td>\n",
       "      <td>6.446</td>\n",
       "      <td>goat</td>\n",
       "      <td>7.908</td>\n",
       "      <td>1.90</td>\n",
       "      <td>57.20</td>\n",
       "    </tr>\n",
       "    <tr>\n",
       "      <th>12</th>\n",
       "      <td>13</td>\n",
       "      <td>4.477</td>\n",
       "      <td>sheep</td>\n",
       "      <td>2.996</td>\n",
       "      <td>NaN</td>\n",
       "      <td>0.70</td>\n",
       "    </tr>\n",
       "    <tr>\n",
       "      <th>13</th>\n",
       "      <td>14</td>\n",
       "      <td>5.236</td>\n",
       "      <td>sheep</td>\n",
       "      <td>4.942</td>\n",
       "      <td>1.30</td>\n",
       "      <td>25.90</td>\n",
       "    </tr>\n",
       "    <tr>\n",
       "      <th>14</th>\n",
       "      <td>15</td>\n",
       "      <td>6.151</td>\n",
       "      <td>NaN</td>\n",
       "      <td>6.752</td>\n",
       "      <td>1.52</td>\n",
       "      <td>54.90</td>\n",
       "    </tr>\n",
       "    <tr>\n",
       "      <th>15</th>\n",
       "      <td>16</td>\n",
       "      <td>6.365</td>\n",
       "      <td>sheep</td>\n",
       "      <td>9.588</td>\n",
       "      <td>1.74</td>\n",
       "      <td>40.90</td>\n",
       "    </tr>\n",
       "    <tr>\n",
       "      <th>16</th>\n",
       "      <td>17</td>\n",
       "      <td>4.787</td>\n",
       "      <td>cow</td>\n",
       "      <td>3.912</td>\n",
       "      <td>NaN</td>\n",
       "      <td>15.90</td>\n",
       "    </tr>\n",
       "    <tr>\n",
       "      <th>17</th>\n",
       "      <td>18</td>\n",
       "      <td>15.213</td>\n",
       "      <td>goat</td>\n",
       "      <td>4.700</td>\n",
       "      <td>1.49</td>\n",
       "      <td>6.40</td>\n",
       "    </tr>\n",
       "    <tr>\n",
       "      <th>18</th>\n",
       "      <td>19</td>\n",
       "      <td>5.247</td>\n",
       "      <td>sheep</td>\n",
       "      <td>6.174</td>\n",
       "      <td>1.63</td>\n",
       "      <td>18.00</td>\n",
       "    </tr>\n",
       "    <tr>\n",
       "      <th>19</th>\n",
       "      <td>20</td>\n",
       "      <td>5.438</td>\n",
       "      <td>NaN</td>\n",
       "      <td>9.064</td>\n",
       "      <td>1.99</td>\n",
       "      <td>38.90</td>\n",
       "    </tr>\n",
       "    <tr>\n",
       "      <th>20</th>\n",
       "      <td>21</td>\n",
       "      <td>4.564</td>\n",
       "      <td>goat</td>\n",
       "      <td>4.949</td>\n",
       "      <td>NaN</td>\n",
       "      <td>14.00</td>\n",
       "    </tr>\n",
       "    <tr>\n",
       "      <th>21</th>\n",
       "      <td>22</td>\n",
       "      <td>5.298</td>\n",
       "      <td>sheep</td>\n",
       "      <td>5.220</td>\n",
       "      <td>1.33</td>\n",
       "      <td>15.20</td>\n",
       "    </tr>\n",
       "    <tr>\n",
       "      <th>22</th>\n",
       "      <td>23</td>\n",
       "      <td>5.455</td>\n",
       "      <td>goat</td>\n",
       "      <td>9.242</td>\n",
       "      <td>1.44</td>\n",
       "      <td>32.00</td>\n",
       "    </tr>\n",
       "    <tr>\n",
       "      <th>23</th>\n",
       "      <td>24</td>\n",
       "      <td>5.855</td>\n",
       "      <td>sheep</td>\n",
       "      <td>10.199</td>\n",
       "      <td>2.00</td>\n",
       "      <td>56.71</td>\n",
       "    </tr>\n",
       "    <tr>\n",
       "      <th>24</th>\n",
       "      <td>25</td>\n",
       "      <td>5.366</td>\n",
       "      <td>goat</td>\n",
       "      <td>3.664</td>\n",
       "      <td>1.31</td>\n",
       "      <td>16.80</td>\n",
       "    </tr>\n",
       "    <tr>\n",
       "      <th>25</th>\n",
       "      <td>26</td>\n",
       "      <td>12.052</td>\n",
       "      <td>cow</td>\n",
       "      <td>3.219</td>\n",
       "      <td>1.46</td>\n",
       "      <td>11.60</td>\n",
       "    </tr>\n",
       "    <tr>\n",
       "      <th>26</th>\n",
       "      <td>27</td>\n",
       "      <td>6.458</td>\n",
       "      <td>sheep</td>\n",
       "      <td>6.962</td>\n",
       "      <td>1.72</td>\n",
       "      <td>26.50</td>\n",
       "    </tr>\n",
       "    <tr>\n",
       "      <th>27</th>\n",
       "      <td>28</td>\n",
       "      <td>5.328</td>\n",
       "      <td>cow</td>\n",
       "      <td>3.912</td>\n",
       "      <td>1.25</td>\n",
       "      <td>0.70</td>\n",
       "    </tr>\n",
       "    <tr>\n",
       "      <th>28</th>\n",
       "      <td>29</td>\n",
       "      <td>5.802</td>\n",
       "      <td>goat</td>\n",
       "      <td>6.685</td>\n",
       "      <td>1.08</td>\n",
       "      <td>13.40</td>\n",
       "    </tr>\n",
       "    <tr>\n",
       "      <th>29</th>\n",
       "      <td>30</td>\n",
       "      <td>6.176</td>\n",
       "      <td>cow</td>\n",
       "      <td>4.787</td>\n",
       "      <td>1.25</td>\n",
       "      <td>5.50</td>\n",
       "    </tr>\n",
       "  </tbody>\n",
       "</table>\n",
       "</div>"
      ],
      "text/plain": [
       "    Sample  Acetic Animal     H2S  Lactic  Taste\n",
       "0        1   4.543  sheep   3.135    0.86  12.30\n",
       "1        2   5.159  sheep   5.043    1.53  20.90\n",
       "2        3   5.366    cow   5.438    1.57  39.00\n",
       "3        4   5.759  sheep   7.496    1.81  47.90\n",
       "4        5   4.663    cow   3.807    0.99   5.60\n",
       "5        6   5.697   goat   7.601    1.09  25.90\n",
       "6        7   5.892    cow   8.726    1.29  37.30\n",
       "7        8   6.078    cow   7.966    1.78  21.90\n",
       "8        9   4.898  sheep   3.850    1.29  18.10\n",
       "9       10   5.242  sheep   4.174    1.58  21.00\n",
       "10      11   5.740   goat   6.142    1.68  34.90\n",
       "11      12   6.446   goat   7.908    1.90  57.20\n",
       "12      13   4.477  sheep   2.996     NaN   0.70\n",
       "13      14   5.236  sheep   4.942    1.30  25.90\n",
       "14      15   6.151    NaN   6.752    1.52  54.90\n",
       "15      16   6.365  sheep   9.588    1.74  40.90\n",
       "16      17   4.787    cow   3.912     NaN  15.90\n",
       "17      18  15.213   goat   4.700    1.49   6.40\n",
       "18      19   5.247  sheep   6.174    1.63  18.00\n",
       "19      20   5.438    NaN   9.064    1.99  38.90\n",
       "20      21   4.564   goat   4.949     NaN  14.00\n",
       "21      22   5.298  sheep   5.220    1.33  15.20\n",
       "22      23   5.455   goat   9.242    1.44  32.00\n",
       "23      24   5.855  sheep  10.199    2.00  56.71\n",
       "24      25   5.366   goat   3.664    1.31  16.80\n",
       "25      26  12.052    cow   3.219    1.46  11.60\n",
       "26      27   6.458  sheep   6.962    1.72  26.50\n",
       "27      28   5.328    cow   3.912    1.25   0.70\n",
       "28      29   5.802   goat   6.685    1.08  13.40\n",
       "29      30   6.176    cow   4.787    1.25   5.50"
      ]
     },
     "execution_count": 13,
     "metadata": {},
     "output_type": "execute_result"
    }
   ],
   "source": [
    "#raw_data = pd.read_excel('cheese_taste.xlsx')\n",
    "url = \"https://raw.githubusercontent.com/yongxinlyu/CEIC6789/main/Lectures/lecture_2/cheese_taste.xlsx\"\n",
    "raw_data = pd.read_excel(url)\n",
    "raw_data"
   ]
  },
  {
   "cell_type": "markdown",
   "metadata": {},
   "source": [
    "## Explore the descriptive statistics of the variables"
   ]
  },
  {
   "cell_type": "code",
   "execution_count": 5,
   "metadata": {
    "tags": [
     "hide-input"
    ]
   },
   "outputs": [
    {
     "data": {
      "application/vnd.microsoft.datawrangler.viewer.v0+json": {
       "columns": [
        {
         "name": "index",
         "rawType": "object",
         "type": "string"
        },
        {
         "name": "Sample",
         "rawType": "float64",
         "type": "float"
        },
        {
         "name": "Acetic",
         "rawType": "float64",
         "type": "float"
        },
        {
         "name": "Animal",
         "rawType": "object",
         "type": "unknown"
        },
        {
         "name": "H2S",
         "rawType": "float64",
         "type": "float"
        },
        {
         "name": "Lactic",
         "rawType": "float64",
         "type": "float"
        },
        {
         "name": "Taste",
         "rawType": "float64",
         "type": "float"
        }
       ],
       "ref": "a0a5b004-633f-44c0-9dec-89f7dd789c71",
       "rows": [
        [
         "count",
         "30.0",
         "30.0",
         "28",
         "30.0",
         "27.0",
         "30.0"
        ],
        [
         "unique",
         null,
         null,
         "3",
         null,
         null,
         null
        ],
        [
         "top",
         null,
         null,
         "sheep",
         null,
         null,
         null
        ],
        [
         "freq",
         null,
         null,
         "12",
         null,
         null,
         null
        ],
        [
         "mean",
         "15.5",
         "6.025033333333332",
         null,
         "5.941766666666666",
         "1.477037037037037",
         "24.533666666666665"
        ],
        [
         "std",
         "8.803408430829505",
         "2.1826111929384564",
         null,
         "2.126879172083755",
         "0.29845518687987077",
         "16.25606528363328"
        ],
        [
         "min",
         "1.0",
         "4.477",
         null,
         "2.996",
         "0.86",
         "0.7"
        ],
        [
         "25%",
         "8.25",
         "5.2375",
         null,
         "3.9775",
         "1.29",
         "13.55"
        ],
        [
         "50%",
         "15.5",
         "5.4465",
         null,
         "5.329",
         "1.49",
         "20.95"
        ],
        [
         "75%",
         "22.75",
         "6.0315",
         null,
         "7.57475",
         "1.7",
         "36.699999999999996"
        ],
        [
         "max",
         "30.0",
         "15.213",
         null,
         "10.199",
         "2.0",
         "57.2"
        ]
       ],
       "shape": {
        "columns": 6,
        "rows": 11
       }
      },
      "text/html": [
       "<div>\n",
       "<style scoped>\n",
       "    .dataframe tbody tr th:only-of-type {\n",
       "        vertical-align: middle;\n",
       "    }\n",
       "\n",
       "    .dataframe tbody tr th {\n",
       "        vertical-align: top;\n",
       "    }\n",
       "\n",
       "    .dataframe thead th {\n",
       "        text-align: right;\n",
       "    }\n",
       "</style>\n",
       "<table border=\"1\" class=\"dataframe\">\n",
       "  <thead>\n",
       "    <tr style=\"text-align: right;\">\n",
       "      <th></th>\n",
       "      <th>Sample</th>\n",
       "      <th>Acetic</th>\n",
       "      <th>Animal</th>\n",
       "      <th>H2S</th>\n",
       "      <th>Lactic</th>\n",
       "      <th>Taste</th>\n",
       "    </tr>\n",
       "  </thead>\n",
       "  <tbody>\n",
       "    <tr>\n",
       "      <th>count</th>\n",
       "      <td>30.000000</td>\n",
       "      <td>30.000000</td>\n",
       "      <td>28</td>\n",
       "      <td>30.000000</td>\n",
       "      <td>27.000000</td>\n",
       "      <td>30.000000</td>\n",
       "    </tr>\n",
       "    <tr>\n",
       "      <th>unique</th>\n",
       "      <td>NaN</td>\n",
       "      <td>NaN</td>\n",
       "      <td>3</td>\n",
       "      <td>NaN</td>\n",
       "      <td>NaN</td>\n",
       "      <td>NaN</td>\n",
       "    </tr>\n",
       "    <tr>\n",
       "      <th>top</th>\n",
       "      <td>NaN</td>\n",
       "      <td>NaN</td>\n",
       "      <td>sheep</td>\n",
       "      <td>NaN</td>\n",
       "      <td>NaN</td>\n",
       "      <td>NaN</td>\n",
       "    </tr>\n",
       "    <tr>\n",
       "      <th>freq</th>\n",
       "      <td>NaN</td>\n",
       "      <td>NaN</td>\n",
       "      <td>12</td>\n",
       "      <td>NaN</td>\n",
       "      <td>NaN</td>\n",
       "      <td>NaN</td>\n",
       "    </tr>\n",
       "    <tr>\n",
       "      <th>mean</th>\n",
       "      <td>15.500000</td>\n",
       "      <td>6.025033</td>\n",
       "      <td>NaN</td>\n",
       "      <td>5.941767</td>\n",
       "      <td>1.477037</td>\n",
       "      <td>24.533667</td>\n",
       "    </tr>\n",
       "    <tr>\n",
       "      <th>std</th>\n",
       "      <td>8.803408</td>\n",
       "      <td>2.182611</td>\n",
       "      <td>NaN</td>\n",
       "      <td>2.126879</td>\n",
       "      <td>0.298455</td>\n",
       "      <td>16.256065</td>\n",
       "    </tr>\n",
       "    <tr>\n",
       "      <th>min</th>\n",
       "      <td>1.000000</td>\n",
       "      <td>4.477000</td>\n",
       "      <td>NaN</td>\n",
       "      <td>2.996000</td>\n",
       "      <td>0.860000</td>\n",
       "      <td>0.700000</td>\n",
       "    </tr>\n",
       "    <tr>\n",
       "      <th>25%</th>\n",
       "      <td>8.250000</td>\n",
       "      <td>5.237500</td>\n",
       "      <td>NaN</td>\n",
       "      <td>3.977500</td>\n",
       "      <td>1.290000</td>\n",
       "      <td>13.550000</td>\n",
       "    </tr>\n",
       "    <tr>\n",
       "      <th>50%</th>\n",
       "      <td>15.500000</td>\n",
       "      <td>5.446500</td>\n",
       "      <td>NaN</td>\n",
       "      <td>5.329000</td>\n",
       "      <td>1.490000</td>\n",
       "      <td>20.950000</td>\n",
       "    </tr>\n",
       "    <tr>\n",
       "      <th>75%</th>\n",
       "      <td>22.750000</td>\n",
       "      <td>6.031500</td>\n",
       "      <td>NaN</td>\n",
       "      <td>7.574750</td>\n",
       "      <td>1.700000</td>\n",
       "      <td>36.700000</td>\n",
       "    </tr>\n",
       "    <tr>\n",
       "      <th>max</th>\n",
       "      <td>30.000000</td>\n",
       "      <td>15.213000</td>\n",
       "      <td>NaN</td>\n",
       "      <td>10.199000</td>\n",
       "      <td>2.000000</td>\n",
       "      <td>57.200000</td>\n",
       "    </tr>\n",
       "  </tbody>\n",
       "</table>\n",
       "</div>"
      ],
      "text/plain": [
       "           Sample     Acetic Animal        H2S     Lactic      Taste\n",
       "count   30.000000  30.000000     28  30.000000  27.000000  30.000000\n",
       "unique        NaN        NaN      3        NaN        NaN        NaN\n",
       "top           NaN        NaN  sheep        NaN        NaN        NaN\n",
       "freq          NaN        NaN     12        NaN        NaN        NaN\n",
       "mean    15.500000   6.025033    NaN   5.941767   1.477037  24.533667\n",
       "std      8.803408   2.182611    NaN   2.126879   0.298455  16.256065\n",
       "min      1.000000   4.477000    NaN   2.996000   0.860000   0.700000\n",
       "25%      8.250000   5.237500    NaN   3.977500   1.290000  13.550000\n",
       "50%     15.500000   5.446500    NaN   5.329000   1.490000  20.950000\n",
       "75%     22.750000   6.031500    NaN   7.574750   1.700000  36.700000\n",
       "max     30.000000  15.213000    NaN  10.199000   2.000000  57.200000"
      ]
     },
     "execution_count": 5,
     "metadata": {},
     "output_type": "execute_result"
    }
   ],
   "source": [
    "raw_data.describe(include='all')"
   ]
  },
  {
   "cell_type": "markdown",
   "metadata": {},
   "source": [
    "## Determine the variables of interest to us"
   ]
  },
  {
   "cell_type": "code",
   "execution_count": 4,
   "metadata": {},
   "outputs": [
    {
     "data": {
      "application/vnd.microsoft.datawrangler.viewer.v0+json": {
       "columns": [
        {
         "name": "index",
         "rawType": "object",
         "type": "string"
        },
        {
         "name": "Acetic",
         "rawType": "float64",
         "type": "float"
        },
        {
         "name": "Animal",
         "rawType": "object",
         "type": "unknown"
        },
        {
         "name": "H2S",
         "rawType": "float64",
         "type": "float"
        },
        {
         "name": "Lactic",
         "rawType": "float64",
         "type": "float"
        },
        {
         "name": "Taste",
         "rawType": "float64",
         "type": "float"
        }
       ],
       "ref": "fa51ff14-2131-4aa1-86fb-7d8a9ea4c64f",
       "rows": [
        [
         "count",
         "30.0",
         "28",
         "30.0",
         "27.0",
         "30.0"
        ],
        [
         "unique",
         null,
         "3",
         null,
         null,
         null
        ],
        [
         "top",
         null,
         "sheep",
         null,
         null,
         null
        ],
        [
         "freq",
         null,
         "12",
         null,
         null,
         null
        ],
        [
         "mean",
         "6.025033333333332",
         null,
         "5.941766666666666",
         "1.477037037037037",
         "24.533666666666665"
        ],
        [
         "std",
         "2.1826111929384564",
         null,
         "2.126879172083755",
         "0.29845518687987077",
         "16.25606528363328"
        ],
        [
         "min",
         "4.477",
         null,
         "2.996",
         "0.86",
         "0.7"
        ],
        [
         "25%",
         "5.2375",
         null,
         "3.9775",
         "1.29",
         "13.55"
        ],
        [
         "50%",
         "5.4465",
         null,
         "5.329",
         "1.49",
         "20.95"
        ],
        [
         "75%",
         "6.0315",
         null,
         "7.57475",
         "1.7",
         "36.699999999999996"
        ],
        [
         "max",
         "15.213",
         null,
         "10.199",
         "2.0",
         "57.2"
        ]
       ],
       "shape": {
        "columns": 5,
        "rows": 11
       }
      },
      "text/html": [
       "<div>\n",
       "<style scoped>\n",
       "    .dataframe tbody tr th:only-of-type {\n",
       "        vertical-align: middle;\n",
       "    }\n",
       "\n",
       "    .dataframe tbody tr th {\n",
       "        vertical-align: top;\n",
       "    }\n",
       "\n",
       "    .dataframe thead th {\n",
       "        text-align: right;\n",
       "    }\n",
       "</style>\n",
       "<table border=\"1\" class=\"dataframe\">\n",
       "  <thead>\n",
       "    <tr style=\"text-align: right;\">\n",
       "      <th></th>\n",
       "      <th>Acetic</th>\n",
       "      <th>Animal</th>\n",
       "      <th>H2S</th>\n",
       "      <th>Lactic</th>\n",
       "      <th>Taste</th>\n",
       "    </tr>\n",
       "  </thead>\n",
       "  <tbody>\n",
       "    <tr>\n",
       "      <th>count</th>\n",
       "      <td>30.000000</td>\n",
       "      <td>28</td>\n",
       "      <td>30.000000</td>\n",
       "      <td>27.000000</td>\n",
       "      <td>30.000000</td>\n",
       "    </tr>\n",
       "    <tr>\n",
       "      <th>unique</th>\n",
       "      <td>NaN</td>\n",
       "      <td>3</td>\n",
       "      <td>NaN</td>\n",
       "      <td>NaN</td>\n",
       "      <td>NaN</td>\n",
       "    </tr>\n",
       "    <tr>\n",
       "      <th>top</th>\n",
       "      <td>NaN</td>\n",
       "      <td>sheep</td>\n",
       "      <td>NaN</td>\n",
       "      <td>NaN</td>\n",
       "      <td>NaN</td>\n",
       "    </tr>\n",
       "    <tr>\n",
       "      <th>freq</th>\n",
       "      <td>NaN</td>\n",
       "      <td>12</td>\n",
       "      <td>NaN</td>\n",
       "      <td>NaN</td>\n",
       "      <td>NaN</td>\n",
       "    </tr>\n",
       "    <tr>\n",
       "      <th>mean</th>\n",
       "      <td>6.025033</td>\n",
       "      <td>NaN</td>\n",
       "      <td>5.941767</td>\n",
       "      <td>1.477037</td>\n",
       "      <td>24.533667</td>\n",
       "    </tr>\n",
       "    <tr>\n",
       "      <th>std</th>\n",
       "      <td>2.182611</td>\n",
       "      <td>NaN</td>\n",
       "      <td>2.126879</td>\n",
       "      <td>0.298455</td>\n",
       "      <td>16.256065</td>\n",
       "    </tr>\n",
       "    <tr>\n",
       "      <th>min</th>\n",
       "      <td>4.477000</td>\n",
       "      <td>NaN</td>\n",
       "      <td>2.996000</td>\n",
       "      <td>0.860000</td>\n",
       "      <td>0.700000</td>\n",
       "    </tr>\n",
       "    <tr>\n",
       "      <th>25%</th>\n",
       "      <td>5.237500</td>\n",
       "      <td>NaN</td>\n",
       "      <td>3.977500</td>\n",
       "      <td>1.290000</td>\n",
       "      <td>13.550000</td>\n",
       "    </tr>\n",
       "    <tr>\n",
       "      <th>50%</th>\n",
       "      <td>5.446500</td>\n",
       "      <td>NaN</td>\n",
       "      <td>5.329000</td>\n",
       "      <td>1.490000</td>\n",
       "      <td>20.950000</td>\n",
       "    </tr>\n",
       "    <tr>\n",
       "      <th>75%</th>\n",
       "      <td>6.031500</td>\n",
       "      <td>NaN</td>\n",
       "      <td>7.574750</td>\n",
       "      <td>1.700000</td>\n",
       "      <td>36.700000</td>\n",
       "    </tr>\n",
       "    <tr>\n",
       "      <th>max</th>\n",
       "      <td>15.213000</td>\n",
       "      <td>NaN</td>\n",
       "      <td>10.199000</td>\n",
       "      <td>2.000000</td>\n",
       "      <td>57.200000</td>\n",
       "    </tr>\n",
       "  </tbody>\n",
       "</table>\n",
       "</div>"
      ],
      "text/plain": [
       "           Acetic Animal        H2S     Lactic      Taste\n",
       "count   30.000000     28  30.000000  27.000000  30.000000\n",
       "unique        NaN      3        NaN        NaN        NaN\n",
       "top           NaN  sheep        NaN        NaN        NaN\n",
       "freq          NaN     12        NaN        NaN        NaN\n",
       "mean     6.025033    NaN   5.941767   1.477037  24.533667\n",
       "std      2.182611    NaN   2.126879   0.298455  16.256065\n",
       "min      4.477000    NaN   2.996000   0.860000   0.700000\n",
       "25%      5.237500    NaN   3.977500   1.290000  13.550000\n",
       "50%      5.446500    NaN   5.329000   1.490000  20.950000\n",
       "75%      6.031500    NaN   7.574750   1.700000  36.700000\n",
       "max     15.213000    NaN  10.199000   2.000000  57.200000"
      ]
     },
     "execution_count": 4,
     "metadata": {},
     "output_type": "execute_result"
    }
   ],
   "source": [
    "data_interest = raw_data.drop(['Sample'], axis=1)\n",
    "data_interest.describe(include='all')"
   ]
  },
  {
   "cell_type": "markdown",
   "metadata": {},
   "source": [
    "## Deal with missing values"
   ]
  },
  {
   "cell_type": "code",
   "execution_count": 5,
   "metadata": {},
   "outputs": [
    {
     "data": {
      "application/vnd.microsoft.datawrangler.viewer.v0+json": {
       "columns": [
        {
         "name": "index",
         "rawType": "object",
         "type": "string"
        },
        {
         "name": "0",
         "rawType": "int64",
         "type": "integer"
        }
       ],
       "ref": "74ec556a-69ef-4129-a4d9-87a672a46519",
       "rows": [
        [
         "Acetic",
         "0"
        ],
        [
         "Animal",
         "2"
        ],
        [
         "H2S",
         "0"
        ],
        [
         "Lactic",
         "3"
        ],
        [
         "Taste",
         "0"
        ]
       ],
       "shape": {
        "columns": 1,
        "rows": 5
       }
      },
      "text/plain": [
       "Acetic    0\n",
       "Animal    2\n",
       "H2S       0\n",
       "Lactic    3\n",
       "Taste     0\n",
       "dtype: int64"
      ]
     },
     "execution_count": 5,
     "metadata": {},
     "output_type": "execute_result"
    }
   ],
   "source": [
    "data_interest.isnull().sum()"
   ]
  },
  {
   "cell_type": "markdown",
   "metadata": {},
   "source": [
    "### Method 1: Remove observations"
   ]
  },
  {
   "cell_type": "code",
   "execution_count": 6,
   "metadata": {},
   "outputs": [
    {
     "data": {
      "application/vnd.microsoft.datawrangler.viewer.v0+json": {
       "columns": [
        {
         "name": "index",
         "rawType": "object",
         "type": "string"
        },
        {
         "name": "Acetic",
         "rawType": "float64",
         "type": "float"
        },
        {
         "name": "Animal",
         "rawType": "object",
         "type": "unknown"
        },
        {
         "name": "H2S",
         "rawType": "float64",
         "type": "float"
        },
        {
         "name": "Lactic",
         "rawType": "float64",
         "type": "float"
        },
        {
         "name": "Taste",
         "rawType": "float64",
         "type": "float"
        }
       ],
       "ref": "f91a3816-c938-4525-97c3-88da9e2b492d",
       "rows": [
        [
         "count",
         "25.0",
         "25",
         "25.0",
         "25.0",
         "25.0"
        ],
        [
         "unique",
         null,
         "3",
         null,
         null,
         null
        ],
        [
         "top",
         null,
         "sheep",
         null,
         null,
         null
        ],
        [
         "freq",
         null,
         "11",
         null,
         null,
         null
        ],
        [
         "mean",
         "6.21336",
         null,
         "6.0232",
         "1.4548",
         "24.4644"
        ],
        [
         "std",
         "2.3348720143368316",
         null,
         "2.1098099440470937",
         "0.29144925230075075",
         "15.520634673448978"
        ],
        [
         "min",
         "4.543",
         null,
         "3.135",
         "0.86",
         "0.7"
        ],
        [
         "25%",
         "5.247",
         null,
         "4.174",
         "1.29",
         "13.4"
        ],
        [
         "50%",
         "5.697",
         null,
         "5.438",
         "1.46",
         "21.0"
        ],
        [
         "75%",
         "6.078",
         null,
         "7.601",
         "1.68",
         "34.9"
        ],
        [
         "max",
         "15.213",
         null,
         "10.199",
         "2.0",
         "57.2"
        ]
       ],
       "shape": {
        "columns": 5,
        "rows": 11
       }
      },
      "text/html": [
       "<div>\n",
       "<style scoped>\n",
       "    .dataframe tbody tr th:only-of-type {\n",
       "        vertical-align: middle;\n",
       "    }\n",
       "\n",
       "    .dataframe tbody tr th {\n",
       "        vertical-align: top;\n",
       "    }\n",
       "\n",
       "    .dataframe thead th {\n",
       "        text-align: right;\n",
       "    }\n",
       "</style>\n",
       "<table border=\"1\" class=\"dataframe\">\n",
       "  <thead>\n",
       "    <tr style=\"text-align: right;\">\n",
       "      <th></th>\n",
       "      <th>Acetic</th>\n",
       "      <th>Animal</th>\n",
       "      <th>H2S</th>\n",
       "      <th>Lactic</th>\n",
       "      <th>Taste</th>\n",
       "    </tr>\n",
       "  </thead>\n",
       "  <tbody>\n",
       "    <tr>\n",
       "      <th>count</th>\n",
       "      <td>25.000000</td>\n",
       "      <td>25</td>\n",
       "      <td>25.00000</td>\n",
       "      <td>25.000000</td>\n",
       "      <td>25.000000</td>\n",
       "    </tr>\n",
       "    <tr>\n",
       "      <th>unique</th>\n",
       "      <td>NaN</td>\n",
       "      <td>3</td>\n",
       "      <td>NaN</td>\n",
       "      <td>NaN</td>\n",
       "      <td>NaN</td>\n",
       "    </tr>\n",
       "    <tr>\n",
       "      <th>top</th>\n",
       "      <td>NaN</td>\n",
       "      <td>sheep</td>\n",
       "      <td>NaN</td>\n",
       "      <td>NaN</td>\n",
       "      <td>NaN</td>\n",
       "    </tr>\n",
       "    <tr>\n",
       "      <th>freq</th>\n",
       "      <td>NaN</td>\n",
       "      <td>11</td>\n",
       "      <td>NaN</td>\n",
       "      <td>NaN</td>\n",
       "      <td>NaN</td>\n",
       "    </tr>\n",
       "    <tr>\n",
       "      <th>mean</th>\n",
       "      <td>6.213360</td>\n",
       "      <td>NaN</td>\n",
       "      <td>6.02320</td>\n",
       "      <td>1.454800</td>\n",
       "      <td>24.464400</td>\n",
       "    </tr>\n",
       "    <tr>\n",
       "      <th>std</th>\n",
       "      <td>2.334872</td>\n",
       "      <td>NaN</td>\n",
       "      <td>2.10981</td>\n",
       "      <td>0.291449</td>\n",
       "      <td>15.520635</td>\n",
       "    </tr>\n",
       "    <tr>\n",
       "      <th>min</th>\n",
       "      <td>4.543000</td>\n",
       "      <td>NaN</td>\n",
       "      <td>3.13500</td>\n",
       "      <td>0.860000</td>\n",
       "      <td>0.700000</td>\n",
       "    </tr>\n",
       "    <tr>\n",
       "      <th>25%</th>\n",
       "      <td>5.247000</td>\n",
       "      <td>NaN</td>\n",
       "      <td>4.17400</td>\n",
       "      <td>1.290000</td>\n",
       "      <td>13.400000</td>\n",
       "    </tr>\n",
       "    <tr>\n",
       "      <th>50%</th>\n",
       "      <td>5.697000</td>\n",
       "      <td>NaN</td>\n",
       "      <td>5.43800</td>\n",
       "      <td>1.460000</td>\n",
       "      <td>21.000000</td>\n",
       "    </tr>\n",
       "    <tr>\n",
       "      <th>75%</th>\n",
       "      <td>6.078000</td>\n",
       "      <td>NaN</td>\n",
       "      <td>7.60100</td>\n",
       "      <td>1.680000</td>\n",
       "      <td>34.900000</td>\n",
       "    </tr>\n",
       "    <tr>\n",
       "      <th>max</th>\n",
       "      <td>15.213000</td>\n",
       "      <td>NaN</td>\n",
       "      <td>10.19900</td>\n",
       "      <td>2.000000</td>\n",
       "      <td>57.200000</td>\n",
       "    </tr>\n",
       "  </tbody>\n",
       "</table>\n",
       "</div>"
      ],
      "text/plain": [
       "           Acetic Animal       H2S     Lactic      Taste\n",
       "count   25.000000     25  25.00000  25.000000  25.000000\n",
       "unique        NaN      3       NaN        NaN        NaN\n",
       "top           NaN  sheep       NaN        NaN        NaN\n",
       "freq          NaN     11       NaN        NaN        NaN\n",
       "mean     6.213360    NaN   6.02320   1.454800  24.464400\n",
       "std      2.334872    NaN   2.10981   0.291449  15.520635\n",
       "min      4.543000    NaN   3.13500   0.860000   0.700000\n",
       "25%      5.247000    NaN   4.17400   1.290000  13.400000\n",
       "50%      5.697000    NaN   5.43800   1.460000  21.000000\n",
       "75%      6.078000    NaN   7.60100   1.680000  34.900000\n",
       "max     15.213000    NaN  10.19900   2.000000  57.200000"
      ]
     },
     "execution_count": 6,
     "metadata": {},
     "output_type": "execute_result"
    }
   ],
   "source": [
    "data_no_mv_m1 = data_interest.dropna(axis=0)\n",
    "data_no_mv_m1.describe(include='all')"
   ]
  },
  {
   "cell_type": "markdown",
   "metadata": {},
   "source": [
    "A rule of thumb is that if you are removing < 5% of the observations, this method could be applied. But be cautious, if you are dealing with smallish data sets, you might simply waste data this way."
   ]
  },
  {
   "cell_type": "markdown",
   "metadata": {},
   "source": [
    "### Method 2: Impute the missing values with mean or median (Applicable to numerical variables)"
   ]
  },
  {
   "cell_type": "markdown",
   "metadata": {},
   "source": [
    "From wikipedia: In statistics, imputation is the process of replacing missing data with substituted values."
   ]
  },
  {
   "cell_type": "code",
   "execution_count": 7,
   "metadata": {},
   "outputs": [
    {
     "data": {
      "application/vnd.microsoft.datawrangler.viewer.v0+json": {
       "columns": [
        {
         "name": "index",
         "rawType": "int64",
         "type": "integer"
        },
        {
         "name": "Acetic",
         "rawType": "float64",
         "type": "float"
        },
        {
         "name": "Animal",
         "rawType": "object",
         "type": "unknown"
        },
        {
         "name": "H2S",
         "rawType": "float64",
         "type": "float"
        },
        {
         "name": "Lactic",
         "rawType": "float64",
         "type": "float"
        },
        {
         "name": "Taste",
         "rawType": "float64",
         "type": "float"
        }
       ],
       "ref": "295822a9-38e6-4f79-bd3e-c5b535f174d1",
       "rows": [
        [
         "0",
         "4.543",
         "sheep",
         "3.135",
         "0.86",
         "12.3"
        ],
        [
         "1",
         "5.159",
         "sheep",
         "5.043",
         "1.53",
         "20.9"
        ],
        [
         "2",
         "5.366",
         "cow",
         "5.438",
         "1.57",
         "39.0"
        ],
        [
         "3",
         "5.759",
         "sheep",
         "7.496",
         "1.81",
         "47.9"
        ],
        [
         "4",
         "4.663",
         "cow",
         "3.807",
         "0.99",
         "5.6"
        ],
        [
         "5",
         "5.697",
         "goat",
         "7.601",
         "1.09",
         "25.9"
        ],
        [
         "6",
         "5.892",
         "cow",
         "8.726",
         "1.29",
         "37.3"
        ],
        [
         "7",
         "6.078",
         "cow",
         "7.966",
         "1.78",
         "21.9"
        ],
        [
         "8",
         "4.898",
         "sheep",
         "3.85",
         "1.29",
         "18.1"
        ],
        [
         "9",
         "5.242",
         "sheep",
         "4.174",
         "1.58",
         "21.0"
        ],
        [
         "10",
         "5.74",
         "goat",
         "6.142",
         "1.68",
         "34.9"
        ],
        [
         "11",
         "6.446",
         "goat",
         "7.908",
         "1.9",
         "57.2"
        ],
        [
         "12",
         "4.477",
         "sheep",
         "2.996",
         "1.477037037037037",
         "0.7"
        ],
        [
         "13",
         "5.236",
         "sheep",
         "4.942",
         "1.3",
         "25.9"
        ],
        [
         "14",
         "6.151",
         null,
         "6.752",
         "1.52",
         "54.9"
        ],
        [
         "15",
         "6.365",
         "sheep",
         "9.588",
         "1.74",
         "40.9"
        ],
        [
         "16",
         "4.787",
         "cow",
         "3.912",
         "1.477037037037037",
         "15.9"
        ],
        [
         "17",
         "15.213",
         "goat",
         "4.7",
         "1.49",
         "6.4"
        ],
        [
         "18",
         "5.247",
         "sheep",
         "6.174",
         "1.63",
         "18.0"
        ],
        [
         "19",
         "5.438",
         null,
         "9.064",
         "1.99",
         "38.9"
        ],
        [
         "20",
         "4.564",
         "goat",
         "4.949",
         "1.477037037037037",
         "14.0"
        ],
        [
         "21",
         "5.298",
         "sheep",
         "5.22",
         "1.33",
         "15.2"
        ],
        [
         "22",
         "5.455",
         "goat",
         "9.242",
         "1.44",
         "32.0"
        ],
        [
         "23",
         "5.855",
         "sheep",
         "10.199",
         "2.0",
         "56.71"
        ],
        [
         "24",
         "5.366",
         "goat",
         "3.664",
         "1.31",
         "16.8"
        ],
        [
         "25",
         "12.052",
         "cow",
         "3.219",
         "1.46",
         "11.6"
        ],
        [
         "26",
         "6.458",
         "sheep",
         "6.962",
         "1.72",
         "26.5"
        ],
        [
         "27",
         "5.328",
         "cow",
         "3.912",
         "1.25",
         "0.7"
        ],
        [
         "28",
         "5.802",
         "goat",
         "6.685",
         "1.08",
         "13.4"
        ],
        [
         "29",
         "6.176",
         "cow",
         "4.787",
         "1.25",
         "5.5"
        ]
       ],
       "shape": {
        "columns": 5,
        "rows": 30
       }
      },
      "text/html": [
       "<div>\n",
       "<style scoped>\n",
       "    .dataframe tbody tr th:only-of-type {\n",
       "        vertical-align: middle;\n",
       "    }\n",
       "\n",
       "    .dataframe tbody tr th {\n",
       "        vertical-align: top;\n",
       "    }\n",
       "\n",
       "    .dataframe thead th {\n",
       "        text-align: right;\n",
       "    }\n",
       "</style>\n",
       "<table border=\"1\" class=\"dataframe\">\n",
       "  <thead>\n",
       "    <tr style=\"text-align: right;\">\n",
       "      <th></th>\n",
       "      <th>Acetic</th>\n",
       "      <th>Animal</th>\n",
       "      <th>H2S</th>\n",
       "      <th>Lactic</th>\n",
       "      <th>Taste</th>\n",
       "    </tr>\n",
       "  </thead>\n",
       "  <tbody>\n",
       "    <tr>\n",
       "      <th>0</th>\n",
       "      <td>4.543</td>\n",
       "      <td>sheep</td>\n",
       "      <td>3.135</td>\n",
       "      <td>0.860000</td>\n",
       "      <td>12.30</td>\n",
       "    </tr>\n",
       "    <tr>\n",
       "      <th>1</th>\n",
       "      <td>5.159</td>\n",
       "      <td>sheep</td>\n",
       "      <td>5.043</td>\n",
       "      <td>1.530000</td>\n",
       "      <td>20.90</td>\n",
       "    </tr>\n",
       "    <tr>\n",
       "      <th>2</th>\n",
       "      <td>5.366</td>\n",
       "      <td>cow</td>\n",
       "      <td>5.438</td>\n",
       "      <td>1.570000</td>\n",
       "      <td>39.00</td>\n",
       "    </tr>\n",
       "    <tr>\n",
       "      <th>3</th>\n",
       "      <td>5.759</td>\n",
       "      <td>sheep</td>\n",
       "      <td>7.496</td>\n",
       "      <td>1.810000</td>\n",
       "      <td>47.90</td>\n",
       "    </tr>\n",
       "    <tr>\n",
       "      <th>4</th>\n",
       "      <td>4.663</td>\n",
       "      <td>cow</td>\n",
       "      <td>3.807</td>\n",
       "      <td>0.990000</td>\n",
       "      <td>5.60</td>\n",
       "    </tr>\n",
       "    <tr>\n",
       "      <th>5</th>\n",
       "      <td>5.697</td>\n",
       "      <td>goat</td>\n",
       "      <td>7.601</td>\n",
       "      <td>1.090000</td>\n",
       "      <td>25.90</td>\n",
       "    </tr>\n",
       "    <tr>\n",
       "      <th>6</th>\n",
       "      <td>5.892</td>\n",
       "      <td>cow</td>\n",
       "      <td>8.726</td>\n",
       "      <td>1.290000</td>\n",
       "      <td>37.30</td>\n",
       "    </tr>\n",
       "    <tr>\n",
       "      <th>7</th>\n",
       "      <td>6.078</td>\n",
       "      <td>cow</td>\n",
       "      <td>7.966</td>\n",
       "      <td>1.780000</td>\n",
       "      <td>21.90</td>\n",
       "    </tr>\n",
       "    <tr>\n",
       "      <th>8</th>\n",
       "      <td>4.898</td>\n",
       "      <td>sheep</td>\n",
       "      <td>3.850</td>\n",
       "      <td>1.290000</td>\n",
       "      <td>18.10</td>\n",
       "    </tr>\n",
       "    <tr>\n",
       "      <th>9</th>\n",
       "      <td>5.242</td>\n",
       "      <td>sheep</td>\n",
       "      <td>4.174</td>\n",
       "      <td>1.580000</td>\n",
       "      <td>21.00</td>\n",
       "    </tr>\n",
       "    <tr>\n",
       "      <th>10</th>\n",
       "      <td>5.740</td>\n",
       "      <td>goat</td>\n",
       "      <td>6.142</td>\n",
       "      <td>1.680000</td>\n",
       "      <td>34.90</td>\n",
       "    </tr>\n",
       "    <tr>\n",
       "      <th>11</th>\n",
       "      <td>6.446</td>\n",
       "      <td>goat</td>\n",
       "      <td>7.908</td>\n",
       "      <td>1.900000</td>\n",
       "      <td>57.20</td>\n",
       "    </tr>\n",
       "    <tr>\n",
       "      <th>12</th>\n",
       "      <td>4.477</td>\n",
       "      <td>sheep</td>\n",
       "      <td>2.996</td>\n",
       "      <td>1.477037</td>\n",
       "      <td>0.70</td>\n",
       "    </tr>\n",
       "    <tr>\n",
       "      <th>13</th>\n",
       "      <td>5.236</td>\n",
       "      <td>sheep</td>\n",
       "      <td>4.942</td>\n",
       "      <td>1.300000</td>\n",
       "      <td>25.90</td>\n",
       "    </tr>\n",
       "    <tr>\n",
       "      <th>14</th>\n",
       "      <td>6.151</td>\n",
       "      <td>NaN</td>\n",
       "      <td>6.752</td>\n",
       "      <td>1.520000</td>\n",
       "      <td>54.90</td>\n",
       "    </tr>\n",
       "    <tr>\n",
       "      <th>15</th>\n",
       "      <td>6.365</td>\n",
       "      <td>sheep</td>\n",
       "      <td>9.588</td>\n",
       "      <td>1.740000</td>\n",
       "      <td>40.90</td>\n",
       "    </tr>\n",
       "    <tr>\n",
       "      <th>16</th>\n",
       "      <td>4.787</td>\n",
       "      <td>cow</td>\n",
       "      <td>3.912</td>\n",
       "      <td>1.477037</td>\n",
       "      <td>15.90</td>\n",
       "    </tr>\n",
       "    <tr>\n",
       "      <th>17</th>\n",
       "      <td>15.213</td>\n",
       "      <td>goat</td>\n",
       "      <td>4.700</td>\n",
       "      <td>1.490000</td>\n",
       "      <td>6.40</td>\n",
       "    </tr>\n",
       "    <tr>\n",
       "      <th>18</th>\n",
       "      <td>5.247</td>\n",
       "      <td>sheep</td>\n",
       "      <td>6.174</td>\n",
       "      <td>1.630000</td>\n",
       "      <td>18.00</td>\n",
       "    </tr>\n",
       "    <tr>\n",
       "      <th>19</th>\n",
       "      <td>5.438</td>\n",
       "      <td>NaN</td>\n",
       "      <td>9.064</td>\n",
       "      <td>1.990000</td>\n",
       "      <td>38.90</td>\n",
       "    </tr>\n",
       "    <tr>\n",
       "      <th>20</th>\n",
       "      <td>4.564</td>\n",
       "      <td>goat</td>\n",
       "      <td>4.949</td>\n",
       "      <td>1.477037</td>\n",
       "      <td>14.00</td>\n",
       "    </tr>\n",
       "    <tr>\n",
       "      <th>21</th>\n",
       "      <td>5.298</td>\n",
       "      <td>sheep</td>\n",
       "      <td>5.220</td>\n",
       "      <td>1.330000</td>\n",
       "      <td>15.20</td>\n",
       "    </tr>\n",
       "    <tr>\n",
       "      <th>22</th>\n",
       "      <td>5.455</td>\n",
       "      <td>goat</td>\n",
       "      <td>9.242</td>\n",
       "      <td>1.440000</td>\n",
       "      <td>32.00</td>\n",
       "    </tr>\n",
       "    <tr>\n",
       "      <th>23</th>\n",
       "      <td>5.855</td>\n",
       "      <td>sheep</td>\n",
       "      <td>10.199</td>\n",
       "      <td>2.000000</td>\n",
       "      <td>56.71</td>\n",
       "    </tr>\n",
       "    <tr>\n",
       "      <th>24</th>\n",
       "      <td>5.366</td>\n",
       "      <td>goat</td>\n",
       "      <td>3.664</td>\n",
       "      <td>1.310000</td>\n",
       "      <td>16.80</td>\n",
       "    </tr>\n",
       "    <tr>\n",
       "      <th>25</th>\n",
       "      <td>12.052</td>\n",
       "      <td>cow</td>\n",
       "      <td>3.219</td>\n",
       "      <td>1.460000</td>\n",
       "      <td>11.60</td>\n",
       "    </tr>\n",
       "    <tr>\n",
       "      <th>26</th>\n",
       "      <td>6.458</td>\n",
       "      <td>sheep</td>\n",
       "      <td>6.962</td>\n",
       "      <td>1.720000</td>\n",
       "      <td>26.50</td>\n",
       "    </tr>\n",
       "    <tr>\n",
       "      <th>27</th>\n",
       "      <td>5.328</td>\n",
       "      <td>cow</td>\n",
       "      <td>3.912</td>\n",
       "      <td>1.250000</td>\n",
       "      <td>0.70</td>\n",
       "    </tr>\n",
       "    <tr>\n",
       "      <th>28</th>\n",
       "      <td>5.802</td>\n",
       "      <td>goat</td>\n",
       "      <td>6.685</td>\n",
       "      <td>1.080000</td>\n",
       "      <td>13.40</td>\n",
       "    </tr>\n",
       "    <tr>\n",
       "      <th>29</th>\n",
       "      <td>6.176</td>\n",
       "      <td>cow</td>\n",
       "      <td>4.787</td>\n",
       "      <td>1.250000</td>\n",
       "      <td>5.50</td>\n",
       "    </tr>\n",
       "  </tbody>\n",
       "</table>\n",
       "</div>"
      ],
      "text/plain": [
       "    Acetic Animal     H2S    Lactic  Taste\n",
       "0    4.543  sheep   3.135  0.860000  12.30\n",
       "1    5.159  sheep   5.043  1.530000  20.90\n",
       "2    5.366    cow   5.438  1.570000  39.00\n",
       "3    5.759  sheep   7.496  1.810000  47.90\n",
       "4    4.663    cow   3.807  0.990000   5.60\n",
       "5    5.697   goat   7.601  1.090000  25.90\n",
       "6    5.892    cow   8.726  1.290000  37.30\n",
       "7    6.078    cow   7.966  1.780000  21.90\n",
       "8    4.898  sheep   3.850  1.290000  18.10\n",
       "9    5.242  sheep   4.174  1.580000  21.00\n",
       "10   5.740   goat   6.142  1.680000  34.90\n",
       "11   6.446   goat   7.908  1.900000  57.20\n",
       "12   4.477  sheep   2.996  1.477037   0.70\n",
       "13   5.236  sheep   4.942  1.300000  25.90\n",
       "14   6.151    NaN   6.752  1.520000  54.90\n",
       "15   6.365  sheep   9.588  1.740000  40.90\n",
       "16   4.787    cow   3.912  1.477037  15.90\n",
       "17  15.213   goat   4.700  1.490000   6.40\n",
       "18   5.247  sheep   6.174  1.630000  18.00\n",
       "19   5.438    NaN   9.064  1.990000  38.90\n",
       "20   4.564   goat   4.949  1.477037  14.00\n",
       "21   5.298  sheep   5.220  1.330000  15.20\n",
       "22   5.455   goat   9.242  1.440000  32.00\n",
       "23   5.855  sheep  10.199  2.000000  56.71\n",
       "24   5.366   goat   3.664  1.310000  16.80\n",
       "25  12.052    cow   3.219  1.460000  11.60\n",
       "26   6.458  sheep   6.962  1.720000  26.50\n",
       "27   5.328    cow   3.912  1.250000   0.70\n",
       "28   5.802   goat   6.685  1.080000  13.40\n",
       "29   6.176    cow   4.787  1.250000   5.50"
      ]
     },
     "execution_count": 7,
     "metadata": {},
     "output_type": "execute_result"
    }
   ],
   "source": [
    "data_no_mv_m2 = data_interest.copy()\n",
    "\n",
    "from sklearn.impute import SimpleImputer\n",
    "\n",
    "imp = SimpleImputer(missing_values = np.nan, strategy='mean')\n",
    "lactic = data_interest['Lactic'].values.reshape(-1,1)\n",
    "data_no_mv_m2['Lactic'] = imp.fit_transform(lactic).flatten()\n",
    "data_no_mv_m2\n"
   ]
  },
  {
   "cell_type": "markdown",
   "metadata": {},
   "source": [
    "### Method 3: Impute the missing values using interpolation (Applicable to numerical variables)"
   ]
  },
  {
   "cell_type": "markdown",
   "metadata": {},
   "source": [
    "Activity: Now that you understand how imputation is done, look up the internet and write a piece of code to carry out imputation using the interpolation method.\n",
    "\n",
    "In this method, rather than using the mean or median values to fill up missing values, interpolated values are used. This can be useful sometimes for improving prediction.\n",
    "\n",
    "This page gives you a nice overview of other Imputation methods: https://towardsdatascience.com/6-different-ways-to-compensate-for-missing-values-data-imputation-with-examples-6022d9ca0779"
   ]
  },
  {
   "cell_type": "markdown",
   "metadata": {},
   "source": [
    "### Method 4: Impute using the most frequent values (Applicable to categorical variables)"
   ]
  },
  {
   "cell_type": "code",
   "execution_count": 8,
   "metadata": {},
   "outputs": [
    {
     "name": "stderr",
     "output_type": "stream",
     "text": [
      "/var/folders/tn/23sfm0zs5f725m1tjsjgv1tc0000gn/T/ipykernel_36689/1543214328.py:3: FutureWarning: A value is trying to be set on a copy of a DataFrame or Series through chained assignment using an inplace method.\n",
      "The behavior will change in pandas 3.0. This inplace method will never work because the intermediate object on which we are setting values always behaves as a copy.\n",
      "\n",
      "For example, when doing 'df[col].method(value, inplace=True)', try using 'df.method({col: value}, inplace=True)' or df[col] = df[col].method(value) instead, to perform the operation inplace on the original object.\n",
      "\n",
      "\n",
      "  data_no_mv_m4['Animal'].fillna(mf_animal, inplace=True)\n"
     ]
    },
    {
     "data": {
      "application/vnd.microsoft.datawrangler.viewer.v0+json": {
       "columns": [
        {
         "name": "index",
         "rawType": "int64",
         "type": "integer"
        },
        {
         "name": "Acetic",
         "rawType": "float64",
         "type": "float"
        },
        {
         "name": "Animal",
         "rawType": "object",
         "type": "string"
        },
        {
         "name": "H2S",
         "rawType": "float64",
         "type": "float"
        },
        {
         "name": "Lactic",
         "rawType": "float64",
         "type": "float"
        },
        {
         "name": "Taste",
         "rawType": "float64",
         "type": "float"
        }
       ],
       "ref": "4eabe930-fe86-44f0-88ac-2035365a27a1",
       "rows": [
        [
         "0",
         "4.543",
         "sheep",
         "3.135",
         "0.86",
         "12.3"
        ],
        [
         "1",
         "5.159",
         "sheep",
         "5.043",
         "1.53",
         "20.9"
        ],
        [
         "2",
         "5.366",
         "cow",
         "5.438",
         "1.57",
         "39.0"
        ],
        [
         "3",
         "5.759",
         "sheep",
         "7.496",
         "1.81",
         "47.9"
        ],
        [
         "4",
         "4.663",
         "cow",
         "3.807",
         "0.99",
         "5.6"
        ],
        [
         "5",
         "5.697",
         "goat",
         "7.601",
         "1.09",
         "25.9"
        ],
        [
         "6",
         "5.892",
         "cow",
         "8.726",
         "1.29",
         "37.3"
        ],
        [
         "7",
         "6.078",
         "cow",
         "7.966",
         "1.78",
         "21.9"
        ],
        [
         "8",
         "4.898",
         "sheep",
         "3.85",
         "1.29",
         "18.1"
        ],
        [
         "9",
         "5.242",
         "sheep",
         "4.174",
         "1.58",
         "21.0"
        ],
        [
         "10",
         "5.74",
         "goat",
         "6.142",
         "1.68",
         "34.9"
        ],
        [
         "11",
         "6.446",
         "goat",
         "7.908",
         "1.9",
         "57.2"
        ],
        [
         "12",
         "4.477",
         "sheep",
         "2.996",
         "1.477037037037037",
         "0.7"
        ],
        [
         "13",
         "5.236",
         "sheep",
         "4.942",
         "1.3",
         "25.9"
        ],
        [
         "14",
         "6.151",
         "sheep",
         "6.752",
         "1.52",
         "54.9"
        ],
        [
         "15",
         "6.365",
         "sheep",
         "9.588",
         "1.74",
         "40.9"
        ],
        [
         "16",
         "4.787",
         "cow",
         "3.912",
         "1.477037037037037",
         "15.9"
        ],
        [
         "17",
         "15.213",
         "goat",
         "4.7",
         "1.49",
         "6.4"
        ],
        [
         "18",
         "5.247",
         "sheep",
         "6.174",
         "1.63",
         "18.0"
        ],
        [
         "19",
         "5.438",
         "sheep",
         "9.064",
         "1.99",
         "38.9"
        ],
        [
         "20",
         "4.564",
         "goat",
         "4.949",
         "1.477037037037037",
         "14.0"
        ],
        [
         "21",
         "5.298",
         "sheep",
         "5.22",
         "1.33",
         "15.2"
        ],
        [
         "22",
         "5.455",
         "goat",
         "9.242",
         "1.44",
         "32.0"
        ],
        [
         "23",
         "5.855",
         "sheep",
         "10.199",
         "2.0",
         "56.71"
        ],
        [
         "24",
         "5.366",
         "goat",
         "3.664",
         "1.31",
         "16.8"
        ],
        [
         "25",
         "12.052",
         "cow",
         "3.219",
         "1.46",
         "11.6"
        ],
        [
         "26",
         "6.458",
         "sheep",
         "6.962",
         "1.72",
         "26.5"
        ],
        [
         "27",
         "5.328",
         "cow",
         "3.912",
         "1.25",
         "0.7"
        ],
        [
         "28",
         "5.802",
         "goat",
         "6.685",
         "1.08",
         "13.4"
        ],
        [
         "29",
         "6.176",
         "cow",
         "4.787",
         "1.25",
         "5.5"
        ]
       ],
       "shape": {
        "columns": 5,
        "rows": 30
       }
      },
      "text/html": [
       "<div>\n",
       "<style scoped>\n",
       "    .dataframe tbody tr th:only-of-type {\n",
       "        vertical-align: middle;\n",
       "    }\n",
       "\n",
       "    .dataframe tbody tr th {\n",
       "        vertical-align: top;\n",
       "    }\n",
       "\n",
       "    .dataframe thead th {\n",
       "        text-align: right;\n",
       "    }\n",
       "</style>\n",
       "<table border=\"1\" class=\"dataframe\">\n",
       "  <thead>\n",
       "    <tr style=\"text-align: right;\">\n",
       "      <th></th>\n",
       "      <th>Acetic</th>\n",
       "      <th>Animal</th>\n",
       "      <th>H2S</th>\n",
       "      <th>Lactic</th>\n",
       "      <th>Taste</th>\n",
       "    </tr>\n",
       "  </thead>\n",
       "  <tbody>\n",
       "    <tr>\n",
       "      <th>0</th>\n",
       "      <td>4.543</td>\n",
       "      <td>sheep</td>\n",
       "      <td>3.135</td>\n",
       "      <td>0.860000</td>\n",
       "      <td>12.30</td>\n",
       "    </tr>\n",
       "    <tr>\n",
       "      <th>1</th>\n",
       "      <td>5.159</td>\n",
       "      <td>sheep</td>\n",
       "      <td>5.043</td>\n",
       "      <td>1.530000</td>\n",
       "      <td>20.90</td>\n",
       "    </tr>\n",
       "    <tr>\n",
       "      <th>2</th>\n",
       "      <td>5.366</td>\n",
       "      <td>cow</td>\n",
       "      <td>5.438</td>\n",
       "      <td>1.570000</td>\n",
       "      <td>39.00</td>\n",
       "    </tr>\n",
       "    <tr>\n",
       "      <th>3</th>\n",
       "      <td>5.759</td>\n",
       "      <td>sheep</td>\n",
       "      <td>7.496</td>\n",
       "      <td>1.810000</td>\n",
       "      <td>47.90</td>\n",
       "    </tr>\n",
       "    <tr>\n",
       "      <th>4</th>\n",
       "      <td>4.663</td>\n",
       "      <td>cow</td>\n",
       "      <td>3.807</td>\n",
       "      <td>0.990000</td>\n",
       "      <td>5.60</td>\n",
       "    </tr>\n",
       "    <tr>\n",
       "      <th>5</th>\n",
       "      <td>5.697</td>\n",
       "      <td>goat</td>\n",
       "      <td>7.601</td>\n",
       "      <td>1.090000</td>\n",
       "      <td>25.90</td>\n",
       "    </tr>\n",
       "    <tr>\n",
       "      <th>6</th>\n",
       "      <td>5.892</td>\n",
       "      <td>cow</td>\n",
       "      <td>8.726</td>\n",
       "      <td>1.290000</td>\n",
       "      <td>37.30</td>\n",
       "    </tr>\n",
       "    <tr>\n",
       "      <th>7</th>\n",
       "      <td>6.078</td>\n",
       "      <td>cow</td>\n",
       "      <td>7.966</td>\n",
       "      <td>1.780000</td>\n",
       "      <td>21.90</td>\n",
       "    </tr>\n",
       "    <tr>\n",
       "      <th>8</th>\n",
       "      <td>4.898</td>\n",
       "      <td>sheep</td>\n",
       "      <td>3.850</td>\n",
       "      <td>1.290000</td>\n",
       "      <td>18.10</td>\n",
       "    </tr>\n",
       "    <tr>\n",
       "      <th>9</th>\n",
       "      <td>5.242</td>\n",
       "      <td>sheep</td>\n",
       "      <td>4.174</td>\n",
       "      <td>1.580000</td>\n",
       "      <td>21.00</td>\n",
       "    </tr>\n",
       "    <tr>\n",
       "      <th>10</th>\n",
       "      <td>5.740</td>\n",
       "      <td>goat</td>\n",
       "      <td>6.142</td>\n",
       "      <td>1.680000</td>\n",
       "      <td>34.90</td>\n",
       "    </tr>\n",
       "    <tr>\n",
       "      <th>11</th>\n",
       "      <td>6.446</td>\n",
       "      <td>goat</td>\n",
       "      <td>7.908</td>\n",
       "      <td>1.900000</td>\n",
       "      <td>57.20</td>\n",
       "    </tr>\n",
       "    <tr>\n",
       "      <th>12</th>\n",
       "      <td>4.477</td>\n",
       "      <td>sheep</td>\n",
       "      <td>2.996</td>\n",
       "      <td>1.477037</td>\n",
       "      <td>0.70</td>\n",
       "    </tr>\n",
       "    <tr>\n",
       "      <th>13</th>\n",
       "      <td>5.236</td>\n",
       "      <td>sheep</td>\n",
       "      <td>4.942</td>\n",
       "      <td>1.300000</td>\n",
       "      <td>25.90</td>\n",
       "    </tr>\n",
       "    <tr>\n",
       "      <th>14</th>\n",
       "      <td>6.151</td>\n",
       "      <td>sheep</td>\n",
       "      <td>6.752</td>\n",
       "      <td>1.520000</td>\n",
       "      <td>54.90</td>\n",
       "    </tr>\n",
       "    <tr>\n",
       "      <th>15</th>\n",
       "      <td>6.365</td>\n",
       "      <td>sheep</td>\n",
       "      <td>9.588</td>\n",
       "      <td>1.740000</td>\n",
       "      <td>40.90</td>\n",
       "    </tr>\n",
       "    <tr>\n",
       "      <th>16</th>\n",
       "      <td>4.787</td>\n",
       "      <td>cow</td>\n",
       "      <td>3.912</td>\n",
       "      <td>1.477037</td>\n",
       "      <td>15.90</td>\n",
       "    </tr>\n",
       "    <tr>\n",
       "      <th>17</th>\n",
       "      <td>15.213</td>\n",
       "      <td>goat</td>\n",
       "      <td>4.700</td>\n",
       "      <td>1.490000</td>\n",
       "      <td>6.40</td>\n",
       "    </tr>\n",
       "    <tr>\n",
       "      <th>18</th>\n",
       "      <td>5.247</td>\n",
       "      <td>sheep</td>\n",
       "      <td>6.174</td>\n",
       "      <td>1.630000</td>\n",
       "      <td>18.00</td>\n",
       "    </tr>\n",
       "    <tr>\n",
       "      <th>19</th>\n",
       "      <td>5.438</td>\n",
       "      <td>sheep</td>\n",
       "      <td>9.064</td>\n",
       "      <td>1.990000</td>\n",
       "      <td>38.90</td>\n",
       "    </tr>\n",
       "    <tr>\n",
       "      <th>20</th>\n",
       "      <td>4.564</td>\n",
       "      <td>goat</td>\n",
       "      <td>4.949</td>\n",
       "      <td>1.477037</td>\n",
       "      <td>14.00</td>\n",
       "    </tr>\n",
       "    <tr>\n",
       "      <th>21</th>\n",
       "      <td>5.298</td>\n",
       "      <td>sheep</td>\n",
       "      <td>5.220</td>\n",
       "      <td>1.330000</td>\n",
       "      <td>15.20</td>\n",
       "    </tr>\n",
       "    <tr>\n",
       "      <th>22</th>\n",
       "      <td>5.455</td>\n",
       "      <td>goat</td>\n",
       "      <td>9.242</td>\n",
       "      <td>1.440000</td>\n",
       "      <td>32.00</td>\n",
       "    </tr>\n",
       "    <tr>\n",
       "      <th>23</th>\n",
       "      <td>5.855</td>\n",
       "      <td>sheep</td>\n",
       "      <td>10.199</td>\n",
       "      <td>2.000000</td>\n",
       "      <td>56.71</td>\n",
       "    </tr>\n",
       "    <tr>\n",
       "      <th>24</th>\n",
       "      <td>5.366</td>\n",
       "      <td>goat</td>\n",
       "      <td>3.664</td>\n",
       "      <td>1.310000</td>\n",
       "      <td>16.80</td>\n",
       "    </tr>\n",
       "    <tr>\n",
       "      <th>25</th>\n",
       "      <td>12.052</td>\n",
       "      <td>cow</td>\n",
       "      <td>3.219</td>\n",
       "      <td>1.460000</td>\n",
       "      <td>11.60</td>\n",
       "    </tr>\n",
       "    <tr>\n",
       "      <th>26</th>\n",
       "      <td>6.458</td>\n",
       "      <td>sheep</td>\n",
       "      <td>6.962</td>\n",
       "      <td>1.720000</td>\n",
       "      <td>26.50</td>\n",
       "    </tr>\n",
       "    <tr>\n",
       "      <th>27</th>\n",
       "      <td>5.328</td>\n",
       "      <td>cow</td>\n",
       "      <td>3.912</td>\n",
       "      <td>1.250000</td>\n",
       "      <td>0.70</td>\n",
       "    </tr>\n",
       "    <tr>\n",
       "      <th>28</th>\n",
       "      <td>5.802</td>\n",
       "      <td>goat</td>\n",
       "      <td>6.685</td>\n",
       "      <td>1.080000</td>\n",
       "      <td>13.40</td>\n",
       "    </tr>\n",
       "    <tr>\n",
       "      <th>29</th>\n",
       "      <td>6.176</td>\n",
       "      <td>cow</td>\n",
       "      <td>4.787</td>\n",
       "      <td>1.250000</td>\n",
       "      <td>5.50</td>\n",
       "    </tr>\n",
       "  </tbody>\n",
       "</table>\n",
       "</div>"
      ],
      "text/plain": [
       "    Acetic Animal     H2S    Lactic  Taste\n",
       "0    4.543  sheep   3.135  0.860000  12.30\n",
       "1    5.159  sheep   5.043  1.530000  20.90\n",
       "2    5.366    cow   5.438  1.570000  39.00\n",
       "3    5.759  sheep   7.496  1.810000  47.90\n",
       "4    4.663    cow   3.807  0.990000   5.60\n",
       "5    5.697   goat   7.601  1.090000  25.90\n",
       "6    5.892    cow   8.726  1.290000  37.30\n",
       "7    6.078    cow   7.966  1.780000  21.90\n",
       "8    4.898  sheep   3.850  1.290000  18.10\n",
       "9    5.242  sheep   4.174  1.580000  21.00\n",
       "10   5.740   goat   6.142  1.680000  34.90\n",
       "11   6.446   goat   7.908  1.900000  57.20\n",
       "12   4.477  sheep   2.996  1.477037   0.70\n",
       "13   5.236  sheep   4.942  1.300000  25.90\n",
       "14   6.151  sheep   6.752  1.520000  54.90\n",
       "15   6.365  sheep   9.588  1.740000  40.90\n",
       "16   4.787    cow   3.912  1.477037  15.90\n",
       "17  15.213   goat   4.700  1.490000   6.40\n",
       "18   5.247  sheep   6.174  1.630000  18.00\n",
       "19   5.438  sheep   9.064  1.990000  38.90\n",
       "20   4.564   goat   4.949  1.477037  14.00\n",
       "21   5.298  sheep   5.220  1.330000  15.20\n",
       "22   5.455   goat   9.242  1.440000  32.00\n",
       "23   5.855  sheep  10.199  2.000000  56.71\n",
       "24   5.366   goat   3.664  1.310000  16.80\n",
       "25  12.052    cow   3.219  1.460000  11.60\n",
       "26   6.458  sheep   6.962  1.720000  26.50\n",
       "27   5.328    cow   3.912  1.250000   0.70\n",
       "28   5.802   goat   6.685  1.080000  13.40\n",
       "29   6.176    cow   4.787  1.250000   5.50"
      ]
     },
     "execution_count": 8,
     "metadata": {},
     "output_type": "execute_result"
    }
   ],
   "source": [
    "data_no_mv_m4 = data_no_mv_m2.copy()\n",
    "mf_animal = data_no_mv_m2['Animal'].value_counts().index[0]\n",
    "data_no_mv_m4['Animal'].fillna(mf_animal, inplace=True)\n",
    "data_no_mv_m4"
   ]
  },
  {
   "cell_type": "markdown",
   "metadata": {},
   "source": [
    "## Deal with outliers"
   ]
  },
  {
   "cell_type": "code",
   "execution_count": 9,
   "metadata": {},
   "outputs": [],
   "source": [
    "data_no_mv = data_no_mv_m4.copy()"
   ]
  },
  {
   "cell_type": "markdown",
   "metadata": {},
   "source": [
    "### Explore the probability distribution functions"
   ]
  },
  {
   "cell_type": "code",
   "execution_count": 51,
   "metadata": {},
   "outputs": [
    {
     "name": "stderr",
     "output_type": "stream",
     "text": [
      "/var/folders/tn/23sfm0zs5f725m1tjsjgv1tc0000gn/T/ipykernel_36689/1051526947.py:1: UserWarning: \n",
      "\n",
      "`distplot` is a deprecated function and will be removed in seaborn v0.14.0.\n",
      "\n",
      "Please adapt your code to use either `displot` (a figure-level function with\n",
      "similar flexibility) or `histplot` (an axes-level function for histograms).\n",
      "\n",
      "For a guide to updating your code to use the new functions, please see\n",
      "https://gist.github.com/mwaskom/de44147ed2974457ad6372750bbe5751\n",
      "\n",
      "  sns.distplot(data_no_mv['Acetic'])\n"
     ]
    },
    {
     "data": {
      "image/png": "[encoded data removed]",
      "text/plain": [
       "<Figure size 640x480 with 1 Axes>"
      ]
     },
     "metadata": {},
     "output_type": "display_data"
    }
   ],
   "source": [
    "sns.distplot(data_no_mv['Acetic'])\n",
    "plt.show()"
   ]
  },
  {
   "cell_type": "code",
   "execution_count": 52,
   "metadata": {},
   "outputs": [
    {
     "name": "stderr",
     "output_type": "stream",
     "text": [
      "/var/folders/tn/23sfm0zs5f725m1tjsjgv1tc0000gn/T/ipykernel_36689/4228857375.py:1: UserWarning: \n",
      "\n",
      "`distplot` is a deprecated function and will be removed in seaborn v0.14.0.\n",
      "\n",
      "Please adapt your code to use either `displot` (a figure-level function with\n",
      "similar flexibility) or `histplot` (an axes-level function for histograms).\n",
      "\n",
      "For a guide to updating your code to use the new functions, please see\n",
      "https://gist.github.com/mwaskom/de44147ed2974457ad6372750bbe5751\n",
      "\n",
      "  sns.distplot(data_no_mv['H2S'])\n"
     ]
    },
    {
     "data": {
      "image/png": "[encoded data removed]",
      "text/plain": [
       "<Figure size 640x480 with 1 Axes>"
      ]
     },
     "metadata": {},
     "output_type": "display_data"
    }
   ],
   "source": [
    "sns.distplot(data_no_mv['H2S'])\n",
    "plt.show()"
   ]
  },
  {
   "cell_type": "code",
   "execution_count": 53,
   "metadata": {},
   "outputs": [
    {
     "name": "stderr",
     "output_type": "stream",
     "text": [
      "/var/folders/tn/23sfm0zs5f725m1tjsjgv1tc0000gn/T/ipykernel_36689/3527281904.py:1: UserWarning: \n",
      "\n",
      "`distplot` is a deprecated function and will be removed in seaborn v0.14.0.\n",
      "\n",
      "Please adapt your code to use either `displot` (a figure-level function with\n",
      "similar flexibility) or `histplot` (an axes-level function for histograms).\n",
      "\n",
      "For a guide to updating your code to use the new functions, please see\n",
      "https://gist.github.com/mwaskom/de44147ed2974457ad6372750bbe5751\n",
      "\n",
      "  sns.distplot(data_no_mv['Lactic'])\n"
     ]
    },
    {
     "data": {
      "image/png": "[encoded data removed]",
      "text/plain": [
       "<Figure size 640x480 with 1 Axes>"
      ]
     },
     "metadata": {},
     "output_type": "display_data"
    }
   ],
   "source": [
    "sns.distplot(data_no_mv['Lactic'])\n",
    "plt.show()"
   ]
  },
  {
   "cell_type": "code",
   "execution_count": 54,
   "metadata": {},
   "outputs": [
    {
     "name": "stderr",
     "output_type": "stream",
     "text": [
      "/var/folders/tn/23sfm0zs5f725m1tjsjgv1tc0000gn/T/ipykernel_36689/862876312.py:1: UserWarning: \n",
      "\n",
      "`distplot` is a deprecated function and will be removed in seaborn v0.14.0.\n",
      "\n",
      "Please adapt your code to use either `displot` (a figure-level function with\n",
      "similar flexibility) or `histplot` (an axes-level function for histograms).\n",
      "\n",
      "For a guide to updating your code to use the new functions, please see\n",
      "https://gist.github.com/mwaskom/de44147ed2974457ad6372750bbe5751\n",
      "\n",
      "  sns.distplot(data_no_mv['Taste'])\n"
     ]
    },
    {
     "data": {
      "image/png": "[encoded data removed]",
      "text/plain": [
       "<Figure size 640x480 with 1 Axes>"
      ]
     },
     "metadata": {},
     "output_type": "display_data"
    }
   ],
   "source": [
    "sns.distplot(data_no_mv['Taste'])\n",
    "plt.show()"
   ]
  },
  {
   "cell_type": "markdown",
   "metadata": {},
   "source": [
    "### Method 1: Remove values above (or below) a certain quantile"
   ]
  },
  {
   "cell_type": "code",
   "execution_count": 41,
   "metadata": {
    "collapsed": true
   },
   "outputs": [],
   "source": [
    "q = data_no_mv['Acetic'].quantile(0.96)\n",
    "data_no_ol_m1 = data_no_mv[data_no_mv['Acetic'] < q]"
   ]
  },
  {
   "cell_type": "code",
   "execution_count": 42,
   "metadata": {
    "scrolled": true
   },
   "outputs": [
    {
     "name": "stderr",
     "output_type": "stream",
     "text": [
      "/var/folders/tn/23sfm0zs5f725m1tjsjgv1tc0000gn/T/ipykernel_36689/3229253560.py:1: UserWarning: \n",
      "\n",
      "`distplot` is a deprecated function and will be removed in seaborn v0.14.0.\n",
      "\n",
      "Please adapt your code to use either `displot` (a figure-level function with\n",
      "similar flexibility) or `histplot` (an axes-level function for histograms).\n",
      "\n",
      "For a guide to updating your code to use the new functions, please see\n",
      "https://gist.github.com/mwaskom/de44147ed2974457ad6372750bbe5751\n",
      "\n",
      "  sns.distplot(data_no_ol_m1['Acetic'])\n"
     ]
    },
    {
     "data": {
      "image/png": "[encoded data removed]",
      "text/plain": [
       "<Figure size 640x480 with 1 Axes>"
      ]
     },
     "metadata": {},
     "output_type": "display_data"
    }
   ],
   "source": [
    "sns.distplot(data_no_ol_m1['Acetic'])\n",
    "plt.show()"
   ]
  },
  {
   "cell_type": "markdown",
   "metadata": {},
   "source": [
    "### Draw box plots"
   ]
  },
  {
   "cell_type": "markdown",
   "metadata": {},
   "source": [
    "Detailed information about box plots: https://towardsdatascience.com/understanding-boxplots-5e2df7bcbd51"
   ]
  },
  {
   "cell_type": "code",
   "execution_count": 44,
   "metadata": {},
   "outputs": [
    {
     "data": {
      "image/png": "[encoded data removed]",
      "text/plain": [
       "<Figure size 640x480 with 1 Axes>"
      ]
     },
     "metadata": {},
     "output_type": "display_data"
    }
   ],
   "source": [
    "sns.boxplot(x=data_no_mv['Acetic'])\n",
    "plt.show()"
   ]
  },
  {
   "cell_type": "code",
   "execution_count": 45,
   "metadata": {},
   "outputs": [
    {
     "data": {
      "image/png": "[encoded data removed]",
      "text/plain": [
       "<Figure size 640x480 with 1 Axes>"
      ]
     },
     "metadata": {},
     "output_type": "display_data"
    }
   ],
   "source": [
    "sns.boxplot(x=data_no_mv['H2S'])\n",
    "plt.show()"
   ]
  },
  {
   "cell_type": "code",
   "execution_count": 46,
   "metadata": {},
   "outputs": [
    {
     "data": {
      "image/png": "[encoded data removed]",
      "text/plain": [
       "<Figure size 640x480 with 1 Axes>"
      ]
     },
     "metadata": {},
     "output_type": "display_data"
    }
   ],
   "source": [
    "sns.boxplot(x=data_no_mv['Lactic'])\n",
    "plt.show()"
   ]
  },
  {
   "cell_type": "code",
   "execution_count": 47,
   "metadata": {},
   "outputs": [
    {
     "data": {
      "image/png": "[encoded data removed]",
      "text/plain": [
       "<Figure size 640x480 with 1 Axes>"
      ]
     },
     "metadata": {},
     "output_type": "display_data"
    }
   ],
   "source": [
    "sns.boxplot(x=data_no_mv['Taste'])\n",
    "plt.show()"
   ]
  },
  {
   "cell_type": "markdown",
   "metadata": {},
   "source": [
    "### Method 2: Remove values using the Interquartile rule"
   ]
  },
  {
   "cell_type": "code",
   "execution_count": 48,
   "metadata": {
    "collapsed": true
   },
   "outputs": [],
   "source": [
    "q1 = data_no_mv['Acetic'].quantile(0.25)\n",
    "q3 = data_no_mv['Acetic'].quantile(0.75)\n",
    "\n",
    "ll = q1 - (q3-q1)*1.5\n",
    "ul = q3 + (q3-q1)*1.5\n",
    "\n",
    "data_no_ol_m2 = data_no_mv[data_no_mv['Acetic'].between(ll,ul)]"
   ]
  },
  {
   "cell_type": "code",
   "execution_count": 49,
   "metadata": {},
   "outputs": [
    {
     "data": {
      "image/png": "[encoded data removed]",
      "text/plain": [
       "<Figure size 640x480 with 1 Axes>"
      ]
     },
     "metadata": {},
     "output_type": "display_data"
    }
   ],
   "source": [
    "sns.boxplot(x=data_no_ol_m2['Acetic'])\n",
    "plt.show()"
   ]
  },
  {
   "cell_type": "markdown",
   "metadata": {},
   "source": [
    "### Method 3: Remove values using a Z-score"
   ]
  },
  {
   "cell_type": "markdown",
   "metadata": {},
   "source": [
    "Activity: Look up the internet and write a piece of code to carry out outlier removal using the Z-score method. This link gives you a nice overview of both the Z-score method as well as the Interquartile rule: https://medium.com/datadriveninvestor/finding-outliers-in-dataset-using-python-efc3fce6ce32\n"
   ]
  },
  {
   "cell_type": "code",
   "execution_count": 50,
   "metadata": {},
   "outputs": [
    {
     "data": {
      "application/vnd.microsoft.datawrangler.viewer.v0+json": {
       "columns": [
        {
         "name": "index",
         "rawType": "int64",
         "type": "integer"
        },
        {
         "name": "Acetic",
         "rawType": "float64",
         "type": "float"
        },
        {
         "name": "Animal",
         "rawType": "object",
         "type": "string"
        },
        {
         "name": "H2S",
         "rawType": "float64",
         "type": "float"
        },
        {
         "name": "Lactic",
         "rawType": "float64",
         "type": "float"
        },
        {
         "name": "Taste",
         "rawType": "float64",
         "type": "float"
        }
       ],
       "ref": "c5d3c1c1-b050-44c2-833d-1b91cd1aea18",
       "rows": [
        [
         "0",
         "4.543",
         "sheep",
         "3.135",
         "0.86",
         "12.3"
        ],
        [
         "1",
         "5.159",
         "sheep",
         "5.043",
         "1.53",
         "20.9"
        ],
        [
         "2",
         "5.366",
         "cow",
         "5.438",
         "1.57",
         "39.0"
        ],
        [
         "3",
         "5.759",
         "sheep",
         "7.496",
         "1.81",
         "47.9"
        ],
        [
         "4",
         "4.663",
         "cow",
         "3.807",
         "0.99",
         "5.6"
        ],
        [
         "5",
         "5.697",
         "goat",
         "7.601",
         "1.09",
         "25.9"
        ],
        [
         "6",
         "5.892",
         "cow",
         "8.726",
         "1.29",
         "37.3"
        ],
        [
         "7",
         "6.078",
         "cow",
         "7.966",
         "1.78",
         "21.9"
        ],
        [
         "8",
         "4.898",
         "sheep",
         "3.85",
         "1.29",
         "18.1"
        ],
        [
         "9",
         "5.242",
         "sheep",
         "4.174",
         "1.58",
         "21.0"
        ],
        [
         "10",
         "5.74",
         "goat",
         "6.142",
         "1.68",
         "34.9"
        ],
        [
         "11",
         "6.446",
         "goat",
         "7.908",
         "1.9",
         "57.2"
        ],
        [
         "12",
         "4.477",
         "sheep",
         "2.996",
         "1.477037037037037",
         "0.7"
        ],
        [
         "13",
         "5.236",
         "sheep",
         "4.942",
         "1.3",
         "25.9"
        ],
        [
         "14",
         "6.151",
         "sheep",
         "6.752",
         "1.52",
         "54.9"
        ],
        [
         "15",
         "6.365",
         "sheep",
         "9.588",
         "1.74",
         "40.9"
        ],
        [
         "16",
         "4.787",
         "cow",
         "3.912",
         "1.477037037037037",
         "15.9"
        ],
        [
         "18",
         "5.247",
         "sheep",
         "6.174",
         "1.63",
         "18.0"
        ],
        [
         "19",
         "5.438",
         "sheep",
         "9.064",
         "1.99",
         "38.9"
        ],
        [
         "20",
         "4.564",
         "goat",
         "4.949",
         "1.477037037037037",
         "14.0"
        ],
        [
         "21",
         "5.298",
         "sheep",
         "5.22",
         "1.33",
         "15.2"
        ],
        [
         "22",
         "5.455",
         "goat",
         "9.242",
         "1.44",
         "32.0"
        ],
        [
         "23",
         "5.855",
         "sheep",
         "10.199",
         "2.0",
         "56.71"
        ],
        [
         "24",
         "5.366",
         "goat",
         "3.664",
         "1.31",
         "16.8"
        ],
        [
         "26",
         "6.458",
         "sheep",
         "6.962",
         "1.72",
         "26.5"
        ],
        [
         "27",
         "5.328",
         "cow",
         "3.912",
         "1.25",
         "0.7"
        ],
        [
         "28",
         "5.802",
         "goat",
         "6.685",
         "1.08",
         "13.4"
        ],
        [
         "29",
         "6.176",
         "cow",
         "4.787",
         "1.25",
         "5.5"
        ]
       ],
       "shape": {
        "columns": 5,
        "rows": 28
       }
      },
      "text/html": [
       "<div>\n",
       "<style scoped>\n",
       "    .dataframe tbody tr th:only-of-type {\n",
       "        vertical-align: middle;\n",
       "    }\n",
       "\n",
       "    .dataframe tbody tr th {\n",
       "        vertical-align: top;\n",
       "    }\n",
       "\n",
       "    .dataframe thead th {\n",
       "        text-align: right;\n",
       "    }\n",
       "</style>\n",
       "<table border=\"1\" class=\"dataframe\">\n",
       "  <thead>\n",
       "    <tr style=\"text-align: right;\">\n",
       "      <th></th>\n",
       "      <th>Acetic</th>\n",
       "      <th>Animal</th>\n",
       "      <th>H2S</th>\n",
       "      <th>Lactic</th>\n",
       "      <th>Taste</th>\n",
       "    </tr>\n",
       "  </thead>\n",
       "  <tbody>\n",
       "    <tr>\n",
       "      <th>0</th>\n",
       "      <td>4.543</td>\n",
       "      <td>sheep</td>\n",
       "      <td>3.135</td>\n",
       "      <td>0.860000</td>\n",
       "      <td>12.30</td>\n",
       "    </tr>\n",
       "    <tr>\n",
       "      <th>1</th>\n",
       "      <td>5.159</td>\n",
       "      <td>sheep</td>\n",
       "      <td>5.043</td>\n",
       "      <td>1.530000</td>\n",
       "      <td>20.90</td>\n",
       "    </tr>\n",
       "    <tr>\n",
       "      <th>2</th>\n",
       "      <td>5.366</td>\n",
       "      <td>cow</td>\n",
       "      <td>5.438</td>\n",
       "      <td>1.570000</td>\n",
       "      <td>39.00</td>\n",
       "    </tr>\n",
       "    <tr>\n",
       "      <th>3</th>\n",
       "      <td>5.759</td>\n",
       "      <td>sheep</td>\n",
       "      <td>7.496</td>\n",
       "      <td>1.810000</td>\n",
       "      <td>47.90</td>\n",
       "    </tr>\n",
       "    <tr>\n",
       "      <th>4</th>\n",
       "      <td>4.663</td>\n",
       "      <td>cow</td>\n",
       "      <td>3.807</td>\n",
       "      <td>0.990000</td>\n",
       "      <td>5.60</td>\n",
       "    </tr>\n",
       "    <tr>\n",
       "      <th>5</th>\n",
       "      <td>5.697</td>\n",
       "      <td>goat</td>\n",
       "      <td>7.601</td>\n",
       "      <td>1.090000</td>\n",
       "      <td>25.90</td>\n",
       "    </tr>\n",
       "    <tr>\n",
       "      <th>6</th>\n",
       "      <td>5.892</td>\n",
       "      <td>cow</td>\n",
       "      <td>8.726</td>\n",
       "      <td>1.290000</td>\n",
       "      <td>37.30</td>\n",
       "    </tr>\n",
       "    <tr>\n",
       "      <th>7</th>\n",
       "      <td>6.078</td>\n",
       "      <td>cow</td>\n",
       "      <td>7.966</td>\n",
       "      <td>1.780000</td>\n",
       "      <td>21.90</td>\n",
       "    </tr>\n",
       "    <tr>\n",
       "      <th>8</th>\n",
       "      <td>4.898</td>\n",
       "      <td>sheep</td>\n",
       "      <td>3.850</td>\n",
       "      <td>1.290000</td>\n",
       "      <td>18.10</td>\n",
       "    </tr>\n",
       "    <tr>\n",
       "      <th>9</th>\n",
       "      <td>5.242</td>\n",
       "      <td>sheep</td>\n",
       "      <td>4.174</td>\n",
       "      <td>1.580000</td>\n",
       "      <td>21.00</td>\n",
       "    </tr>\n",
       "    <tr>\n",
       "      <th>10</th>\n",
       "      <td>5.740</td>\n",
       "      <td>goat</td>\n",
       "      <td>6.142</td>\n",
       "      <td>1.680000</td>\n",
       "      <td>34.90</td>\n",
       "    </tr>\n",
       "    <tr>\n",
       "      <th>11</th>\n",
       "      <td>6.446</td>\n",
       "      <td>goat</td>\n",
       "      <td>7.908</td>\n",
       "      <td>1.900000</td>\n",
       "      <td>57.20</td>\n",
       "    </tr>\n",
       "    <tr>\n",
       "      <th>12</th>\n",
       "      <td>4.477</td>\n",
       "      <td>sheep</td>\n",
       "      <td>2.996</td>\n",
       "      <td>1.477037</td>\n",
       "      <td>0.70</td>\n",
       "    </tr>\n",
       "    <tr>\n",
       "      <th>13</th>\n",
       "      <td>5.236</td>\n",
       "      <td>sheep</td>\n",
       "      <td>4.942</td>\n",
       "      <td>1.300000</td>\n",
       "      <td>25.90</td>\n",
       "    </tr>\n",
       "    <tr>\n",
       "      <th>14</th>\n",
       "      <td>6.151</td>\n",
       "      <td>sheep</td>\n",
       "      <td>6.752</td>\n",
       "      <td>1.520000</td>\n",
       "      <td>54.90</td>\n",
       "    </tr>\n",
       "    <tr>\n",
       "      <th>15</th>\n",
       "      <td>6.365</td>\n",
       "      <td>sheep</td>\n",
       "      <td>9.588</td>\n",
       "      <td>1.740000</td>\n",
       "      <td>40.90</td>\n",
       "    </tr>\n",
       "    <tr>\n",
       "      <th>16</th>\n",
       "      <td>4.787</td>\n",
       "      <td>cow</td>\n",
       "      <td>3.912</td>\n",
       "      <td>1.477037</td>\n",
       "      <td>15.90</td>\n",
       "    </tr>\n",
       "    <tr>\n",
       "      <th>18</th>\n",
       "      <td>5.247</td>\n",
       "      <td>sheep</td>\n",
       "      <td>6.174</td>\n",
       "      <td>1.630000</td>\n",
       "      <td>18.00</td>\n",
       "    </tr>\n",
       "    <tr>\n",
       "      <th>19</th>\n",
       "      <td>5.438</td>\n",
       "      <td>sheep</td>\n",
       "      <td>9.064</td>\n",
       "      <td>1.990000</td>\n",
       "      <td>38.90</td>\n",
       "    </tr>\n",
       "    <tr>\n",
       "      <th>20</th>\n",
       "      <td>4.564</td>\n",
       "      <td>goat</td>\n",
       "      <td>4.949</td>\n",
       "      <td>1.477037</td>\n",
       "      <td>14.00</td>\n",
       "    </tr>\n",
       "    <tr>\n",
       "      <th>21</th>\n",
       "      <td>5.298</td>\n",
       "      <td>sheep</td>\n",
       "      <td>5.220</td>\n",
       "      <td>1.330000</td>\n",
       "      <td>15.20</td>\n",
       "    </tr>\n",
       "    <tr>\n",
       "      <th>22</th>\n",
       "      <td>5.455</td>\n",
       "      <td>goat</td>\n",
       "      <td>9.242</td>\n",
       "      <td>1.440000</td>\n",
       "      <td>32.00</td>\n",
       "    </tr>\n",
       "    <tr>\n",
       "      <th>23</th>\n",
       "      <td>5.855</td>\n",
       "      <td>sheep</td>\n",
       "      <td>10.199</td>\n",
       "      <td>2.000000</td>\n",
       "      <td>56.71</td>\n",
       "    </tr>\n",
       "    <tr>\n",
       "      <th>24</th>\n",
       "      <td>5.366</td>\n",
       "      <td>goat</td>\n",
       "      <td>3.664</td>\n",
       "      <td>1.310000</td>\n",
       "      <td>16.80</td>\n",
       "    </tr>\n",
       "    <tr>\n",
       "      <th>26</th>\n",
       "      <td>6.458</td>\n",
       "      <td>sheep</td>\n",
       "      <td>6.962</td>\n",
       "      <td>1.720000</td>\n",
       "      <td>26.50</td>\n",
       "    </tr>\n",
       "    <tr>\n",
       "      <th>27</th>\n",
       "      <td>5.328</td>\n",
       "      <td>cow</td>\n",
       "      <td>3.912</td>\n",
       "      <td>1.250000</td>\n",
       "      <td>0.70</td>\n",
       "    </tr>\n",
       "    <tr>\n",
       "      <th>28</th>\n",
       "      <td>5.802</td>\n",
       "      <td>goat</td>\n",
       "      <td>6.685</td>\n",
       "      <td>1.080000</td>\n",
       "      <td>13.40</td>\n",
       "    </tr>\n",
       "    <tr>\n",
       "      <th>29</th>\n",
       "      <td>6.176</td>\n",
       "      <td>cow</td>\n",
       "      <td>4.787</td>\n",
       "      <td>1.250000</td>\n",
       "      <td>5.50</td>\n",
       "    </tr>\n",
       "  </tbody>\n",
       "</table>\n",
       "</div>"
      ],
      "text/plain": [
       "    Acetic Animal     H2S    Lactic  Taste\n",
       "0    4.543  sheep   3.135  0.860000  12.30\n",
       "1    5.159  sheep   5.043  1.530000  20.90\n",
       "2    5.366    cow   5.438  1.570000  39.00\n",
       "3    5.759  sheep   7.496  1.810000  47.90\n",
       "4    4.663    cow   3.807  0.990000   5.60\n",
       "5    5.697   goat   7.601  1.090000  25.90\n",
       "6    5.892    cow   8.726  1.290000  37.30\n",
       "7    6.078    cow   7.966  1.780000  21.90\n",
       "8    4.898  sheep   3.850  1.290000  18.10\n",
       "9    5.242  sheep   4.174  1.580000  21.00\n",
       "10   5.740   goat   6.142  1.680000  34.90\n",
       "11   6.446   goat   7.908  1.900000  57.20\n",
       "12   4.477  sheep   2.996  1.477037   0.70\n",
       "13   5.236  sheep   4.942  1.300000  25.90\n",
       "14   6.151  sheep   6.752  1.520000  54.90\n",
       "15   6.365  sheep   9.588  1.740000  40.90\n",
       "16   4.787    cow   3.912  1.477037  15.90\n",
       "18   5.247  sheep   6.174  1.630000  18.00\n",
       "19   5.438  sheep   9.064  1.990000  38.90\n",
       "20   4.564   goat   4.949  1.477037  14.00\n",
       "21   5.298  sheep   5.220  1.330000  15.20\n",
       "22   5.455   goat   9.242  1.440000  32.00\n",
       "23   5.855  sheep  10.199  2.000000  56.71\n",
       "24   5.366   goat   3.664  1.310000  16.80\n",
       "26   6.458  sheep   6.962  1.720000  26.50\n",
       "27   5.328    cow   3.912  1.250000   0.70\n",
       "28   5.802   goat   6.685  1.080000  13.40\n",
       "29   6.176    cow   4.787  1.250000   5.50"
      ]
     },
     "execution_count": 50,
     "metadata": {},
     "output_type": "execute_result"
    }
   ],
   "source": [
    "data_pp = data_no_ol_m2.copy()\n",
    "data_pp"
   ]
  },
  {
   "cell_type": "code",
   "execution_count": null,
   "metadata": {
    "collapsed": true
   },
   "outputs": [],
   "source": []
  }
 ],
 "metadata": {
  "kernelspec": {
   "display_name": "CEIC6789",
   "language": "python",
   "name": "python3"
  },
  "language_info": {
   "codemirror_mode": {
    "name": "ipython",
    "version": 3
   },
   "file_extension": ".py",
   "mimetype": "text/x-python",
   "name": "python",
   "nbconvert_exporter": "python",
   "pygments_lexer": "ipython3",
   "version": "3.13.3"
  }
 },
 "nbformat": 4,
 "nbformat_minor": 2
}
