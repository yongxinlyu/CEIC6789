{
 "cells": [
  {
   "cell_type": "markdown",
   "metadata": {
    "id": "0jFfwCikwk11"
   },
   "source": [
    "# Week 1 tutorial: Data preprocessing and analysis"
   ]
  },
  {
   "cell_type": "markdown",
   "metadata": {
    "id": "Wa97uClR5eHY"
   },
   "source": [
    "## Question 1\n",
    "\n",
    "You are working for a pharmaceutical company that is interested in understanding the antimicrobic property of various molecules as a function of their respective three-dimensional (3D) structures. A preprocessing step involves transforming the 3D structure of each molecule to a computer-readable, numerical format (features). One such transformation method is to use an approach called the Coloumb matrix that mimics the electrostatic interaction between the nuclei of the atoms in a molecule.\n",
    "\n",
    "Coulomb matrix (M) is calculated using the equation below.\n",
    "\n",
    "\\begin{equation}\n",
    "    M_{ij}^\\mathrm{Coulomb}=\\left\\{\n",
    "        \\begin{matrix}\n",
    "        0.5 Z_i^{2.4} & \\text{for } i = j \\\\\n",
    "            \\frac{Z_i Z_j}{R_{ij}} & \\text{for } i \\neq j\n",
    "        \\end{matrix}\n",
    "        \\right.\n",
    "\\end{equation}\n",
    "\n",
    "where, $M_{ij}$ are the elements of the matrix, $Z_i$ (or $Z_j$) represents the atomic number of the atom $i$ (or $j$) in the molecule, and $R_{ij}$ is the distance between atom $i$ and atom $j$.\n",
    "\n",
    "1. Write a function that accepts a python dictionary containing the molecule information (elements, their respective atomic numbers, 3D Cartesian coordinates in Angstrom), and returns the corresponding Coulomb matrix. Test the function you wrote on the dictionary of a water and a benzene molecule given in the cell below. For example, since the water molecule has three atoms, i.e. 2 H and 1 O atoms, your function should output a 3$\\times$3 matrix, where the diagonal elements contain the information for the $i=j$ case, while the off-diagonal elements contain the information for the $i \\neq j$ case.\n",
    "\n",
    "2. One important feature of the transformation method is that it should produce the same output even when the molecule is rotated. This is because the property of the molecule does not change if it is rotated and hence, the transformation method should yield the same features (in this case the same matrix). Does Coulomb matrix satisfy this rule?"
   ]
  },
  {
   "cell_type": "code",
   "execution_count": 1,
   "metadata": {
    "id": "wCBshQA4wHvF"
   },
   "outputs": [],
   "source": [
    "water = {\n",
    "  'elements': ['H','H','O'],\n",
    "  'atomic_numbers': [1, 1, 8],\n",
    "  'coordinates': [[0.00000, 0.75545, -0.47116], [0.00000, -0.75545, -0.47116], [0.00000, 0.00000, 0.11779]]\n",
    "}"
   ]
  },
  {
   "cell_type": "code",
   "execution_count": null,
   "metadata": {
    "id": "MaSllyJjwIyk"
   },
   "outputs": [],
   "source": [
    "benzene = {\n",
    "   'elements': ['C', 'C', 'C', 'C', 'C', 'C', 'H', 'H', 'H', 'H', 'H', 'H'],\n",
    "   'atomic_numbers': [6, 6, 6, 6, 6, 6, 1, 1, 1, 1, 1, 1],\n",
    "   'coordinates': [[0.6825, -0.0924, 1.2087], \\\n",
    "                    [-0.7075, -0.0352, 1.1973], \\\n",
    "                    [-1.3898, 0.0572, -0.0114], \\\n",
    "                    [-0.6824, 0.0925, -1.2088], \\\n",
    "                    [0.7075, 0.0352, -1.1973], \\\n",
    "                    [1.3899, -0.0572, 0.0114], \\\n",
    "                    [2.4836, -0.1022, 0.0205], \\\n",
    "                    [1.2194, -0.1652, 2.1600], \\\n",
    "                    [-1.2644, -0.0630, 2.1393], \\\n",
    "                    [-2.4836, 0.1021, -0.0204], \\\n",
    "                    [-1.2194, 0.1652, -2.1599], \\\n",
    "                    [1.2641, 0.0628, -2.1395]]\n",
    "}"
   ]
  },
  {
   "cell_type": "markdown",
   "metadata": {
    "id": "usDlr1vN8pvi"
   },
   "source": [
    "## Solution"
   ]
  },
  {
   "cell_type": "code",
   "execution_count": 5,
   "metadata": {
    "id": "jwkKnMmw8r8T"
   },
   "outputs": [],
   "source": [
    "import numpy as np\n",
    "\n",
    "def coulomb_calculator(info):\n",
    "    # Taking data from dictionary\n",
    "    # Note that this function must be flexible with inputs of different molecules from the user\n",
    "    elements = info['elements']\n",
    "    atomic_numbers = info['atomic_numbers']\n",
    "    coordinates = info['coordinates']\n",
    "\n",
    "    #Create a coulumb array to hold the answer, initally all values will be zero until we replace them\n",
    "    coulomb_array = np.zeros((len(elements), len(elements)))\n",
    "\n",
    "    #Using a nested for loop to interate through the combinations of i and j\n",
    "    for i in range(len(elements)):\n",
    "        for j in range(len(elements)):\n",
    "            # Check if we are on a diagonal\n",
    "            if i == j:\n",
    "                #Apply formula for diagonal\n",
    "                coulomb_array[i, j] = 0.5*atomic_numbers[i]**2.4\n",
    "            else:\n",
    "                #Formula for distance between 2 objects in 3D space\n",
    "                distance = ((coordinates[j][0]-coordinates[i][0])**2+(coordinates[j][1]-coordinates[i][1])**2\\\n",
    "                                +(coordinates[j][2]-coordinates[i][2])**2)**0.5\n",
    "\n",
    "                #Apply formula for non-diagonal\n",
    "                coulomb_array[i, j] = atomic_numbers[i]*atomic_numbers[j]/distance\n",
    "\n",
    "    #Now that the coulomb array is populated, return the matrix\n",
    "\n",
    "    return coulomb_array\n"
   ]
  },
  {
   "cell_type": "code",
   "execution_count": 6,
   "metadata": {
    "colab": {
     "base_uri": "https://localhost:8080/"
    },
    "id": "shcZtBw69ZSs",
    "outputId": "dfe4e7b9-86c0-4d95-add1-d4030387f591"
   },
   "outputs": [
    {
     "name": "stdout",
     "output_type": "stream",
     "text": [
      "The coulomb array for water is \n",
      " [[ 0.5         0.66185717  8.35162797]\n",
      " [ 0.66185717  0.5         8.35162797]\n",
      " [ 8.35162797  8.35162797 73.51669472]]\n"
     ]
    }
   ],
   "source": [
    "water_coulomb_array = coulomb_calculator(water)\n",
    "print('The coulomb array for water is \\n', water_coulomb_array)"
   ]
  },
  {
   "cell_type": "code",
   "execution_count": null,
   "metadata": {
    "colab": {
     "base_uri": "https://localhost:8080/"
    },
    "id": "rWRpQXil9o1E",
    "outputId": "a5107a37-f8a5-4cb1-d151-82e79f54c6f3"
   },
   "outputs": [
    {
     "name": "stdout",
     "output_type": "stream",
     "text": [
      "The coulomb array for benzene is \n",
      " [[36.8581052  25.87651053 14.94116637 12.938724   14.94079153 25.87865465\n",
      "   2.78067687  5.48057628  2.78025178  1.76373684  1.54759255  1.76373054]\n",
      " [25.87651053 36.8581052  25.87968675 14.94013309 12.93885432 14.94055117\n",
      "   1.76375511  2.78045042  5.48116784  2.7805875   1.76371494  1.54759268]\n",
      " [14.94116637 25.87968675 36.8581052  25.87700648 14.94109091 12.93964918\n",
      "   1.5476643   1.76376289  2.78073445  5.48066246  2.78041534  1.76378866]\n",
      " [12.938724   14.94013309 25.87700648 36.8581052  25.87827715 14.94081384\n",
      "   1.76374169  1.54754011  1.763739    2.78042855  5.48123405  2.78065587]\n",
      " [14.94079153 12.93885432 14.94109091 25.87827715 36.8581052  25.8787742\n",
      "   2.78050658  1.76366378  1.54759846  1.7637382   2.78050791  5.48109532]\n",
      " [25.87865465 14.94055117 12.93964918 14.94081384 25.8787742  36.8581052\n",
      "   5.48113799  2.78027689  1.76369155  1.54762639  1.76375622  2.7804619 ]\n",
      " [ 2.78067687  1.76375511  1.5476643   1.76374169  2.78050658  5.48113799\n",
      "   0.5         0.40227101  0.23225465  0.20114379  0.23225777  0.40225882]\n",
      " [ 5.48057628  2.78045042  1.76376289  1.54754011  1.76366378  2.78027689\n",
      "   0.40227101  0.5         0.40225457  0.2322581   0.20113582  0.23224633]\n",
      " [ 2.78025178  5.48116784  2.78073445  1.763739    1.54759846  1.76369155\n",
      "   0.23225465  0.40225457  0.5         0.40232375  0.23226175  0.20114061]\n",
      " [ 1.76373684  2.7805875   5.48066246  2.78042855  1.7637382   1.54762639\n",
      "   0.20114379  0.2322581   0.40232375  0.5         0.4022706   0.23226072]\n",
      " [ 1.54759255  1.76371494  2.78041534  5.48123405  2.78050791  1.76375622\n",
      "   0.23225777  0.20113582  0.23226175  0.4022706   0.5         0.40230215]\n",
      " [ 1.76373054  1.54759268  1.76378866  2.78065587  5.48109532  2.7804619\n",
      "   0.40225882  0.23224633  0.20114061  0.23226072  0.40230215  0.5       ]]\n"
     ]
    }
   ],
   "source": [
    "benzene_coulomb_array = coulomb_calculator(benzene)\n",
    "print('The coulomb array for benzene is \\n', benzene_coulomb_array)"
   ]
  },
  {
   "cell_type": "code",
   "execution_count": null,
   "metadata": {
    "colab": {
     "base_uri": "https://localhost:8080/"
    },
    "id": "j3djFtLU91pF",
    "outputId": "223a256b-3d09-4d16-b183-dfb5ee62e954"
   },
   "outputs": [
    {
     "data": {
      "text/plain": [
       "(12, 12)"
      ]
     },
     "execution_count": 6,
     "metadata": {},
     "output_type": "execute_result"
    }
   ],
   "source": [
    "benzene_coulomb_array.shape"
   ]
  },
  {
   "cell_type": "markdown",
   "metadata": {
    "id": "p10WqmQKwk12"
   },
   "source": [
    "## Question 2\n",
    "\n",
    "A juice manufacturing company has introduced a new product. They wanted to know if people liked the product or not, so they conducted an experiment where randomly chosen customers were asked to drink the juice and say whether they would be interested in buying the product. They have collected some relevant data, which is contained in juice_product.xlsx.\n",
    "\n",
    "There are seven variables (or columns):\n",
    "- Customer ID : A number assigned to the customer by the company.\n",
    "- Interested? : If the customer is willing to buy the product, the value is 1. If not, the value is 0.\n",
    "- Bottle type : The company tried selling the product in 3 different bottle designs namely 1, 2 and 3, in the increasing order of complexity; 1 being a simple design, while 3 being a complex design. This variable refers to the bottle design the customer received.\n",
    "- Age : The age of the customer.\n",
    "- Price : The amount the customer is willing to pay for a bottle of this product.\n",
    "- Customer name : Name of the customer. Although this was asked, later they had to delete all the names due to privacy reasons.\n",
    "- Gender : The gender of the customer.\n",
    "\n",
    "Now, you have been handed this data set and asked to preprocess the data, and if possible, obtain some useful insights already with the data you have.\n",
    "\n",
    "Here's a template to guide you with the process. There is no right or wrong answer when it comes to data science. Some approaches lead to a greater prediction accuracy, while some lead to a lower accuracy. So, this is a template I have given you based on how I approached this problem. This doesn't mean it's the best template. So, feel free to explore your own template and approach this problem in your own way.\n"
   ]
  },
  {
   "cell_type": "markdown",
   "metadata": {
    "id": "MKB1f3pfwk13"
   },
   "source": [
    "## 1. Import the relevant libraries"
   ]
  },
  {
   "cell_type": "code",
   "execution_count": null,
   "metadata": {
    "collapsed": true,
    "id": "MU2jJiq3wk13",
    "tags": ["hide-cell"]
   },
   "outputs": [],
   "source": [
    "import numpy as np\n",
    "import pandas as pd\n",
    "import matplotlib.pyplot as plt\n",
    "import seaborn as sns\n",
    "sns.set_theme()"
   ]
  },
  {
   "cell_type": "markdown",
   "metadata": {
    "id": "EFWUN1wlwk14"
   },
   "source": [
    "## 2. Load the raw data"
   ]
  },
  {
   "cell_type": "code",
   "execution_count": null,
   "metadata": {
    "id": "Ivjv0ciUwk14",
    "outputId": "fb49db32-857e-4fda-8d72-e832a5176517",
    "tags": ["hide-cell"]    
   },
   "outputs": [
    {
     "data": {
      "text/html": [
       "<div>\n",
       "<style>\n",
       "    .dataframe thead tr:only-child th {\n",
       "        text-align: right;\n",
       "    }\n",
       "\n",
       "    .dataframe thead th {\n",
       "        text-align: left;\n",
       "    }\n",
       "\n",
       "    .dataframe tbody tr th {\n",
       "        vertical-align: top;\n",
       "    }\n",
       "</style>\n",
       "<table border=\"1\" class=\"dataframe\">\n",
       "  <thead>\n",
       "    <tr style=\"text-align: right;\">\n",
       "      <th></th>\n",
       "      <th>Customer ID</th>\n",
       "      <th>Interested?</th>\n",
       "      <th>Bottle type</th>\n",
       "      <th>Age</th>\n",
       "      <th>Price</th>\n",
       "      <th>Customer name</th>\n",
       "      <th>Gender</th>\n",
       "    </tr>\n",
       "  </thead>\n",
       "  <tbody>\n",
       "    <tr>\n",
       "      <th>0</th>\n",
       "      <td>792</td>\n",
       "      <td>0</td>\n",
       "      <td>2.0</td>\n",
       "      <td>16.0</td>\n",
       "      <td>3.0</td>\n",
       "      <td>Mr. Surname</td>\n",
       "      <td>male</td>\n",
       "    </tr>\n",
       "    <tr>\n",
       "      <th>1</th>\n",
       "      <td>39</td>\n",
       "      <td>0</td>\n",
       "      <td>3.0</td>\n",
       "      <td>18.0</td>\n",
       "      <td>2.1</td>\n",
       "      <td>Miss. Surname</td>\n",
       "      <td>female</td>\n",
       "    </tr>\n",
       "    <tr>\n",
       "      <th>2</th>\n",
       "      <td>559</td>\n",
       "      <td>1</td>\n",
       "      <td>1.0</td>\n",
       "      <td>39.0</td>\n",
       "      <td>9.2</td>\n",
       "      <td>Miss. Surname</td>\n",
       "      <td>female</td>\n",
       "    </tr>\n",
       "    <tr>\n",
       "      <th>3</th>\n",
       "      <td>203</td>\n",
       "      <td>0</td>\n",
       "      <td>3.0</td>\n",
       "      <td>34.0</td>\n",
       "      <td>0.7</td>\n",
       "      <td>Mr. Surname</td>\n",
       "      <td>male</td>\n",
       "    </tr>\n",
       "    <tr>\n",
       "      <th>4</th>\n",
       "      <td>703</td>\n",
       "      <td>0</td>\n",
       "      <td>3.0</td>\n",
       "      <td>18.0</td>\n",
       "      <td>1.7</td>\n",
       "      <td>Miss. Surname</td>\n",
       "      <td>female</td>\n",
       "    </tr>\n",
       "  </tbody>\n",
       "</table>\n",
       "</div>"
      ],
      "text/plain": [
       "   Customer ID  Interested?  Bottle type   Age  Price  Customer name  Gender\n",
       "0          792            0          2.0  16.0    3.0    Mr. Surname    male\n",
       "1           39            0          3.0  18.0    2.1  Miss. Surname  female\n",
       "2          559            1          1.0  39.0    9.2  Miss. Surname  female\n",
       "3          203            0          3.0  34.0    0.7    Mr. Surname    male\n",
       "4          703            0          3.0  18.0    1.7  Miss. Surname  female"
      ]
     },
     "execution_count": 2,
     "metadata": {},
     "output_type": "execute_result"
    }
   ],
   "source": [
    "raw_data = pd.read_excel('juice_product.xlsx')\n",
    "raw_data.head()"
   ]
  },
  {
   "cell_type": "markdown",
   "metadata": {
    "id": "ZW96-CTGwk15"
   },
   "source": [
    "## 3. Explore the descriptive statistics"
   ]
  },
  {
   "cell_type": "code",
   "execution_count": null,
   "metadata": {
    "id": "kZBhPww1wk15",
    "outputId": "8e674e9e-ee37-423e-80d7-6c3975645a3a",
    "tags": ["hide-cell"] 
   },
   "outputs": [
    {
     "data": {
      "text/html": [
       "<div>\n",
       "<style>\n",
       "    .dataframe thead tr:only-child th {\n",
       "        text-align: right;\n",
       "    }\n",
       "\n",
       "    .dataframe thead th {\n",
       "        text-align: left;\n",
       "    }\n",
       "\n",
       "    .dataframe tbody tr th {\n",
       "        vertical-align: top;\n",
       "    }\n",
       "</style>\n",
       "<table border=\"1\" class=\"dataframe\">\n",
       "  <thead>\n",
       "    <tr style=\"text-align: right;\">\n",
       "      <th></th>\n",
       "      <th>Customer ID</th>\n",
       "      <th>Interested?</th>\n",
       "      <th>Bottle type</th>\n",
       "      <th>Age</th>\n",
       "      <th>Price</th>\n",
       "      <th>Customer name</th>\n",
       "      <th>Gender</th>\n",
       "    </tr>\n",
       "  </thead>\n",
       "  <tbody>\n",
       "    <tr>\n",
       "      <th>count</th>\n",
       "      <td>652.000000</td>\n",
       "      <td>652.000000</td>\n",
       "      <td>637.000000</td>\n",
       "      <td>628.000000</td>\n",
       "      <td>652.000000</td>\n",
       "      <td>652</td>\n",
       "      <td>330</td>\n",
       "    </tr>\n",
       "    <tr>\n",
       "      <th>unique</th>\n",
       "      <td>NaN</td>\n",
       "      <td>NaN</td>\n",
       "      <td>NaN</td>\n",
       "      <td>NaN</td>\n",
       "      <td>NaN</td>\n",
       "      <td>2</td>\n",
       "      <td>2</td>\n",
       "    </tr>\n",
       "    <tr>\n",
       "      <th>top</th>\n",
       "      <td>NaN</td>\n",
       "      <td>NaN</td>\n",
       "      <td>NaN</td>\n",
       "      <td>NaN</td>\n",
       "      <td>NaN</td>\n",
       "      <td>Mr. Surname</td>\n",
       "      <td>male</td>\n",
       "    </tr>\n",
       "    <tr>\n",
       "      <th>freq</th>\n",
       "      <td>NaN</td>\n",
       "      <td>NaN</td>\n",
       "      <td>NaN</td>\n",
       "      <td>NaN</td>\n",
       "      <td>NaN</td>\n",
       "      <td>421</td>\n",
       "      <td>207</td>\n",
       "    </tr>\n",
       "    <tr>\n",
       "      <th>mean</th>\n",
       "      <td>450.849693</td>\n",
       "      <td>0.386503</td>\n",
       "      <td>2.205651</td>\n",
       "      <td>32.058121</td>\n",
       "      <td>4.036043</td>\n",
       "      <td>NaN</td>\n",
       "      <td>NaN</td>\n",
       "    </tr>\n",
       "    <tr>\n",
       "      <th>std</th>\n",
       "      <td>257.475870</td>\n",
       "      <td>0.487322</td>\n",
       "      <td>0.846803</td>\n",
       "      <td>12.726176</td>\n",
       "      <td>6.305831</td>\n",
       "      <td>NaN</td>\n",
       "      <td>NaN</td>\n",
       "    </tr>\n",
       "    <tr>\n",
       "      <th>min</th>\n",
       "      <td>1.000000</td>\n",
       "      <td>0.000000</td>\n",
       "      <td>1.000000</td>\n",
       "      <td>10.000000</td>\n",
       "      <td>0.000000</td>\n",
       "      <td>NaN</td>\n",
       "      <td>NaN</td>\n",
       "    </tr>\n",
       "    <tr>\n",
       "      <th>25%</th>\n",
       "      <td>227.750000</td>\n",
       "      <td>0.000000</td>\n",
       "      <td>1.000000</td>\n",
       "      <td>22.000000</td>\n",
       "      <td>0.900000</td>\n",
       "      <td>NaN</td>\n",
       "      <td>NaN</td>\n",
       "    </tr>\n",
       "    <tr>\n",
       "      <th>50%</th>\n",
       "      <td>447.500000</td>\n",
       "      <td>0.000000</td>\n",
       "      <td>2.000000</td>\n",
       "      <td>30.000000</td>\n",
       "      <td>1.600000</td>\n",
       "      <td>NaN</td>\n",
       "      <td>NaN</td>\n",
       "    </tr>\n",
       "    <tr>\n",
       "      <th>75%</th>\n",
       "      <td>677.250000</td>\n",
       "      <td>1.000000</td>\n",
       "      <td>3.000000</td>\n",
       "      <td>39.000000</td>\n",
       "      <td>3.925000</td>\n",
       "      <td>NaN</td>\n",
       "      <td>NaN</td>\n",
       "    </tr>\n",
       "    <tr>\n",
       "      <th>max</th>\n",
       "      <td>891.000000</td>\n",
       "      <td>1.000000</td>\n",
       "      <td>3.000000</td>\n",
       "      <td>80.000000</td>\n",
       "      <td>58.900000</td>\n",
       "      <td>NaN</td>\n",
       "      <td>NaN</td>\n",
       "    </tr>\n",
       "  </tbody>\n",
       "</table>\n",
       "</div>"
      ],
      "text/plain": [
       "        Customer ID  Interested?  Bottle type         Age       Price  \\\n",
       "count    652.000000   652.000000   637.000000  628.000000  652.000000   \n",
       "unique          NaN          NaN          NaN         NaN         NaN   \n",
       "top             NaN          NaN          NaN         NaN         NaN   \n",
       "freq            NaN          NaN          NaN         NaN         NaN   \n",
       "mean     450.849693     0.386503     2.205651   32.058121    4.036043   \n",
       "std      257.475870     0.487322     0.846803   12.726176    6.305831   \n",
       "min        1.000000     0.000000     1.000000   10.000000    0.000000   \n",
       "25%      227.750000     0.000000     1.000000   22.000000    0.900000   \n",
       "50%      447.500000     0.000000     2.000000   30.000000    1.600000   \n",
       "75%      677.250000     1.000000     3.000000   39.000000    3.925000   \n",
       "max      891.000000     1.000000     3.000000   80.000000   58.900000   \n",
       "\n",
       "       Customer name Gender  \n",
       "count            652    330  \n",
       "unique             2      2  \n",
       "top      Mr. Surname   male  \n",
       "freq             421    207  \n",
       "mean             NaN    NaN  \n",
       "std              NaN    NaN  \n",
       "min              NaN    NaN  \n",
       "25%              NaN    NaN  \n",
       "50%              NaN    NaN  \n",
       "75%              NaN    NaN  \n",
       "max              NaN    NaN  "
      ]
     },
     "execution_count": 3,
     "metadata": {},
     "output_type": "execute_result"
    }
   ],
   "source": [
    "raw_data.describe(include = 'all')"
   ]
  },
  {
   "cell_type": "markdown",
   "metadata": {
    "id": "Y5FAuSIHwk16"
   },
   "source": [
    "## 4. Determine the variables of interest to us"
   ]
  },
  {
   "cell_type": "markdown",
   "metadata": {
    "id": "ZJVI_Aedwk16"
   },
   "source": [
    "According to you, what variables are useful in understanding if a person likes a juice product or not? Try to retain those and remove the rest."
   ]
  },
  {
   "cell_type": "code",
   "execution_count": null,
   "metadata": {
    "id": "drb7647Awk16",
    "outputId": "b2053949-c534-4ba7-847a-ae4630f7d9a8"
   },
   "outputs": [
    {
     "data": {
      "text/html": [
       "<div>\n",
       "<style>\n",
       "    .dataframe thead tr:only-child th {\n",
       "        text-align: right;\n",
       "    }\n",
       "\n",
       "    .dataframe thead th {\n",
       "        text-align: left;\n",
       "    }\n",
       "\n",
       "    .dataframe tbody tr th {\n",
       "        vertical-align: top;\n",
       "    }\n",
       "</style>\n",
       "<table border=\"1\" class=\"dataframe\">\n",
       "  <thead>\n",
       "    <tr style=\"text-align: right;\">\n",
       "      <th></th>\n",
       "      <th>Interested?</th>\n",
       "      <th>Bottle type</th>\n",
       "      <th>Age</th>\n",
       "      <th>Price</th>\n",
       "      <th>Customer name</th>\n",
       "      <th>Gender</th>\n",
       "    </tr>\n",
       "  </thead>\n",
       "  <tbody>\n",
       "    <tr>\n",
       "      <th>count</th>\n",
       "      <td>652.000000</td>\n",
       "      <td>637.000000</td>\n",
       "      <td>628.000000</td>\n",
       "      <td>652.000000</td>\n",
       "      <td>652</td>\n",
       "      <td>330</td>\n",
       "    </tr>\n",
       "    <tr>\n",
       "      <th>unique</th>\n",
       "      <td>NaN</td>\n",
       "      <td>NaN</td>\n",
       "      <td>NaN</td>\n",
       "      <td>NaN</td>\n",
       "      <td>2</td>\n",
       "      <td>2</td>\n",
       "    </tr>\n",
       "    <tr>\n",
       "      <th>top</th>\n",
       "      <td>NaN</td>\n",
       "      <td>NaN</td>\n",
       "      <td>NaN</td>\n",
       "      <td>NaN</td>\n",
       "      <td>Mr. Surname</td>\n",
       "      <td>male</td>\n",
       "    </tr>\n",
       "    <tr>\n",
       "      <th>freq</th>\n",
       "      <td>NaN</td>\n",
       "      <td>NaN</td>\n",
       "      <td>NaN</td>\n",
       "      <td>NaN</td>\n",
       "      <td>421</td>\n",
       "      <td>207</td>\n",
       "    </tr>\n",
       "    <tr>\n",
       "      <th>mean</th>\n",
       "      <td>0.386503</td>\n",
       "      <td>2.205651</td>\n",
       "      <td>32.058121</td>\n",
       "      <td>4.036043</td>\n",
       "      <td>NaN</td>\n",
       "      <td>NaN</td>\n",
       "    </tr>\n",
       "    <tr>\n",
       "      <th>std</th>\n",
       "      <td>0.487322</td>\n",
       "      <td>0.846803</td>\n",
       "      <td>12.726176</td>\n",
       "      <td>6.305831</td>\n",
       "      <td>NaN</td>\n",
       "      <td>NaN</td>\n",
       "    </tr>\n",
       "    <tr>\n",
       "      <th>min</th>\n",
       "      <td>0.000000</td>\n",
       "      <td>1.000000</td>\n",
       "      <td>10.000000</td>\n",
       "      <td>0.000000</td>\n",
       "      <td>NaN</td>\n",
       "      <td>NaN</td>\n",
       "    </tr>\n",
       "    <tr>\n",
       "      <th>25%</th>\n",
       "      <td>0.000000</td>\n",
       "      <td>1.000000</td>\n",
       "      <td>22.000000</td>\n",
       "      <td>0.900000</td>\n",
       "      <td>NaN</td>\n",
       "      <td>NaN</td>\n",
       "    </tr>\n",
       "    <tr>\n",
       "      <th>50%</th>\n",
       "      <td>0.000000</td>\n",
       "      <td>2.000000</td>\n",
       "      <td>30.000000</td>\n",
       "      <td>1.600000</td>\n",
       "      <td>NaN</td>\n",
       "      <td>NaN</td>\n",
       "    </tr>\n",
       "    <tr>\n",
       "      <th>75%</th>\n",
       "      <td>1.000000</td>\n",
       "      <td>3.000000</td>\n",
       "      <td>39.000000</td>\n",
       "      <td>3.925000</td>\n",
       "      <td>NaN</td>\n",
       "      <td>NaN</td>\n",
       "    </tr>\n",
       "    <tr>\n",
       "      <th>max</th>\n",
       "      <td>1.000000</td>\n",
       "      <td>3.000000</td>\n",
       "      <td>80.000000</td>\n",
       "      <td>58.900000</td>\n",
       "      <td>NaN</td>\n",
       "      <td>NaN</td>\n",
       "    </tr>\n",
       "  </tbody>\n",
       "</table>\n",
       "</div>"
      ],
      "text/plain": [
       "        Interested?  Bottle type         Age       Price Customer name Gender\n",
       "count    652.000000   637.000000  628.000000  652.000000           652    330\n",
       "unique          NaN          NaN         NaN         NaN             2      2\n",
       "top             NaN          NaN         NaN         NaN   Mr. Surname   male\n",
       "freq            NaN          NaN         NaN         NaN           421    207\n",
       "mean       0.386503     2.205651   32.058121    4.036043           NaN    NaN\n",
       "std        0.487322     0.846803   12.726176    6.305831           NaN    NaN\n",
       "min        0.000000     1.000000   10.000000    0.000000           NaN    NaN\n",
       "25%        0.000000     1.000000   22.000000    0.900000           NaN    NaN\n",
       "50%        0.000000     2.000000   30.000000    1.600000           NaN    NaN\n",
       "75%        1.000000     3.000000   39.000000    3.925000           NaN    NaN\n",
       "max        1.000000     3.000000   80.000000   58.900000           NaN    NaN"
      ]
     },
     "execution_count": 4,
     "metadata": {},
     "output_type": "execute_result"
    }
   ],
   "source": [
    "data_interest = raw_data.drop(['Customer ID'], axis=1)\n",
    "data_interest.describe(include = 'all')"
   ]
  },
  {
   "cell_type": "markdown",
   "metadata": {
    "id": "izDj44bzwk16"
   },
   "source": [
    "## 5. Address the missing values"
   ]
  },
  {
   "cell_type": "markdown",
   "metadata": {
    "id": "5QQM6YS4wk16"
   },
   "source": [
    "### 5.1: Remove rows or columns containing missing values"
   ]
  },
  {
   "cell_type": "markdown",
   "metadata": {
    "id": "GNbjM3eLwk16"
   },
   "source": [
    "Which variables (containing missing values) would you like to address using this method? Think a bit and then decide to remove either rows or columns from the data set."
   ]
  },
  {
   "cell_type": "code",
   "execution_count": null,
   "metadata": {
    "id": "ouJVo8Xbwk17",
    "outputId": "4bae3b72-8a6f-46c2-ca05-a3e8e34e2878"
   },
   "outputs": [
    {
     "data": {
      "text/html": [
       "<div>\n",
       "<style>\n",
       "    .dataframe thead tr:only-child th {\n",
       "        text-align: right;\n",
       "    }\n",
       "\n",
       "    .dataframe thead th {\n",
       "        text-align: left;\n",
       "    }\n",
       "\n",
       "    .dataframe tbody tr th {\n",
       "        vertical-align: top;\n",
       "    }\n",
       "</style>\n",
       "<table border=\"1\" class=\"dataframe\">\n",
       "  <thead>\n",
       "    <tr style=\"text-align: right;\">\n",
       "      <th></th>\n",
       "      <th>Interested?</th>\n",
       "      <th>Bottle type</th>\n",
       "      <th>Age</th>\n",
       "      <th>Price</th>\n",
       "      <th>Customer name</th>\n",
       "    </tr>\n",
       "  </thead>\n",
       "  <tbody>\n",
       "    <tr>\n",
       "      <th>count</th>\n",
       "      <td>652.000000</td>\n",
       "      <td>637.000000</td>\n",
       "      <td>628.000000</td>\n",
       "      <td>652.000000</td>\n",
       "      <td>652</td>\n",
       "    </tr>\n",
       "    <tr>\n",
       "      <th>unique</th>\n",
       "      <td>NaN</td>\n",
       "      <td>NaN</td>\n",
       "      <td>NaN</td>\n",
       "      <td>NaN</td>\n",
       "      <td>2</td>\n",
       "    </tr>\n",
       "    <tr>\n",
       "      <th>top</th>\n",
       "      <td>NaN</td>\n",
       "      <td>NaN</td>\n",
       "      <td>NaN</td>\n",
       "      <td>NaN</td>\n",
       "      <td>Mr. Surname</td>\n",
       "    </tr>\n",
       "    <tr>\n",
       "      <th>freq</th>\n",
       "      <td>NaN</td>\n",
       "      <td>NaN</td>\n",
       "      <td>NaN</td>\n",
       "      <td>NaN</td>\n",
       "      <td>421</td>\n",
       "    </tr>\n",
       "    <tr>\n",
       "      <th>mean</th>\n",
       "      <td>0.386503</td>\n",
       "      <td>2.205651</td>\n",
       "      <td>32.058121</td>\n",
       "      <td>4.036043</td>\n",
       "      <td>NaN</td>\n",
       "    </tr>\n",
       "    <tr>\n",
       "      <th>std</th>\n",
       "      <td>0.487322</td>\n",
       "      <td>0.846803</td>\n",
       "      <td>12.726176</td>\n",
       "      <td>6.305831</td>\n",
       "      <td>NaN</td>\n",
       "    </tr>\n",
       "    <tr>\n",
       "      <th>min</th>\n",
       "      <td>0.000000</td>\n",
       "      <td>1.000000</td>\n",
       "      <td>10.000000</td>\n",
       "      <td>0.000000</td>\n",
       "      <td>NaN</td>\n",
       "    </tr>\n",
       "    <tr>\n",
       "      <th>25%</th>\n",
       "      <td>0.000000</td>\n",
       "      <td>1.000000</td>\n",
       "      <td>22.000000</td>\n",
       "      <td>0.900000</td>\n",
       "      <td>NaN</td>\n",
       "    </tr>\n",
       "    <tr>\n",
       "      <th>50%</th>\n",
       "      <td>0.000000</td>\n",
       "      <td>2.000000</td>\n",
       "      <td>30.000000</td>\n",
       "      <td>1.600000</td>\n",
       "      <td>NaN</td>\n",
       "    </tr>\n",
       "    <tr>\n",
       "      <th>75%</th>\n",
       "      <td>1.000000</td>\n",
       "      <td>3.000000</td>\n",
       "      <td>39.000000</td>\n",
       "      <td>3.925000</td>\n",
       "      <td>NaN</td>\n",
       "    </tr>\n",
       "    <tr>\n",
       "      <th>max</th>\n",
       "      <td>1.000000</td>\n",
       "      <td>3.000000</td>\n",
       "      <td>80.000000</td>\n",
       "      <td>58.900000</td>\n",
       "      <td>NaN</td>\n",
       "    </tr>\n",
       "  </tbody>\n",
       "</table>\n",
       "</div>"
      ],
      "text/plain": [
       "        Interested?  Bottle type         Age       Price Customer name\n",
       "count    652.000000   637.000000  628.000000  652.000000           652\n",
       "unique          NaN          NaN         NaN         NaN             2\n",
       "top             NaN          NaN         NaN         NaN   Mr. Surname\n",
       "freq            NaN          NaN         NaN         NaN           421\n",
       "mean       0.386503     2.205651   32.058121    4.036043           NaN\n",
       "std        0.487322     0.846803   12.726176    6.305831           NaN\n",
       "min        0.000000     1.000000   10.000000    0.000000           NaN\n",
       "25%        0.000000     1.000000   22.000000    0.900000           NaN\n",
       "50%        0.000000     2.000000   30.000000    1.600000           NaN\n",
       "75%        1.000000     3.000000   39.000000    3.925000           NaN\n",
       "max        1.000000     3.000000   80.000000   58.900000           NaN"
      ]
     },
     "execution_count": 5,
     "metadata": {},
     "output_type": "execute_result"
    }
   ],
   "source": [
    "data_no_mv_m1 = data_interest.drop(['Gender'], axis=1)\n",
    "data_no_mv_m1.describe(include='all')"
   ]
  },
  {
   "cell_type": "markdown",
   "metadata": {
    "id": "3E79P5vqwk17"
   },
   "source": [
    "### 5.2: Impute using the mean of the columns (for numerical variables)"
   ]
  },
  {
   "cell_type": "markdown",
   "metadata": {
    "id": "lYZHS116wk17"
   },
   "source": [
    "Which numerical variables would you like to impute using the mean? Select those and proceed using the sklearn approach we saw in Lecture 2."
   ]
  },
  {
   "cell_type": "code",
   "execution_count": null,
   "metadata": {
    "id": "Tn8Gy_zZwk17",
    "outputId": "1281d490-8a4f-4998-900f-08043c7de4c2"
   },
   "outputs": [
    {
     "data": {
      "text/html": [
       "<div>\n",
       "<style>\n",
       "    .dataframe thead tr:only-child th {\n",
       "        text-align: right;\n",
       "    }\n",
       "\n",
       "    .dataframe thead th {\n",
       "        text-align: left;\n",
       "    }\n",
       "\n",
       "    .dataframe tbody tr th {\n",
       "        vertical-align: top;\n",
       "    }\n",
       "</style>\n",
       "<table border=\"1\" class=\"dataframe\">\n",
       "  <thead>\n",
       "    <tr style=\"text-align: right;\">\n",
       "      <th></th>\n",
       "      <th>Interested?</th>\n",
       "      <th>Bottle type</th>\n",
       "      <th>Age</th>\n",
       "      <th>Price</th>\n",
       "      <th>Customer name</th>\n",
       "    </tr>\n",
       "  </thead>\n",
       "  <tbody>\n",
       "    <tr>\n",
       "      <th>count</th>\n",
       "      <td>652.000000</td>\n",
       "      <td>637.000000</td>\n",
       "      <td>652.000000</td>\n",
       "      <td>652.000000</td>\n",
       "      <td>652</td>\n",
       "    </tr>\n",
       "    <tr>\n",
       "      <th>unique</th>\n",
       "      <td>NaN</td>\n",
       "      <td>NaN</td>\n",
       "      <td>NaN</td>\n",
       "      <td>NaN</td>\n",
       "      <td>2</td>\n",
       "    </tr>\n",
       "    <tr>\n",
       "      <th>top</th>\n",
       "      <td>NaN</td>\n",
       "      <td>NaN</td>\n",
       "      <td>NaN</td>\n",
       "      <td>NaN</td>\n",
       "      <td>Mr. Surname</td>\n",
       "    </tr>\n",
       "    <tr>\n",
       "      <th>freq</th>\n",
       "      <td>NaN</td>\n",
       "      <td>NaN</td>\n",
       "      <td>NaN</td>\n",
       "      <td>NaN</td>\n",
       "      <td>421</td>\n",
       "    </tr>\n",
       "    <tr>\n",
       "      <th>mean</th>\n",
       "      <td>0.386503</td>\n",
       "      <td>2.205651</td>\n",
       "      <td>32.058121</td>\n",
       "      <td>4.036043</td>\n",
       "      <td>NaN</td>\n",
       "    </tr>\n",
       "    <tr>\n",
       "      <th>std</th>\n",
       "      <td>0.487322</td>\n",
       "      <td>0.846803</td>\n",
       "      <td>12.489389</td>\n",
       "      <td>6.305831</td>\n",
       "      <td>NaN</td>\n",
       "    </tr>\n",
       "    <tr>\n",
       "      <th>min</th>\n",
       "      <td>0.000000</td>\n",
       "      <td>1.000000</td>\n",
       "      <td>10.000000</td>\n",
       "      <td>0.000000</td>\n",
       "      <td>NaN</td>\n",
       "    </tr>\n",
       "    <tr>\n",
       "      <th>25%</th>\n",
       "      <td>0.000000</td>\n",
       "      <td>1.000000</td>\n",
       "      <td>22.750000</td>\n",
       "      <td>0.900000</td>\n",
       "      <td>NaN</td>\n",
       "    </tr>\n",
       "    <tr>\n",
       "      <th>50%</th>\n",
       "      <td>0.000000</td>\n",
       "      <td>2.000000</td>\n",
       "      <td>30.000000</td>\n",
       "      <td>1.600000</td>\n",
       "      <td>NaN</td>\n",
       "    </tr>\n",
       "    <tr>\n",
       "      <th>75%</th>\n",
       "      <td>1.000000</td>\n",
       "      <td>3.000000</td>\n",
       "      <td>39.000000</td>\n",
       "      <td>3.925000</td>\n",
       "      <td>NaN</td>\n",
       "    </tr>\n",
       "    <tr>\n",
       "      <th>max</th>\n",
       "      <td>1.000000</td>\n",
       "      <td>3.000000</td>\n",
       "      <td>80.000000</td>\n",
       "      <td>58.900000</td>\n",
       "      <td>NaN</td>\n",
       "    </tr>\n",
       "  </tbody>\n",
       "</table>\n",
       "</div>"
      ],
      "text/plain": [
       "        Interested?  Bottle type         Age       Price Customer name\n",
       "count    652.000000   637.000000  652.000000  652.000000           652\n",
       "unique          NaN          NaN         NaN         NaN             2\n",
       "top             NaN          NaN         NaN         NaN   Mr. Surname\n",
       "freq            NaN          NaN         NaN         NaN           421\n",
       "mean       0.386503     2.205651   32.058121    4.036043           NaN\n",
       "std        0.487322     0.846803   12.489389    6.305831           NaN\n",
       "min        0.000000     1.000000   10.000000    0.000000           NaN\n",
       "25%        0.000000     1.000000   22.750000    0.900000           NaN\n",
       "50%        0.000000     2.000000   30.000000    1.600000           NaN\n",
       "75%        1.000000     3.000000   39.000000    3.925000           NaN\n",
       "max        1.000000     3.000000   80.000000   58.900000           NaN"
      ]
     },
     "execution_count": 6,
     "metadata": {},
     "output_type": "execute_result"
    }
   ],
   "source": [
    "data_no_mv_m2 = data_no_mv_m1.copy()\n",
    "\n",
    "from sklearn.preprocessing import Imputer\n",
    "\n",
    "imp = Imputer(missing_values = np.nan, strategy='mean')\n",
    "age = data_no_mv_m1['Age'].values.reshape(-1,1)\n",
    "data_no_mv_m2['Age'] = imp.fit_transform(age).flatten()\n",
    "data_no_mv_m2.describe(include='all')"
   ]
  },
  {
   "cell_type": "markdown",
   "metadata": {
    "id": "RHRrV1bQwk17"
   },
   "source": [
    "### 5.3: Impute using the most frequent value (categorical variables)"
   ]
  },
  {
   "cell_type": "code",
   "execution_count": null,
   "metadata": {
    "id": "dgSeC9Odwk17",
    "outputId": "6f620de4-d222-4acf-e8a2-6a3d66907dde"
   },
   "outputs": [
    {
     "data": {
      "text/html": [
       "<div>\n",
       "<style>\n",
       "    .dataframe thead tr:only-child th {\n",
       "        text-align: right;\n",
       "    }\n",
       "\n",
       "    .dataframe thead th {\n",
       "        text-align: left;\n",
       "    }\n",
       "\n",
       "    .dataframe tbody tr th {\n",
       "        vertical-align: top;\n",
       "    }\n",
       "</style>\n",
       "<table border=\"1\" class=\"dataframe\">\n",
       "  <thead>\n",
       "    <tr style=\"text-align: right;\">\n",
       "      <th></th>\n",
       "      <th>Interested?</th>\n",
       "      <th>Bottle type</th>\n",
       "      <th>Age</th>\n",
       "      <th>Price</th>\n",
       "      <th>Customer name</th>\n",
       "    </tr>\n",
       "  </thead>\n",
       "  <tbody>\n",
       "    <tr>\n",
       "      <th>count</th>\n",
       "      <td>652.000000</td>\n",
       "      <td>652.000000</td>\n",
       "      <td>652.000000</td>\n",
       "      <td>652.000000</td>\n",
       "      <td>652</td>\n",
       "    </tr>\n",
       "    <tr>\n",
       "      <th>unique</th>\n",
       "      <td>NaN</td>\n",
       "      <td>NaN</td>\n",
       "      <td>NaN</td>\n",
       "      <td>NaN</td>\n",
       "      <td>2</td>\n",
       "    </tr>\n",
       "    <tr>\n",
       "      <th>top</th>\n",
       "      <td>NaN</td>\n",
       "      <td>NaN</td>\n",
       "      <td>NaN</td>\n",
       "      <td>NaN</td>\n",
       "      <td>Mr. Surname</td>\n",
       "    </tr>\n",
       "    <tr>\n",
       "      <th>freq</th>\n",
       "      <td>NaN</td>\n",
       "      <td>NaN</td>\n",
       "      <td>NaN</td>\n",
       "      <td>NaN</td>\n",
       "      <td>421</td>\n",
       "    </tr>\n",
       "    <tr>\n",
       "      <th>mean</th>\n",
       "      <td>0.386503</td>\n",
       "      <td>2.223926</td>\n",
       "      <td>32.058121</td>\n",
       "      <td>4.036043</td>\n",
       "      <td>NaN</td>\n",
       "    </tr>\n",
       "    <tr>\n",
       "      <th>std</th>\n",
       "      <td>0.487322</td>\n",
       "      <td>0.845433</td>\n",
       "      <td>12.489389</td>\n",
       "      <td>6.305831</td>\n",
       "      <td>NaN</td>\n",
       "    </tr>\n",
       "    <tr>\n",
       "      <th>min</th>\n",
       "      <td>0.000000</td>\n",
       "      <td>1.000000</td>\n",
       "      <td>10.000000</td>\n",
       "      <td>0.000000</td>\n",
       "      <td>NaN</td>\n",
       "    </tr>\n",
       "    <tr>\n",
       "      <th>25%</th>\n",
       "      <td>0.000000</td>\n",
       "      <td>1.000000</td>\n",
       "      <td>22.750000</td>\n",
       "      <td>0.900000</td>\n",
       "      <td>NaN</td>\n",
       "    </tr>\n",
       "    <tr>\n",
       "      <th>50%</th>\n",
       "      <td>0.000000</td>\n",
       "      <td>2.000000</td>\n",
       "      <td>30.000000</td>\n",
       "      <td>1.600000</td>\n",
       "      <td>NaN</td>\n",
       "    </tr>\n",
       "    <tr>\n",
       "      <th>75%</th>\n",
       "      <td>1.000000</td>\n",
       "      <td>3.000000</td>\n",
       "      <td>39.000000</td>\n",
       "      <td>3.925000</td>\n",
       "      <td>NaN</td>\n",
       "    </tr>\n",
       "    <tr>\n",
       "      <th>max</th>\n",
       "      <td>1.000000</td>\n",
       "      <td>3.000000</td>\n",
       "      <td>80.000000</td>\n",
       "      <td>58.900000</td>\n",
       "      <td>NaN</td>\n",
       "    </tr>\n",
       "  </tbody>\n",
       "</table>\n",
       "</div>"
      ],
      "text/plain": [
       "        Interested?  Bottle type         Age       Price Customer name\n",
       "count    652.000000   652.000000  652.000000  652.000000           652\n",
       "unique          NaN          NaN         NaN         NaN             2\n",
       "top             NaN          NaN         NaN         NaN   Mr. Surname\n",
       "freq            NaN          NaN         NaN         NaN           421\n",
       "mean       0.386503     2.223926   32.058121    4.036043           NaN\n",
       "std        0.487322     0.845433   12.489389    6.305831           NaN\n",
       "min        0.000000     1.000000   10.000000    0.000000           NaN\n",
       "25%        0.000000     1.000000   22.750000    0.900000           NaN\n",
       "50%        0.000000     2.000000   30.000000    1.600000           NaN\n",
       "75%        1.000000     3.000000   39.000000    3.925000           NaN\n",
       "max        1.000000     3.000000   80.000000   58.900000           NaN"
      ]
     },
     "execution_count": 7,
     "metadata": {},
     "output_type": "execute_result"
    }
   ],
   "source": [
    "data_no_mv_m3 = data_no_mv_m2.copy()\n",
    "mf_bottle = data_no_mv_m2['Bottle type'].value_counts().index[0]\n",
    "data_no_mv_m3['Bottle type'].fillna(mf_bottle, inplace=True)\n",
    "data_no_mv_m3.describe(include='all')"
   ]
  },
  {
   "cell_type": "markdown",
   "metadata": {
    "id": "tczM_sXKwk18"
   },
   "source": [
    "## 6. Deal with outliers"
   ]
  },
  {
   "cell_type": "markdown",
   "metadata": {
    "id": "lFKSZjvywk18"
   },
   "source": [
    "Here, think about how you want to address the outliers. Once again, there is no right or wrong approach. What makes sense to you? And rather what do you think would lead to a more meaningful result? To remove values beyond a certain critical number? Use the Interquartile rule? use the z-score? Or some other way you wish to handle this?"
   ]
  },
  {
   "cell_type": "code",
   "execution_count": null,
   "metadata": {
    "collapsed": true,
    "id": "T1W2cIcZwk18"
   },
   "outputs": [],
   "source": [
    "data_no_mv = data_no_mv_m3.copy()"
   ]
  },
  {
   "cell_type": "markdown",
   "metadata": {
    "id": "PPizNTr1wk18"
   },
   "source": [
    "### 6.1 Explore the probability distribution functions"
   ]
  },
  {
   "cell_type": "markdown",
   "metadata": {
    "id": "AHVddozswk18"
   },
   "source": [
    "Perhaps you can start by exploring the probability distribution functions."
   ]
  },
  {
   "cell_type": "code",
   "execution_count": null,
   "metadata": {
    "id": "S_6td9Z-wk18",
    "outputId": "2ee43d43-0afb-4828-fe63-b542aa187e8f"
   },
   "outputs": [
    {
     "data": {
      "image/png": "[encoded data removed]",
      "text/plain": [
       "<matplotlib.figure.Figure at 0x10d28a588>"
      ]
     },
     "metadata": {},
     "output_type": "display_data"
    }
   ],
   "source": [
    "sns.distplot(data_no_mv['Age'])\n",
    "plt.show()"
   ]
  },
  {
   "cell_type": "code",
   "execution_count": null,
   "metadata": {
    "id": "MIvCAjZ9wk18",
    "outputId": "62609cf1-02a0-4971-ad3a-43c986c36bb7"
   },
   "outputs": [
    {
     "data": {
      "image/png": "[encoded data removed]",
      "text/plain": [
       "<matplotlib.figure.Figure at 0x1121673c8>"
      ]
     },
     "metadata": {},
     "output_type": "display_data"
    }
   ],
   "source": [
    "sns.distplot(data_no_mv['Price'])\n",
    "plt.show()"
   ]
  },
  {
   "cell_type": "markdown",
   "metadata": {
    "id": "inEew2Sswk19"
   },
   "source": [
    "### 6.2: Remove values above a certain number"
   ]
  },
  {
   "cell_type": "markdown",
   "metadata": {
    "id": "lbWRMHFgwk19"
   },
   "source": [
    "I will remove values only for the Price, not for the Age.\n",
    "\n",
    "Also, note that there is no correct way for missing values or outlier analysis. It really depends on your intuition and domain knowledge. Also, it is an iterative process. Usually, you go with some intuition and do data processing. You then check your predictions and the accuracy of prediction. If you think it's low, you can then go back and try to fiddle around with the raw data again and see if you missed something important in data preprocessing.\n",
    "\n",
    "Also, check that you don't lose too much data due to excessive processing."
   ]
  },
  {
   "cell_type": "code",
   "execution_count": null,
   "metadata": {
    "collapsed": true,
    "id": "L7UB8Gx0wk19"
   },
   "outputs": [],
   "source": [
    "q = 20\n",
    "data_no_ol_m1 = data_no_mv[data_no_mv['Price'] < q]"
   ]
  },
  {
   "cell_type": "code",
   "execution_count": null,
   "metadata": {
    "id": "l1A7f86owk19",
    "outputId": "91564ce8-da75-4b70-f75f-733d3478fe17",
    "scrolled": true
   },
   "outputs": [
    {
     "data": {
      "image/png": "[encoded data removed]",
      "text/plain": [
       "<matplotlib.figure.Figure at 0x113ed4f98>"
      ]
     },
     "metadata": {},
     "output_type": "display_data"
    }
   ],
   "source": [
    "sns.distplot(data_no_ol_m1['Price'])\n",
    "plt.show()"
   ]
  },
  {
   "cell_type": "code",
   "execution_count": null,
   "metadata": {
    "id": "60j-ergAwk19",
    "outputId": "43d1e405-b6b9-4358-9597-3afa9df4f893"
   },
   "outputs": [
    {
     "data": {
      "text/html": [
       "<div>\n",
       "<style>\n",
       "    .dataframe thead tr:only-child th {\n",
       "        text-align: right;\n",
       "    }\n",
       "\n",
       "    .dataframe thead th {\n",
       "        text-align: left;\n",
       "    }\n",
       "\n",
       "    .dataframe tbody tr th {\n",
       "        vertical-align: top;\n",
       "    }\n",
       "</style>\n",
       "<table border=\"1\" class=\"dataframe\">\n",
       "  <thead>\n",
       "    <tr style=\"text-align: right;\">\n",
       "      <th></th>\n",
       "      <th>Interested?</th>\n",
       "      <th>Bottle type</th>\n",
       "      <th>Age</th>\n",
       "      <th>Price</th>\n",
       "      <th>Customer name</th>\n",
       "    </tr>\n",
       "  </thead>\n",
       "  <tbody>\n",
       "    <tr>\n",
       "      <th>count</th>\n",
       "      <td>634.000000</td>\n",
       "      <td>634.000000</td>\n",
       "      <td>634.000000</td>\n",
       "      <td>634.000000</td>\n",
       "      <td>634</td>\n",
       "    </tr>\n",
       "    <tr>\n",
       "      <th>unique</th>\n",
       "      <td>NaN</td>\n",
       "      <td>NaN</td>\n",
       "      <td>NaN</td>\n",
       "      <td>NaN</td>\n",
       "      <td>2</td>\n",
       "    </tr>\n",
       "    <tr>\n",
       "      <th>top</th>\n",
       "      <td>NaN</td>\n",
       "      <td>NaN</td>\n",
       "      <td>NaN</td>\n",
       "      <td>NaN</td>\n",
       "      <td>Mr. Surname</td>\n",
       "    </tr>\n",
       "    <tr>\n",
       "      <th>freq</th>\n",
       "      <td>NaN</td>\n",
       "      <td>NaN</td>\n",
       "      <td>NaN</td>\n",
       "      <td>NaN</td>\n",
       "      <td>415</td>\n",
       "    </tr>\n",
       "    <tr>\n",
       "      <th>mean</th>\n",
       "      <td>0.375394</td>\n",
       "      <td>2.258675</td>\n",
       "      <td>32.083430</td>\n",
       "      <td>3.218927</td>\n",
       "      <td>NaN</td>\n",
       "    </tr>\n",
       "    <tr>\n",
       "      <th>std</th>\n",
       "      <td>0.484607</td>\n",
       "      <td>0.831430</td>\n",
       "      <td>12.486386</td>\n",
       "      <td>3.557706</td>\n",
       "      <td>NaN</td>\n",
       "    </tr>\n",
       "    <tr>\n",
       "      <th>min</th>\n",
       "      <td>0.000000</td>\n",
       "      <td>1.000000</td>\n",
       "      <td>10.000000</td>\n",
       "      <td>0.000000</td>\n",
       "      <td>NaN</td>\n",
       "    </tr>\n",
       "    <tr>\n",
       "      <th>25%</th>\n",
       "      <td>0.000000</td>\n",
       "      <td>2.000000</td>\n",
       "      <td>23.000000</td>\n",
       "      <td>0.900000</td>\n",
       "      <td>NaN</td>\n",
       "    </tr>\n",
       "    <tr>\n",
       "      <th>50%</th>\n",
       "      <td>0.000000</td>\n",
       "      <td>3.000000</td>\n",
       "      <td>30.000000</td>\n",
       "      <td>1.500000</td>\n",
       "      <td>NaN</td>\n",
       "    </tr>\n",
       "    <tr>\n",
       "      <th>75%</th>\n",
       "      <td>1.000000</td>\n",
       "      <td>3.000000</td>\n",
       "      <td>39.000000</td>\n",
       "      <td>3.500000</td>\n",
       "      <td>NaN</td>\n",
       "    </tr>\n",
       "    <tr>\n",
       "      <th>max</th>\n",
       "      <td>1.000000</td>\n",
       "      <td>3.000000</td>\n",
       "      <td>80.000000</td>\n",
       "      <td>19.000000</td>\n",
       "      <td>NaN</td>\n",
       "    </tr>\n",
       "  </tbody>\n",
       "</table>\n",
       "</div>"
      ],
      "text/plain": [
       "        Interested?  Bottle type         Age       Price Customer name\n",
       "count    634.000000   634.000000  634.000000  634.000000           634\n",
       "unique          NaN          NaN         NaN         NaN             2\n",
       "top             NaN          NaN         NaN         NaN   Mr. Surname\n",
       "freq            NaN          NaN         NaN         NaN           415\n",
       "mean       0.375394     2.258675   32.083430    3.218927           NaN\n",
       "std        0.484607     0.831430   12.486386    3.557706           NaN\n",
       "min        0.000000     1.000000   10.000000    0.000000           NaN\n",
       "25%        0.000000     2.000000   23.000000    0.900000           NaN\n",
       "50%        0.000000     3.000000   30.000000    1.500000           NaN\n",
       "75%        1.000000     3.000000   39.000000    3.500000           NaN\n",
       "max        1.000000     3.000000   80.000000   19.000000           NaN"
      ]
     },
     "execution_count": 13,
     "metadata": {},
     "output_type": "execute_result"
    }
   ],
   "source": [
    "data_pp = data_no_ol_m1.copy()\n",
    "data_pp.describe(include='all')"
   ]
  },
  {
   "cell_type": "markdown",
   "metadata": {
    "id": "7HfiMculwk19"
   },
   "source": [
    "## 7. Are there any additional processing steps you could think of at this stage that could result in more insights for your company?"
   ]
  },
  {
   "cell_type": "markdown",
   "metadata": {
    "id": "vWcSiMduwk1-"
   },
   "source": [
    "Note that although the Customer name column remained anonymous, people did give away their gender by mentioning Mr or Miss. We could use this to our advantage and create an additional column called \"Gender\" in the same dataframe. This way, we can see in the future whether there is a preference for the product depending on the gender.\n",
    "\n",
    "This is an example of how you can squeeze more information out of the data in hand. Many a times, you will have \"Remarks\" and \"Reviews\" left behind by the customers, and by going through them, you can extract more information. Real-life raw data is extremely messy, and in fact a lot of time is spent on data collection and preprocessing!"
   ]
  },
  {
   "cell_type": "code",
   "execution_count": null,
   "metadata": {
    "id": "wsNewhhTwk1-",
    "outputId": "2250ae65-841f-48a3-cafd-9b9f378712a9"
   },
   "outputs": [
    {
     "data": {
      "text/plain": [
       "'Mr.'"
      ]
     },
     "execution_count": 14,
     "metadata": {},
     "output_type": "execute_result"
    }
   ],
   "source": [
    "data_pp.iloc[0,4].split()[0]"
   ]
  },
  {
   "cell_type": "code",
   "execution_count": null,
   "metadata": {
    "id": "WMltgIQqwk1-",
    "outputId": "09faf5fb-346b-4aa0-d6e5-15bc12d31ab4"
   },
   "outputs": [
    {
     "data": {
      "text/html": [
       "<div>\n",
       "<style>\n",
       "    .dataframe thead tr:only-child th {\n",
       "        text-align: right;\n",
       "    }\n",
       "\n",
       "    .dataframe thead th {\n",
       "        text-align: left;\n",
       "    }\n",
       "\n",
       "    .dataframe tbody tr th {\n",
       "        vertical-align: top;\n",
       "    }\n",
       "</style>\n",
       "<table border=\"1\" class=\"dataframe\">\n",
       "  <thead>\n",
       "    <tr style=\"text-align: right;\">\n",
       "      <th></th>\n",
       "      <th>Interested?</th>\n",
       "      <th>Bottle type</th>\n",
       "      <th>Age</th>\n",
       "      <th>Price</th>\n",
       "      <th>Gender</th>\n",
       "    </tr>\n",
       "  </thead>\n",
       "  <tbody>\n",
       "    <tr>\n",
       "      <th>count</th>\n",
       "      <td>634.000000</td>\n",
       "      <td>634.000000</td>\n",
       "      <td>634.000000</td>\n",
       "      <td>634.000000</td>\n",
       "      <td>634</td>\n",
       "    </tr>\n",
       "    <tr>\n",
       "      <th>unique</th>\n",
       "      <td>NaN</td>\n",
       "      <td>NaN</td>\n",
       "      <td>NaN</td>\n",
       "      <td>NaN</td>\n",
       "      <td>2</td>\n",
       "    </tr>\n",
       "    <tr>\n",
       "      <th>top</th>\n",
       "      <td>NaN</td>\n",
       "      <td>NaN</td>\n",
       "      <td>NaN</td>\n",
       "      <td>NaN</td>\n",
       "      <td>male</td>\n",
       "    </tr>\n",
       "    <tr>\n",
       "      <th>freq</th>\n",
       "      <td>NaN</td>\n",
       "      <td>NaN</td>\n",
       "      <td>NaN</td>\n",
       "      <td>NaN</td>\n",
       "      <td>415</td>\n",
       "    </tr>\n",
       "    <tr>\n",
       "      <th>mean</th>\n",
       "      <td>0.375394</td>\n",
       "      <td>2.258675</td>\n",
       "      <td>32.083430</td>\n",
       "      <td>3.218927</td>\n",
       "      <td>NaN</td>\n",
       "    </tr>\n",
       "    <tr>\n",
       "      <th>std</th>\n",
       "      <td>0.484607</td>\n",
       "      <td>0.831430</td>\n",
       "      <td>12.486386</td>\n",
       "      <td>3.557706</td>\n",
       "      <td>NaN</td>\n",
       "    </tr>\n",
       "    <tr>\n",
       "      <th>min</th>\n",
       "      <td>0.000000</td>\n",
       "      <td>1.000000</td>\n",
       "      <td>10.000000</td>\n",
       "      <td>0.000000</td>\n",
       "      <td>NaN</td>\n",
       "    </tr>\n",
       "    <tr>\n",
       "      <th>25%</th>\n",
       "      <td>0.000000</td>\n",
       "      <td>2.000000</td>\n",
       "      <td>23.000000</td>\n",
       "      <td>0.900000</td>\n",
       "      <td>NaN</td>\n",
       "    </tr>\n",
       "    <tr>\n",
       "      <th>50%</th>\n",
       "      <td>0.000000</td>\n",
       "      <td>3.000000</td>\n",
       "      <td>30.000000</td>\n",
       "      <td>1.500000</td>\n",
       "      <td>NaN</td>\n",
       "    </tr>\n",
       "    <tr>\n",
       "      <th>75%</th>\n",
       "      <td>1.000000</td>\n",
       "      <td>3.000000</td>\n",
       "      <td>39.000000</td>\n",
       "      <td>3.500000</td>\n",
       "      <td>NaN</td>\n",
       "    </tr>\n",
       "    <tr>\n",
       "      <th>max</th>\n",
       "      <td>1.000000</td>\n",
       "      <td>3.000000</td>\n",
       "      <td>80.000000</td>\n",
       "      <td>19.000000</td>\n",
       "      <td>NaN</td>\n",
       "    </tr>\n",
       "  </tbody>\n",
       "</table>\n",
       "</div>"
      ],
      "text/plain": [
       "        Interested?  Bottle type         Age       Price Gender\n",
       "count    634.000000   634.000000  634.000000  634.000000    634\n",
       "unique          NaN          NaN         NaN         NaN      2\n",
       "top             NaN          NaN         NaN         NaN   male\n",
       "freq            NaN          NaN         NaN         NaN    415\n",
       "mean       0.375394     2.258675   32.083430    3.218927    NaN\n",
       "std        0.484607     0.831430   12.486386    3.557706    NaN\n",
       "min        0.000000     1.000000   10.000000    0.000000    NaN\n",
       "25%        0.000000     2.000000   23.000000    0.900000    NaN\n",
       "50%        0.000000     3.000000   30.000000    1.500000    NaN\n",
       "75%        1.000000     3.000000   39.000000    3.500000    NaN\n",
       "max        1.000000     3.000000   80.000000   19.000000    NaN"
      ]
     },
     "execution_count": 15,
     "metadata": {},
     "output_type": "execute_result"
    }
   ],
   "source": [
    "data_pp['Gender'] = ['male' if x.split()[0] == 'Mr.' else 'female' for x in data_pp['Customer name']]\n",
    "data_pp = data_pp.drop(['Customer name'], axis=1)\n",
    "data_pp.describe(include='all')"
   ]
  },
  {
   "cell_type": "markdown",
   "metadata": {
    "id": "4yl4cTjFwk1-"
   },
   "source": [
    "## 8. Correlation matrix"
   ]
  },
  {
   "cell_type": "code",
   "execution_count": null,
   "metadata": {
    "id": "_oqBnuUgwk1-",
    "outputId": "d9767b9f-4eaf-460c-dc6b-fa0a11df64d5"
   },
   "outputs": [
    {
     "data": {
      "image/png": "[encoded data removed]",
      "text/plain": [
       "<matplotlib.figure.Figure at 0x113f89c88>"
      ]
     },
     "metadata": {},
     "output_type": "display_data"
    }
   ],
   "source": [
    "sns.lmplot('Age', 'Price', data=data_pp, fit_reg=False, hue=\"Bottle type\", scatter_kws={\"marker\": \".\", \"s\": 30})\n",
    "plt.title('Scatterplot of customers w.r.t Price and Age')\n",
    "plt.show()"
   ]
  },
  {
   "cell_type": "code",
   "execution_count": null,
   "metadata": {
    "id": "g5gj2qCywk1-",
    "outputId": "c4578e5d-cc0e-47aa-ad50-b54094667593"
   },
   "outputs": [
    {
     "data": {
      "image/png": "[encoded data removed]",
      "text/plain": [
       "<matplotlib.figure.Figure at 0x1140134e0>"
      ]
     },
     "metadata": {},
     "output_type": "display_data"
    }
   ],
   "source": [
    "sns.lmplot('Age', 'Price', data=data_pp, fit_reg=False, hue=\"Interested?\", scatter_kws={\"marker\": \".\", \"s\": 30})\n",
    "plt.title('Scatterplot of customers w.r.t Price and Age')\n",
    "plt.show()"
   ]
  },
  {
   "cell_type": "markdown",
   "metadata": {
    "id": "0zUQzOjGwk1_"
   },
   "source": [
    "Correlation is a standardized measure of the joint variability of two variables. It takes on values between -1 and 1, thus it is easy for us to interpret the result.\n",
    "\n",
    "- A correlation of 1, known as perfect positive correlation, means that one variable is perfectly explained by the other. (We can observe a positive correlation between the interest in the product and the price a customer is willing to pay. The more interested they are, they are willing to pay more.)\n",
    "\n",
    "- A correlation of 0 means that the variables are independent.\n",
    "- A correlation of -1, known as perfect negative correlation, means that one variable is explaining the other one perfectly, but they move in opposite directions. (We can observe a negative correlation between the bottle type and the price a customer is willing to pay. In this case, the more complex the bottle design is, a customer is willing to pay less.)\n",
    "\n",
    "Sample correlation is given by:\n",
    "## $\\Gamma = \\frac{s_{xy}}{s_{x}s_{y}}$\n",
    "\n",
    "Populationn correlation is given by:\n",
    "## $\\rho = \\frac{\\sigma_{xy}}{\\sigma_{x}\\sigma_{y}}$"
   ]
  },
  {
   "cell_type": "code",
   "execution_count": null,
   "metadata": {
    "id": "-BEFxZP-wk1_",
    "outputId": "af1edd10-1b9c-4614-8009-b901d4956b35"
   },
   "outputs": [
    {
     "data": {
      "text/html": [
       "<div>\n",
       "<style>\n",
       "    .dataframe thead tr:only-child th {\n",
       "        text-align: right;\n",
       "    }\n",
       "\n",
       "    .dataframe thead th {\n",
       "        text-align: left;\n",
       "    }\n",
       "\n",
       "    .dataframe tbody tr th {\n",
       "        vertical-align: top;\n",
       "    }\n",
       "</style>\n",
       "<table border=\"1\" class=\"dataframe\">\n",
       "  <thead>\n",
       "    <tr style=\"text-align: right;\">\n",
       "      <th></th>\n",
       "      <th>Interested?</th>\n",
       "      <th>Bottle type</th>\n",
       "      <th>Age</th>\n",
       "      <th>Price</th>\n",
       "    </tr>\n",
       "  </thead>\n",
       "  <tbody>\n",
       "    <tr>\n",
       "      <th>Interested?</th>\n",
       "      <td>1.000000</td>\n",
       "      <td>-0.347250</td>\n",
       "      <td>-0.013026</td>\n",
       "      <td>0.334353</td>\n",
       "    </tr>\n",
       "    <tr>\n",
       "      <th>Bottle type</th>\n",
       "      <td>-0.347250</td>\n",
       "      <td>1.000000</td>\n",
       "      <td>-0.328531</td>\n",
       "      <td>-0.676192</td>\n",
       "    </tr>\n",
       "    <tr>\n",
       "      <th>Age</th>\n",
       "      <td>-0.013026</td>\n",
       "      <td>-0.328531</td>\n",
       "      <td>1.000000</td>\n",
       "      <td>0.177572</td>\n",
       "    </tr>\n",
       "    <tr>\n",
       "      <th>Price</th>\n",
       "      <td>0.334353</td>\n",
       "      <td>-0.676192</td>\n",
       "      <td>0.177572</td>\n",
       "      <td>1.000000</td>\n",
       "    </tr>\n",
       "  </tbody>\n",
       "</table>\n",
       "</div>"
      ],
      "text/plain": [
       "             Interested?  Bottle type       Age     Price\n",
       "Interested?     1.000000    -0.347250 -0.013026  0.334353\n",
       "Bottle type    -0.347250     1.000000 -0.328531 -0.676192\n",
       "Age            -0.013026    -0.328531  1.000000  0.177572\n",
       "Price           0.334353    -0.676192  0.177572  1.000000"
      ]
     },
     "execution_count": 18,
     "metadata": {},
     "output_type": "execute_result"
    }
   ],
   "source": [
    "data_pp.corr(method='pearson')"
   ]
  },
  {
   "cell_type": "markdown",
   "metadata": {
    "id": "diKiDHRZwk1_"
   },
   "source": [
    "Additional insight: We see that the Age and bottle type are negatively correlated. Probably, the company members who conducted this survey unconsciously gave away more complex and colorful bottles to younger people, and simple designs to older people? This can be discussed in the company meeting and the next time a survey is conducted, this \"unconscious bias\" can be removed."
   ]
  },
  {
   "cell_type": "markdown",
   "metadata": {
    "id": "GW_a-IQEwk1_"
   },
   "source": [
    "## 9. With the knowledge you gained regarding correlation, would you reapproach the imputation of the bottle type variable? If yes, how?"
   ]
  },
  {
   "cell_type": "code",
   "execution_count": null,
   "metadata": {
    "id": "R4Nkj370wk1_",
    "outputId": "39a6126c-445c-4fc9-e3ac-bbae4d145d5d"
   },
   "outputs": [
    {
     "data": {
      "image/png": "[encoded data removed]",
      "text/plain": [
       "<matplotlib.figure.Figure at 0x111f952e8>"
      ]
     },
     "metadata": {},
     "output_type": "display_data"
    }
   ],
   "source": [
    "sns.boxplot(x=\"Bottle type\", y=\"Price\", data=data_pp)\n",
    "plt.xlabel('Bottle type', fontsize = 20)\n",
    "plt.ylabel('Price', fontsize = 20)\n",
    "plt.show()"
   ]
  },
  {
   "cell_type": "markdown",
   "metadata": {
    "id": "uR_nJlBTwk2A"
   },
   "source": [
    "This seems more reasonable than plugging in the most frequent values. This should lead to a more meaningful way of imputing the missing values. As you see, unless you analyse the data well, you wouldn't know what's the best way to impute data. Therefore, data preprocessing and analysis go hand-in-hand."
   ]
  }
 ],
 "metadata": {
  "colab": {
   "provenance": []
  },
  "kernelspec": {
   "display_name": "CEIC6789",
   "language": "python",
   "name": "python3"
  },
  "language_info": {
   "codemirror_mode": {
    "name": "ipython",
    "version": 3
   },
   "file_extension": ".py",
   "mimetype": "text/x-python",
   "name": "python",
   "nbconvert_exporter": "python",
   "pygments_lexer": "ipython3",
   "version": "3.13.3"
  }
 },
 "nbformat": 4,
 "nbformat_minor": 0
}
