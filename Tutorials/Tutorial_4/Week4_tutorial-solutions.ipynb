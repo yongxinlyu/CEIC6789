{
 "cells": [
  {
   "cell_type": "markdown",
   "metadata": {},
   "source": [
    "# Linear regression"
   ]
  },
  {
   "cell_type": "markdown",
   "metadata": {},
   "source": [
    "You are working for a research lab, and the lab has asked you to purchase a spectrometer for some experiments. While scanning the internet, you have managed to collect a good amount of data on different spectrometers. \n",
    "\n",
    "The file spectrometer_price.xlsx contains the relevant dataset. Here's a description of the columns:\n",
    "\n",
    "- Company: Name of the company manufacturing the spectrometer.\n",
    "- Year: The year in which the spectrometer was manufactured.\n",
    "- InstArea: the main instrument area (cm2).\n",
    "- HolderArea: Remainder of the area that holds other supplementary components (cm2).\n",
    "- Rating: Average ratings given for the spectrometer by customers.\n",
    "- Price: the price of the spectrometer (dollars).\n",
    "\n",
    "Being a curious data scientist, you want to now predict the price of the spectrometer given its attributes using a linear regression model.  \n",
    "\n",
    "Here's a template that assigns several tasks for you and also provides a roadmap to guide you. Please note, you are free to follow your own coding style and name the variables the way you like. "
   ]
  },
  {
   "cell_type": "markdown",
   "metadata": {},
   "source": [
    "## 1. Import the relevant libraries"
   ]
  },
  {
   "cell_type": "code",
   "execution_count": 1,
   "metadata": {
    "collapsed": true
   },
   "outputs": [],
   "source": [
    "import numpy as np\n",
    "import pandas as pd\n",
    "import matplotlib.pyplot as plt\n",
    "import seaborn as sns\n",
    "sns.set()"
   ]
  },
  {
   "cell_type": "markdown",
   "metadata": {},
   "source": [
    "## 2. Load the data"
   ]
  },
  {
   "cell_type": "code",
   "execution_count": 2,
   "metadata": {},
   "outputs": [
    {
     "data": {
      "text/html": [
       "<div>\n",
       "<style>\n",
       "    .dataframe thead tr:only-child th {\n",
       "        text-align: right;\n",
       "    }\n",
       "\n",
       "    .dataframe thead th {\n",
       "        text-align: left;\n",
       "    }\n",
       "\n",
       "    .dataframe tbody tr th {\n",
       "        vertical-align: top;\n",
       "    }\n",
       "</style>\n",
       "<table border=\"1\" class=\"dataframe\">\n",
       "  <thead>\n",
       "    <tr style=\"text-align: right;\">\n",
       "      <th></th>\n",
       "      <th>Company</th>\n",
       "      <th>Year</th>\n",
       "      <th>InstArea</th>\n",
       "      <th>HolderArea</th>\n",
       "      <th>Rating</th>\n",
       "      <th>Price</th>\n",
       "    </tr>\n",
       "  </thead>\n",
       "  <tbody>\n",
       "    <tr>\n",
       "      <th>0</th>\n",
       "      <td>Star</td>\n",
       "      <td>2003</td>\n",
       "      <td>213.75</td>\n",
       "      <td>938.89</td>\n",
       "      <td>7</td>\n",
       "      <td>2085.0</td>\n",
       "    </tr>\n",
       "    <tr>\n",
       "      <th>1</th>\n",
       "      <td>Star</td>\n",
       "      <td>1976</td>\n",
       "      <td>157.75</td>\n",
       "      <td>1066.67</td>\n",
       "      <td>6</td>\n",
       "      <td>1815.0</td>\n",
       "    </tr>\n",
       "    <tr>\n",
       "      <th>2</th>\n",
       "      <td>Star</td>\n",
       "      <td>2001</td>\n",
       "      <td>223.25</td>\n",
       "      <td>1250.00</td>\n",
       "      <td>7</td>\n",
       "      <td>2235.0</td>\n",
       "    </tr>\n",
       "    <tr>\n",
       "      <th>3</th>\n",
       "      <td>Star</td>\n",
       "      <td>1915</td>\n",
       "      <td>214.62</td>\n",
       "      <td>1061.11</td>\n",
       "      <td>7</td>\n",
       "      <td>1400.0</td>\n",
       "    </tr>\n",
       "    <tr>\n",
       "      <th>4</th>\n",
       "      <td>Star</td>\n",
       "      <td>2000</td>\n",
       "      <td>274.75</td>\n",
       "      <td>1584.44</td>\n",
       "      <td>8</td>\n",
       "      <td>2500.0</td>\n",
       "    </tr>\n",
       "  </tbody>\n",
       "</table>\n",
       "</div>"
      ],
      "text/plain": [
       "  Company  Year  InstArea  HolderArea  Rating   Price\n",
       "0    Star  2003    213.75      938.89       7  2085.0\n",
       "1    Star  1976    157.75     1066.67       6  1815.0\n",
       "2    Star  2001    223.25     1250.00       7  2235.0\n",
       "3    Star  1915    214.62     1061.11       7  1400.0\n",
       "4    Star  2000    274.75     1584.44       8  2500.0"
      ]
     },
     "execution_count": 2,
     "metadata": {},
     "output_type": "execute_result"
    }
   ],
   "source": [
    "raw_data = pd.read_excel('spectrometer_price.xlsx')\n",
    "raw_data.head()"
   ]
  },
  {
   "cell_type": "markdown",
   "metadata": {},
   "source": [
    "## 3. Explore the descriptive statistics"
   ]
  },
  {
   "cell_type": "code",
   "execution_count": 3,
   "metadata": {},
   "outputs": [
    {
     "data": {
      "text/html": [
       "<div>\n",
       "<style>\n",
       "    .dataframe thead tr:only-child th {\n",
       "        text-align: right;\n",
       "    }\n",
       "\n",
       "    .dataframe thead th {\n",
       "        text-align: left;\n",
       "    }\n",
       "\n",
       "    .dataframe tbody tr th {\n",
       "        vertical-align: top;\n",
       "    }\n",
       "</style>\n",
       "<table border=\"1\" class=\"dataframe\">\n",
       "  <thead>\n",
       "    <tr style=\"text-align: right;\">\n",
       "      <th></th>\n",
       "      <th>Company</th>\n",
       "      <th>Year</th>\n",
       "      <th>InstArea</th>\n",
       "      <th>HolderArea</th>\n",
       "      <th>Rating</th>\n",
       "      <th>Price</th>\n",
       "    </tr>\n",
       "  </thead>\n",
       "  <tbody>\n",
       "    <tr>\n",
       "      <th>count</th>\n",
       "      <td>1379</td>\n",
       "      <td>1379.000000</td>\n",
       "      <td>1379.000000</td>\n",
       "      <td>1379.000000</td>\n",
       "      <td>1379.000000</td>\n",
       "      <td>1379.000000</td>\n",
       "    </tr>\n",
       "    <tr>\n",
       "      <th>unique</th>\n",
       "      <td>5</td>\n",
       "      <td>NaN</td>\n",
       "      <td>NaN</td>\n",
       "      <td>NaN</td>\n",
       "      <td>NaN</td>\n",
       "      <td>NaN</td>\n",
       "    </tr>\n",
       "    <tr>\n",
       "      <th>top</th>\n",
       "      <td>Star</td>\n",
       "      <td>NaN</td>\n",
       "      <td>NaN</td>\n",
       "      <td>NaN</td>\n",
       "      <td>NaN</td>\n",
       "      <td>NaN</td>\n",
       "    </tr>\n",
       "    <tr>\n",
       "      <th>freq</th>\n",
       "      <td>1101</td>\n",
       "      <td>NaN</td>\n",
       "      <td>NaN</td>\n",
       "      <td>NaN</td>\n",
       "      <td>NaN</td>\n",
       "      <td>NaN</td>\n",
       "    </tr>\n",
       "    <tr>\n",
       "      <th>mean</th>\n",
       "      <td>NaN</td>\n",
       "      <td>1972.958666</td>\n",
       "      <td>191.836149</td>\n",
       "      <td>1188.423698</td>\n",
       "      <td>6.187092</td>\n",
       "      <td>1854.795112</td>\n",
       "    </tr>\n",
       "    <tr>\n",
       "      <th>std</th>\n",
       "      <td>NaN</td>\n",
       "      <td>29.379883</td>\n",
       "      <td>64.892622</td>\n",
       "      <td>1134.967028</td>\n",
       "      <td>1.345780</td>\n",
       "      <td>790.238906</td>\n",
       "    </tr>\n",
       "    <tr>\n",
       "      <th>min</th>\n",
       "      <td>NaN</td>\n",
       "      <td>1880.000000</td>\n",
       "      <td>54.750000</td>\n",
       "      <td>144.440000</td>\n",
       "      <td>2.000000</td>\n",
       "      <td>353.110000</td>\n",
       "    </tr>\n",
       "    <tr>\n",
       "      <th>25%</th>\n",
       "      <td>NaN</td>\n",
       "      <td>1955.000000</td>\n",
       "      <td>144.250000</td>\n",
       "      <td>860.110000</td>\n",
       "      <td>5.000000</td>\n",
       "      <td>1340.000000</td>\n",
       "    </tr>\n",
       "    <tr>\n",
       "      <th>50%</th>\n",
       "      <td>NaN</td>\n",
       "      <td>1976.000000</td>\n",
       "      <td>184.880000</td>\n",
       "      <td>1065.670000</td>\n",
       "      <td>6.000000</td>\n",
       "      <td>1675.000000</td>\n",
       "    </tr>\n",
       "    <tr>\n",
       "      <th>75%</th>\n",
       "      <td>NaN</td>\n",
       "      <td>2001.000000</td>\n",
       "      <td>223.750000</td>\n",
       "      <td>1300.945000</td>\n",
       "      <td>7.000000</td>\n",
       "      <td>2177.500000</td>\n",
       "    </tr>\n",
       "    <tr>\n",
       "      <th>max</th>\n",
       "      <td>NaN</td>\n",
       "      <td>2010.000000</td>\n",
       "      <td>705.250000</td>\n",
       "      <td>23916.110000</td>\n",
       "      <td>10.000000</td>\n",
       "      <td>7550.000000</td>\n",
       "    </tr>\n",
       "  </tbody>\n",
       "</table>\n",
       "</div>"
      ],
      "text/plain": [
       "       Company         Year     InstArea    HolderArea       Rating  \\\n",
       "count     1379  1379.000000  1379.000000   1379.000000  1379.000000   \n",
       "unique       5          NaN          NaN           NaN          NaN   \n",
       "top       Star          NaN          NaN           NaN          NaN   \n",
       "freq      1101          NaN          NaN           NaN          NaN   \n",
       "mean       NaN  1972.958666   191.836149   1188.423698     6.187092   \n",
       "std        NaN    29.379883    64.892622   1134.967028     1.345780   \n",
       "min        NaN  1880.000000    54.750000    144.440000     2.000000   \n",
       "25%        NaN  1955.000000   144.250000    860.110000     5.000000   \n",
       "50%        NaN  1976.000000   184.880000   1065.670000     6.000000   \n",
       "75%        NaN  2001.000000   223.750000   1300.945000     7.000000   \n",
       "max        NaN  2010.000000   705.250000  23916.110000    10.000000   \n",
       "\n",
       "              Price  \n",
       "count   1379.000000  \n",
       "unique          NaN  \n",
       "top             NaN  \n",
       "freq            NaN  \n",
       "mean    1854.795112  \n",
       "std      790.238906  \n",
       "min      353.110000  \n",
       "25%     1340.000000  \n",
       "50%     1675.000000  \n",
       "75%     2177.500000  \n",
       "max     7550.000000  "
      ]
     },
     "execution_count": 3,
     "metadata": {},
     "output_type": "execute_result"
    }
   ],
   "source": [
    "raw_data.describe(include='all')"
   ]
  },
  {
   "cell_type": "markdown",
   "metadata": {},
   "source": [
    "## 4. Data preprocessing"
   ]
  },
  {
   "cell_type": "markdown",
   "metadata": {},
   "source": [
    "If necessary, we carry out preprocessing here. However, in this example, we don't need to do this. So, we can proceed ahead."
   ]
  },
  {
   "cell_type": "markdown",
   "metadata": {},
   "source": [
    "## 5. Check the OLS assumptions"
   ]
  },
  {
   "cell_type": "markdown",
   "metadata": {},
   "source": [
    "### 5.1 Check for Linearity"
   ]
  },
  {
   "cell_type": "code",
   "execution_count": 4,
   "metadata": {},
   "outputs": [
    {
     "data": {
      "image/png": "[encoded data removed]",
      "text/plain": [
       "<matplotlib.figure.Figure at 0x10afb70f0>"
      ]
     },
     "metadata": {},
     "output_type": "display_data"
    }
   ],
   "source": [
    "f, ((ax1, ax2), (ax3, ax4)) = plt.subplots(2, 2, sharey=True, figsize =(15,12))\n",
    "\n",
    "ax1.scatter(raw_data['Year'], raw_data['Price'])\n",
    "ax1.set_title('Price and Year', fontsize=20)\n",
    "\n",
    "ax2.scatter(raw_data['Rating'],raw_data['Price'])\n",
    "ax2.set_title('Price and Rating', fontsize=20)\n",
    "\n",
    "ax3.scatter(raw_data['InstArea'],raw_data['Price'])\n",
    "ax3.set_title('Price and InstArea', fontsize=20)\n",
    "\n",
    "ax4.scatter(raw_data['HolderArea'],raw_data['Price'])\n",
    "ax4.set_title('Price and HolderArea', fontsize=20)\n",
    "\n",
    "plt.show()"
   ]
  },
  {
   "cell_type": "markdown",
   "metadata": {},
   "source": [
    "Above, we have plotted the target (Price) against all the numerical features in the dataset. From these plots, it seems like Price vs. Year graph is not linear. One could argue that the other plots might not be strictly linear - but we need to look at the fact that this is real-life data and as such, trends are never strictly linear. So, we need to have an approximately linear-looking graph to go ahead with linear regression."
   ]
  },
  {
   "cell_type": "markdown",
   "metadata": {},
   "source": [
    "In what follows, write a code that will obtain an optimized quadratic fit to the Price vs. Year plot. Other functions could also be explored, such as higher degree polynomials and power law functions. If you would like to test other better fits than quadratic, then please give it a shot in your free time, and see how those functions affect the final predictions."
   ]
  },
  {
   "cell_type": "code",
   "execution_count": 5,
   "metadata": {},
   "outputs": [
    {
     "name": "stdout",
     "output_type": "stream",
     "text": [
      "y = 0.23142 * (x + -1933.78688)**2 + 1300.07434\n"
     ]
    }
   ],
   "source": [
    "def poly_year(x, a, b, c):\n",
    "    return a * (x + b)**2 + c\n",
    "\n",
    "x, y = raw_data['Year'].values, raw_data['Price'].values\n",
    "\n",
    "# curve fitting\n",
    "from scipy.optimize import curve_fit\n",
    "popt, _ = curve_fit(poly_year, x, y)\n",
    "\n",
    "# summarize the parameter values\n",
    "a, b, c = popt\n",
    "print('y = %.5f * (x + %.5f)**2 + %.5f' % (a, b, c))"
   ]
  },
  {
   "cell_type": "markdown",
   "metadata": {},
   "source": [
    "Show the optimized quadratic curve on the scatter plot of Year vs. Price to see how well the curve fits"
   ]
  },
  {
   "cell_type": "code",
   "execution_count": 6,
   "metadata": {},
   "outputs": [
    {
     "data": {
      "image/png": "[encoded data removed]",
      "text/plain": [
       "<matplotlib.figure.Figure at 0x10b0120f0>"
      ]
     },
     "metadata": {},
     "output_type": "display_data"
    }
   ],
   "source": [
    "# plot Year vs Price (a scatter plot)\n",
    "plt.scatter(x, y)\n",
    "\n",
    "# define a sequence of inputs between the smallest and largest known inputs to plot the quadratic line obtained\n",
    "x_line = np.arange(min(x), max(x), 1)\n",
    "\n",
    "# calculate the output (quadratic fit) for the range\n",
    "y_line = poly_year(x_line, a, b, c)\n",
    "\n",
    "# create a line plot for the mapping function\n",
    "plt.plot(x_line, y_line, '-', color='red')\n",
    "plt.show()"
   ]
  },
  {
   "cell_type": "code",
   "execution_count": 10,
   "metadata": {},
   "outputs": [
    {
     "data": {
      "text/html": [
       "<div>\n",
       "<style>\n",
       "    .dataframe thead tr:only-child th {\n",
       "        text-align: right;\n",
       "    }\n",
       "\n",
       "    .dataframe thead th {\n",
       "        text-align: left;\n",
       "    }\n",
       "\n",
       "    .dataframe tbody tr th {\n",
       "        vertical-align: top;\n",
       "    }\n",
       "</style>\n",
       "<table border=\"1\" class=\"dataframe\">\n",
       "  <thead>\n",
       "    <tr style=\"text-align: right;\">\n",
       "      <th></th>\n",
       "      <th>Company</th>\n",
       "      <th>Year</th>\n",
       "      <th>InstArea</th>\n",
       "      <th>HolderArea</th>\n",
       "      <th>Rating</th>\n",
       "      <th>Price</th>\n",
       "      <th>mod_Year</th>\n",
       "    </tr>\n",
       "  </thead>\n",
       "  <tbody>\n",
       "    <tr>\n",
       "      <th>0</th>\n",
       "      <td>Star</td>\n",
       "      <td>2003</td>\n",
       "      <td>213.75</td>\n",
       "      <td>938.89</td>\n",
       "      <td>7</td>\n",
       "      <td>2085.0</td>\n",
       "      <td>4790.455449</td>\n",
       "    </tr>\n",
       "    <tr>\n",
       "      <th>1</th>\n",
       "      <td>Star</td>\n",
       "      <td>1976</td>\n",
       "      <td>157.75</td>\n",
       "      <td>1066.67</td>\n",
       "      <td>6</td>\n",
       "      <td>1815.0</td>\n",
       "      <td>1781.947176</td>\n",
       "    </tr>\n",
       "    <tr>\n",
       "      <th>2</th>\n",
       "      <td>Star</td>\n",
       "      <td>2001</td>\n",
       "      <td>223.25</td>\n",
       "      <td>1250.00</td>\n",
       "      <td>7</td>\n",
       "      <td>2235.0</td>\n",
       "      <td>4517.602985</td>\n",
       "    </tr>\n",
       "    <tr>\n",
       "      <th>3</th>\n",
       "      <td>Star</td>\n",
       "      <td>1915</td>\n",
       "      <td>214.62</td>\n",
       "      <td>1061.11</td>\n",
       "      <td>7</td>\n",
       "      <td>1400.0</td>\n",
       "      <td>352.947004</td>\n",
       "    </tr>\n",
       "    <tr>\n",
       "      <th>4</th>\n",
       "      <td>Star</td>\n",
       "      <td>2000</td>\n",
       "      <td>274.75</td>\n",
       "      <td>1584.44</td>\n",
       "      <td>8</td>\n",
       "      <td>2500.0</td>\n",
       "      <td>4384.176752</td>\n",
       "    </tr>\n",
       "  </tbody>\n",
       "</table>\n",
       "</div>"
      ],
      "text/plain": [
       "  Company  Year  InstArea  HolderArea  Rating   Price     mod_Year\n",
       "0    Star  2003    213.75      938.89       7  2085.0  4790.455449\n",
       "1    Star  1976    157.75     1066.67       6  1815.0  1781.947176\n",
       "2    Star  2001    223.25     1250.00       7  2235.0  4517.602985\n",
       "3    Star  1915    214.62     1061.11       7  1400.0   352.947004\n",
       "4    Star  2000    274.75     1584.44       8  2500.0  4384.176752"
      ]
     },
     "execution_count": 10,
     "metadata": {},
     "output_type": "execute_result"
    }
   ],
   "source": [
    "# Now we understand that Price could be roughly proportional to (Year + b)^2, rather than just Year. \n",
    "# So, create a new column in raw_data that adds the quadratic expression\n",
    "mod_year = (x + b)**2\n",
    "raw_data['mod_Year'] = mod_year\n",
    "raw_data.head()"
   ]
  },
  {
   "cell_type": "code",
   "execution_count": 11,
   "metadata": {
    "scrolled": true
   },
   "outputs": [
    {
     "data": {
      "image/png": "[encoded data removed]",
      "text/plain": [
       "<matplotlib.figure.Figure at 0x1105aa9e8>"
      ]
     },
     "metadata": {},
     "output_type": "display_data"
    }
   ],
   "source": [
    "# Check if Price vs. (Year + b)^2 is linear or not using a scatter plot\n",
    "plt.scatter(raw_data['mod_Year'], raw_data['Price'])\n",
    "plt.title('Price and mod_Year', fontsize=20)\n",
    "plt.show()"
   ]
  },
  {
   "cell_type": "code",
   "execution_count": 12,
   "metadata": {},
   "outputs": [
    {
     "data": {
      "text/html": [
       "<div>\n",
       "<style>\n",
       "    .dataframe thead tr:only-child th {\n",
       "        text-align: right;\n",
       "    }\n",
       "\n",
       "    .dataframe thead th {\n",
       "        text-align: left;\n",
       "    }\n",
       "\n",
       "    .dataframe tbody tr th {\n",
       "        vertical-align: top;\n",
       "    }\n",
       "</style>\n",
       "<table border=\"1\" class=\"dataframe\">\n",
       "  <thead>\n",
       "    <tr style=\"text-align: right;\">\n",
       "      <th></th>\n",
       "      <th>Company</th>\n",
       "      <th>InstArea</th>\n",
       "      <th>HolderArea</th>\n",
       "      <th>Rating</th>\n",
       "      <th>Price</th>\n",
       "      <th>mod_Year</th>\n",
       "    </tr>\n",
       "  </thead>\n",
       "  <tbody>\n",
       "    <tr>\n",
       "      <th>0</th>\n",
       "      <td>Star</td>\n",
       "      <td>213.75</td>\n",
       "      <td>938.89</td>\n",
       "      <td>7</td>\n",
       "      <td>2085.0</td>\n",
       "      <td>4790.455449</td>\n",
       "    </tr>\n",
       "    <tr>\n",
       "      <th>1</th>\n",
       "      <td>Star</td>\n",
       "      <td>157.75</td>\n",
       "      <td>1066.67</td>\n",
       "      <td>6</td>\n",
       "      <td>1815.0</td>\n",
       "      <td>1781.947176</td>\n",
       "    </tr>\n",
       "    <tr>\n",
       "      <th>2</th>\n",
       "      <td>Star</td>\n",
       "      <td>223.25</td>\n",
       "      <td>1250.00</td>\n",
       "      <td>7</td>\n",
       "      <td>2235.0</td>\n",
       "      <td>4517.602985</td>\n",
       "    </tr>\n",
       "    <tr>\n",
       "      <th>3</th>\n",
       "      <td>Star</td>\n",
       "      <td>214.62</td>\n",
       "      <td>1061.11</td>\n",
       "      <td>7</td>\n",
       "      <td>1400.0</td>\n",
       "      <td>352.947004</td>\n",
       "    </tr>\n",
       "    <tr>\n",
       "      <th>4</th>\n",
       "      <td>Star</td>\n",
       "      <td>274.75</td>\n",
       "      <td>1584.44</td>\n",
       "      <td>8</td>\n",
       "      <td>2500.0</td>\n",
       "      <td>4384.176752</td>\n",
       "    </tr>\n",
       "  </tbody>\n",
       "</table>\n",
       "</div>"
      ],
      "text/plain": [
       "  Company  InstArea  HolderArea  Rating   Price     mod_Year\n",
       "0    Star    213.75      938.89       7  2085.0  4790.455449\n",
       "1    Star    157.75     1066.67       6  1815.0  1781.947176\n",
       "2    Star    223.25     1250.00       7  2235.0  4517.602985\n",
       "3    Star    214.62     1061.11       7  1400.0   352.947004\n",
       "4    Star    274.75     1584.44       8  2500.0  4384.176752"
      ]
     },
     "execution_count": 12,
     "metadata": {},
     "output_type": "execute_result"
    }
   ],
   "source": [
    "# Drop the Year column since it is not necessary\n",
    "raw_data = raw_data.drop(['Year'],axis=1)\n",
    "raw_data.head()"
   ]
  },
  {
   "cell_type": "markdown",
   "metadata": {},
   "source": [
    "### 5.2 Check for Homoscedasticity"
   ]
  },
  {
   "cell_type": "code",
   "execution_count": 13,
   "metadata": {},
   "outputs": [
    {
     "data": {
      "text/html": [
       "<div>\n",
       "<style>\n",
       "    .dataframe thead tr:only-child th {\n",
       "        text-align: right;\n",
       "    }\n",
       "\n",
       "    .dataframe thead th {\n",
       "        text-align: left;\n",
       "    }\n",
       "\n",
       "    .dataframe tbody tr th {\n",
       "        vertical-align: top;\n",
       "    }\n",
       "</style>\n",
       "<table border=\"1\" class=\"dataframe\">\n",
       "  <thead>\n",
       "    <tr style=\"text-align: right;\">\n",
       "      <th></th>\n",
       "      <th>Company</th>\n",
       "      <th>InstArea</th>\n",
       "      <th>HolderArea</th>\n",
       "      <th>Rating</th>\n",
       "      <th>Price</th>\n",
       "      <th>mod_Year</th>\n",
       "      <th>log_Price</th>\n",
       "    </tr>\n",
       "  </thead>\n",
       "  <tbody>\n",
       "    <tr>\n",
       "      <th>0</th>\n",
       "      <td>Star</td>\n",
       "      <td>213.75</td>\n",
       "      <td>938.89</td>\n",
       "      <td>7</td>\n",
       "      <td>2085.0</td>\n",
       "      <td>4790.455449</td>\n",
       "      <td>7.642524</td>\n",
       "    </tr>\n",
       "    <tr>\n",
       "      <th>1</th>\n",
       "      <td>Star</td>\n",
       "      <td>157.75</td>\n",
       "      <td>1066.67</td>\n",
       "      <td>6</td>\n",
       "      <td>1815.0</td>\n",
       "      <td>1781.947176</td>\n",
       "      <td>7.503841</td>\n",
       "    </tr>\n",
       "    <tr>\n",
       "      <th>2</th>\n",
       "      <td>Star</td>\n",
       "      <td>223.25</td>\n",
       "      <td>1250.00</td>\n",
       "      <td>7</td>\n",
       "      <td>2235.0</td>\n",
       "      <td>4517.602985</td>\n",
       "      <td>7.711997</td>\n",
       "    </tr>\n",
       "    <tr>\n",
       "      <th>3</th>\n",
       "      <td>Star</td>\n",
       "      <td>214.62</td>\n",
       "      <td>1061.11</td>\n",
       "      <td>7</td>\n",
       "      <td>1400.0</td>\n",
       "      <td>352.947004</td>\n",
       "      <td>7.244228</td>\n",
       "    </tr>\n",
       "    <tr>\n",
       "      <th>4</th>\n",
       "      <td>Star</td>\n",
       "      <td>274.75</td>\n",
       "      <td>1584.44</td>\n",
       "      <td>8</td>\n",
       "      <td>2500.0</td>\n",
       "      <td>4384.176752</td>\n",
       "      <td>7.824046</td>\n",
       "    </tr>\n",
       "  </tbody>\n",
       "</table>\n",
       "</div>"
      ],
      "text/plain": [
       "  Company  InstArea  HolderArea  Rating   Price     mod_Year  log_Price\n",
       "0    Star    213.75      938.89       7  2085.0  4790.455449   7.642524\n",
       "1    Star    157.75     1066.67       6  1815.0  1781.947176   7.503841\n",
       "2    Star    223.25     1250.00       7  2235.0  4517.602985   7.711997\n",
       "3    Star    214.62     1061.11       7  1400.0   352.947004   7.244228\n",
       "4    Star    274.75     1584.44       8  2500.0  4384.176752   7.824046"
      ]
     },
     "execution_count": 13,
     "metadata": {},
     "output_type": "execute_result"
    }
   ],
   "source": [
    "log_price = np.log(raw_data['Price'])\n",
    "raw_data['log_Price'] = log_price\n",
    "raw_data.head()"
   ]
  },
  {
   "cell_type": "code",
   "execution_count": 14,
   "metadata": {},
   "outputs": [
    {
     "data": {
      "image/png": "[encoded data removed]",
      "text/plain": [
       "<matplotlib.figure.Figure at 0x110910048>"
      ]
     },
     "metadata": {},
     "output_type": "display_data"
    }
   ],
   "source": [
    "f, ((ax1, ax2), (ax3, ax4)) = plt.subplots(2, 2, sharey=True, figsize =(15,12))\n",
    "\n",
    "ax1.scatter(raw_data['mod_Year'],raw_data['log_Price'])\n",
    "ax1.set_title('Log Price and mod_Year', fontsize=20)\n",
    "\n",
    "ax2.scatter(raw_data['Rating'],raw_data['log_Price'])\n",
    "ax2.set_title('Log Price and Rating', fontsize=20)\n",
    "\n",
    "ax3.scatter(raw_data['InstArea'],raw_data['log_Price'])\n",
    "ax3.set_title('Log Price and InstArea', fontsize=20)\n",
    "\n",
    "ax4.scatter(raw_data['HolderArea'],raw_data['log_Price'])\n",
    "ax4.set_title('Log Price and HolderArea', fontsize=20)\n",
    "\n",
    "plt.show()"
   ]
  },
  {
   "cell_type": "markdown",
   "metadata": {},
   "source": [
    "Look at the combinations we tried above. It seems like by taking log of Price, we are able to reduce heteroscedasticity. Not perfect, but we have better looking scatter plots."
   ]
  },
  {
   "cell_type": "markdown",
   "metadata": {},
   "source": [
    "### 5.3 Check for Autocorrelation"
   ]
  },
  {
   "cell_type": "markdown",
   "metadata": {
    "collapsed": true
   },
   "source": [
    "No reason to expect autocorrelation. The data was collected randomly and list different manufacturers and their products."
   ]
  },
  {
   "cell_type": "markdown",
   "metadata": {},
   "source": [
    "### 5.4 Check for Multicollinearity"
   ]
  },
  {
   "cell_type": "code",
   "execution_count": 15,
   "metadata": {},
   "outputs": [
    {
     "data": {
      "text/html": [
       "<div>\n",
       "<style>\n",
       "    .dataframe thead tr:only-child th {\n",
       "        text-align: right;\n",
       "    }\n",
       "\n",
       "    .dataframe thead th {\n",
       "        text-align: left;\n",
       "    }\n",
       "\n",
       "    .dataframe tbody tr th {\n",
       "        vertical-align: top;\n",
       "    }\n",
       "</style>\n",
       "<table border=\"1\" class=\"dataframe\">\n",
       "  <thead>\n",
       "    <tr style=\"text-align: right;\">\n",
       "      <th></th>\n",
       "      <th>InstArea</th>\n",
       "      <th>HolderArea</th>\n",
       "      <th>Rating</th>\n",
       "      <th>Price</th>\n",
       "      <th>mod_Year</th>\n",
       "      <th>log_Price</th>\n",
       "    </tr>\n",
       "  </thead>\n",
       "  <tbody>\n",
       "    <tr>\n",
       "      <th>InstArea</th>\n",
       "      <td>1.000000</td>\n",
       "      <td>0.257244</td>\n",
       "      <td>0.589583</td>\n",
       "      <td>0.708170</td>\n",
       "      <td>0.314804</td>\n",
       "      <td>0.702121</td>\n",
       "    </tr>\n",
       "    <tr>\n",
       "      <th>HolderArea</th>\n",
       "      <td>0.257244</td>\n",
       "      <td>1.000000</td>\n",
       "      <td>0.090016</td>\n",
       "      <td>0.252921</td>\n",
       "      <td>-0.033595</td>\n",
       "      <td>0.247431</td>\n",
       "    </tr>\n",
       "    <tr>\n",
       "      <th>Rating</th>\n",
       "      <td>0.589583</td>\n",
       "      <td>0.090016</td>\n",
       "      <td>1.000000</td>\n",
       "      <td>0.787228</td>\n",
       "      <td>0.684312</td>\n",
       "      <td>0.813365</td>\n",
       "    </tr>\n",
       "    <tr>\n",
       "      <th>Price</th>\n",
       "      <td>0.708170</td>\n",
       "      <td>0.252921</td>\n",
       "      <td>0.787228</td>\n",
       "      <td>1.000000</td>\n",
       "      <td>0.579261</td>\n",
       "      <td>0.954114</td>\n",
       "    </tr>\n",
       "    <tr>\n",
       "      <th>mod_Year</th>\n",
       "      <td>0.314804</td>\n",
       "      <td>-0.033595</td>\n",
       "      <td>0.684312</td>\n",
       "      <td>0.579261</td>\n",
       "      <td>1.000000</td>\n",
       "      <td>0.631745</td>\n",
       "    </tr>\n",
       "    <tr>\n",
       "      <th>log_Price</th>\n",
       "      <td>0.702121</td>\n",
       "      <td>0.247431</td>\n",
       "      <td>0.813365</td>\n",
       "      <td>0.954114</td>\n",
       "      <td>0.631745</td>\n",
       "      <td>1.000000</td>\n",
       "    </tr>\n",
       "  </tbody>\n",
       "</table>\n",
       "</div>"
      ],
      "text/plain": [
       "            InstArea  HolderArea    Rating     Price  mod_Year  log_Price\n",
       "InstArea    1.000000    0.257244  0.589583  0.708170  0.314804   0.702121\n",
       "HolderArea  0.257244    1.000000  0.090016  0.252921 -0.033595   0.247431\n",
       "Rating      0.589583    0.090016  1.000000  0.787228  0.684312   0.813365\n",
       "Price       0.708170    0.252921  0.787228  1.000000  0.579261   0.954114\n",
       "mod_Year    0.314804   -0.033595  0.684312  0.579261  1.000000   0.631745\n",
       "log_Price   0.702121    0.247431  0.813365  0.954114  0.631745   1.000000"
      ]
     },
     "execution_count": 15,
     "metadata": {},
     "output_type": "execute_result"
    }
   ],
   "source": [
    "# Correlation matrix\n",
    "raw_data.corr(method='pearson')"
   ]
  },
  {
   "cell_type": "code",
   "execution_count": 16,
   "metadata": {
    "collapsed": true
   },
   "outputs": [],
   "source": [
    "# VIF method\n",
    "from statsmodels.stats.outliers_influence import variance_inflation_factor\n",
    "\n",
    "variables = raw_data[['InstArea', 'Rating', 'HolderArea', 'mod_Year']]\n",
    "\n",
    "vif = pd.DataFrame()\n",
    "vif[\"VIF\"] = [variance_inflation_factor(variables.values, i) for i in range(variables.shape[1])]\n",
    "vif[\"features\"] = variables.columns"
   ]
  },
  {
   "cell_type": "code",
   "execution_count": 17,
   "metadata": {},
   "outputs": [
    {
     "data": {
      "text/html": [
       "<div>\n",
       "<style>\n",
       "    .dataframe thead tr:only-child th {\n",
       "        text-align: right;\n",
       "    }\n",
       "\n",
       "    .dataframe thead th {\n",
       "        text-align: left;\n",
       "    }\n",
       "\n",
       "    .dataframe tbody tr th {\n",
       "        vertical-align: top;\n",
       "    }\n",
       "</style>\n",
       "<table border=\"1\" class=\"dataframe\">\n",
       "  <thead>\n",
       "    <tr style=\"text-align: right;\">\n",
       "      <th></th>\n",
       "      <th>VIF</th>\n",
       "      <th>features</th>\n",
       "    </tr>\n",
       "  </thead>\n",
       "  <tbody>\n",
       "    <tr>\n",
       "      <th>0</th>\n",
       "      <td>16.192938</td>\n",
       "      <td>InstArea</td>\n",
       "    </tr>\n",
       "    <tr>\n",
       "      <th>1</th>\n",
       "      <td>19.978132</td>\n",
       "      <td>Rating</td>\n",
       "    </tr>\n",
       "    <tr>\n",
       "      <th>2</th>\n",
       "      <td>2.273324</td>\n",
       "      <td>HolderArea</td>\n",
       "    </tr>\n",
       "    <tr>\n",
       "      <th>3</th>\n",
       "      <td>3.696037</td>\n",
       "      <td>mod_Year</td>\n",
       "    </tr>\n",
       "  </tbody>\n",
       "</table>\n",
       "</div>"
      ],
      "text/plain": [
       "         VIF    features\n",
       "0  16.192938    InstArea\n",
       "1  19.978132      Rating\n",
       "2   2.273324  HolderArea\n",
       "3   3.696037    mod_Year"
      ]
     },
     "execution_count": 17,
     "metadata": {},
     "output_type": "execute_result"
    }
   ],
   "source": [
    "vif"
   ]
  },
  {
   "cell_type": "code",
   "execution_count": 18,
   "metadata": {
    "collapsed": true
   },
   "outputs": [],
   "source": [
    "raw_data = raw_data.drop(['Rating'],axis=1)"
   ]
  },
  {
   "cell_type": "code",
   "execution_count": 19,
   "metadata": {
    "collapsed": true
   },
   "outputs": [],
   "source": [
    "from statsmodels.stats.outliers_influence import variance_inflation_factor\n",
    "\n",
    "variables = raw_data[['InstArea', 'HolderArea', 'mod_Year']]\n",
    "\n",
    "vif = pd.DataFrame()\n",
    "vif[\"VIF\"] = [variance_inflation_factor(variables.values, i) for i in range(variables.shape[1])]\n",
    "vif[\"features\"] = variables.columns"
   ]
  },
  {
   "cell_type": "code",
   "execution_count": 20,
   "metadata": {},
   "outputs": [
    {
     "data": {
      "text/html": [
       "<div>\n",
       "<style>\n",
       "    .dataframe thead tr:only-child th {\n",
       "        text-align: right;\n",
       "    }\n",
       "\n",
       "    .dataframe thead th {\n",
       "        text-align: left;\n",
       "    }\n",
       "\n",
       "    .dataframe tbody tr th {\n",
       "        vertical-align: top;\n",
       "    }\n",
       "</style>\n",
       "<table border=\"1\" class=\"dataframe\">\n",
       "  <thead>\n",
       "    <tr style=\"text-align: right;\">\n",
       "      <th></th>\n",
       "      <th>VIF</th>\n",
       "      <th>features</th>\n",
       "    </tr>\n",
       "  </thead>\n",
       "  <tbody>\n",
       "    <tr>\n",
       "      <th>0</th>\n",
       "      <td>4.319516</td>\n",
       "      <td>InstArea</td>\n",
       "    </tr>\n",
       "    <tr>\n",
       "      <th>1</th>\n",
       "      <td>2.255477</td>\n",
       "      <td>HolderArea</td>\n",
       "    </tr>\n",
       "    <tr>\n",
       "      <th>2</th>\n",
       "      <td>2.753094</td>\n",
       "      <td>mod_Year</td>\n",
       "    </tr>\n",
       "  </tbody>\n",
       "</table>\n",
       "</div>"
      ],
      "text/plain": [
       "        VIF    features\n",
       "0  4.319516    InstArea\n",
       "1  2.255477  HolderArea\n",
       "2  2.753094    mod_Year"
      ]
     },
     "execution_count": 20,
     "metadata": {},
     "output_type": "execute_result"
    }
   ],
   "source": [
    "vif"
   ]
  },
  {
   "cell_type": "markdown",
   "metadata": {},
   "source": [
    "## 6. Create dummy variables"
   ]
  },
  {
   "cell_type": "code",
   "execution_count": 21,
   "metadata": {},
   "outputs": [
    {
     "data": {
      "text/plain": [
       "['Fisher', 'Hama', 'Spectra', 'Star', 'Thermo']"
      ]
     },
     "execution_count": 21,
     "metadata": {},
     "output_type": "execute_result"
    }
   ],
   "source": [
    "cals = raw_data['Company'].unique()\n",
    "sorted(cals)"
   ]
  },
  {
   "cell_type": "code",
   "execution_count": 22,
   "metadata": {
    "collapsed": true
   },
   "outputs": [],
   "source": [
    "raw_data_with_dummies = pd.get_dummies(raw_data, drop_first=True)"
   ]
  },
  {
   "cell_type": "code",
   "execution_count": 23,
   "metadata": {},
   "outputs": [
    {
     "data": {
      "text/html": [
       "<div>\n",
       "<style>\n",
       "    .dataframe thead tr:only-child th {\n",
       "        text-align: right;\n",
       "    }\n",
       "\n",
       "    .dataframe thead th {\n",
       "        text-align: left;\n",
       "    }\n",
       "\n",
       "    .dataframe tbody tr th {\n",
       "        vertical-align: top;\n",
       "    }\n",
       "</style>\n",
       "<table border=\"1\" class=\"dataframe\">\n",
       "  <thead>\n",
       "    <tr style=\"text-align: right;\">\n",
       "      <th></th>\n",
       "      <th>InstArea</th>\n",
       "      <th>HolderArea</th>\n",
       "      <th>Price</th>\n",
       "      <th>mod_Year</th>\n",
       "      <th>log_Price</th>\n",
       "      <th>Company_Hama</th>\n",
       "      <th>Company_Spectra</th>\n",
       "      <th>Company_Star</th>\n",
       "      <th>Company_Thermo</th>\n",
       "    </tr>\n",
       "  </thead>\n",
       "  <tbody>\n",
       "    <tr>\n",
       "      <th>0</th>\n",
       "      <td>213.75</td>\n",
       "      <td>938.89</td>\n",
       "      <td>2085.0</td>\n",
       "      <td>4790.455449</td>\n",
       "      <td>7.642524</td>\n",
       "      <td>0</td>\n",
       "      <td>0</td>\n",
       "      <td>1</td>\n",
       "      <td>0</td>\n",
       "    </tr>\n",
       "    <tr>\n",
       "      <th>1</th>\n",
       "      <td>157.75</td>\n",
       "      <td>1066.67</td>\n",
       "      <td>1815.0</td>\n",
       "      <td>1781.947176</td>\n",
       "      <td>7.503841</td>\n",
       "      <td>0</td>\n",
       "      <td>0</td>\n",
       "      <td>1</td>\n",
       "      <td>0</td>\n",
       "    </tr>\n",
       "    <tr>\n",
       "      <th>2</th>\n",
       "      <td>223.25</td>\n",
       "      <td>1250.00</td>\n",
       "      <td>2235.0</td>\n",
       "      <td>4517.602985</td>\n",
       "      <td>7.711997</td>\n",
       "      <td>0</td>\n",
       "      <td>0</td>\n",
       "      <td>1</td>\n",
       "      <td>0</td>\n",
       "    </tr>\n",
       "    <tr>\n",
       "      <th>3</th>\n",
       "      <td>214.62</td>\n",
       "      <td>1061.11</td>\n",
       "      <td>1400.0</td>\n",
       "      <td>352.947004</td>\n",
       "      <td>7.244228</td>\n",
       "      <td>0</td>\n",
       "      <td>0</td>\n",
       "      <td>1</td>\n",
       "      <td>0</td>\n",
       "    </tr>\n",
       "    <tr>\n",
       "      <th>4</th>\n",
       "      <td>274.75</td>\n",
       "      <td>1584.44</td>\n",
       "      <td>2500.0</td>\n",
       "      <td>4384.176752</td>\n",
       "      <td>7.824046</td>\n",
       "      <td>0</td>\n",
       "      <td>0</td>\n",
       "      <td>1</td>\n",
       "      <td>0</td>\n",
       "    </tr>\n",
       "  </tbody>\n",
       "</table>\n",
       "</div>"
      ],
      "text/plain": [
       "   InstArea  HolderArea   Price     mod_Year  log_Price  Company_Hama  \\\n",
       "0    213.75      938.89  2085.0  4790.455449   7.642524             0   \n",
       "1    157.75     1066.67  1815.0  1781.947176   7.503841             0   \n",
       "2    223.25     1250.00  2235.0  4517.602985   7.711997             0   \n",
       "3    214.62     1061.11  1400.0   352.947004   7.244228             0   \n",
       "4    274.75     1584.44  2500.0  4384.176752   7.824046             0   \n",
       "\n",
       "   Company_Spectra  Company_Star  Company_Thermo  \n",
       "0                0             1               0  \n",
       "1                0             1               0  \n",
       "2                0             1               0  \n",
       "3                0             1               0  \n",
       "4                0             1               0  "
      ]
     },
     "execution_count": 23,
     "metadata": {},
     "output_type": "execute_result"
    }
   ],
   "source": [
    "raw_data_with_dummies.head()"
   ]
  },
  {
   "cell_type": "markdown",
   "metadata": {},
   "source": [
    "### 6.1 Check for VIF with dummy variables"
   ]
  },
  {
   "cell_type": "code",
   "execution_count": 24,
   "metadata": {
    "collapsed": true
   },
   "outputs": [],
   "source": [
    "from statsmodels.stats.outliers_influence import variance_inflation_factor\n",
    "\n",
    "variables = raw_data_with_dummies.drop(['log_Price', 'Price'], axis=1)\n",
    "\n",
    "vif = pd.DataFrame()\n",
    "vif[\"VIF\"] = [variance_inflation_factor(variables.values, i) for i in range(variables.shape[1])]\n",
    "vif[\"features\"] = variables.columns"
   ]
  },
  {
   "cell_type": "code",
   "execution_count": 25,
   "metadata": {},
   "outputs": [
    {
     "data": {
      "text/html": [
       "<div>\n",
       "<style>\n",
       "    .dataframe thead tr:only-child th {\n",
       "        text-align: right;\n",
       "    }\n",
       "\n",
       "    .dataframe thead th {\n",
       "        text-align: left;\n",
       "    }\n",
       "\n",
       "    .dataframe tbody tr th {\n",
       "        vertical-align: top;\n",
       "    }\n",
       "</style>\n",
       "<table border=\"1\" class=\"dataframe\">\n",
       "  <thead>\n",
       "    <tr style=\"text-align: right;\">\n",
       "      <th></th>\n",
       "      <th>VIF</th>\n",
       "      <th>features</th>\n",
       "    </tr>\n",
       "  </thead>\n",
       "  <tbody>\n",
       "    <tr>\n",
       "      <th>0</th>\n",
       "      <td>11.240693</td>\n",
       "      <td>InstArea</td>\n",
       "    </tr>\n",
       "    <tr>\n",
       "      <th>1</th>\n",
       "      <td>2.356342</td>\n",
       "      <td>HolderArea</td>\n",
       "    </tr>\n",
       "    <tr>\n",
       "      <th>2</th>\n",
       "      <td>3.204460</td>\n",
       "      <td>mod_Year</td>\n",
       "    </tr>\n",
       "    <tr>\n",
       "      <th>3</th>\n",
       "      <td>1.594105</td>\n",
       "      <td>Company_Hama</td>\n",
       "    </tr>\n",
       "    <tr>\n",
       "      <th>4</th>\n",
       "      <td>1.032797</td>\n",
       "      <td>Company_Spectra</td>\n",
       "    </tr>\n",
       "    <tr>\n",
       "      <th>5</th>\n",
       "      <td>8.444702</td>\n",
       "      <td>Company_Star</td>\n",
       "    </tr>\n",
       "    <tr>\n",
       "      <th>6</th>\n",
       "      <td>1.917430</td>\n",
       "      <td>Company_Thermo</td>\n",
       "    </tr>\n",
       "  </tbody>\n",
       "</table>\n",
       "</div>"
      ],
      "text/plain": [
       "         VIF         features\n",
       "0  11.240693         InstArea\n",
       "1   2.356342       HolderArea\n",
       "2   3.204460         mod_Year\n",
       "3   1.594105     Company_Hama\n",
       "4   1.032797  Company_Spectra\n",
       "5   8.444702     Company_Star\n",
       "6   1.917430   Company_Thermo"
      ]
     },
     "execution_count": 25,
     "metadata": {},
     "output_type": "execute_result"
    }
   ],
   "source": [
    "vif"
   ]
  },
  {
   "cell_type": "code",
   "execution_count": 26,
   "metadata": {},
   "outputs": [
    {
     "data": {
      "text/html": [
       "<div>\n",
       "<style>\n",
       "    .dataframe thead tr:only-child th {\n",
       "        text-align: right;\n",
       "    }\n",
       "\n",
       "    .dataframe thead th {\n",
       "        text-align: left;\n",
       "    }\n",
       "\n",
       "    .dataframe tbody tr th {\n",
       "        vertical-align: top;\n",
       "    }\n",
       "</style>\n",
       "<table border=\"1\" class=\"dataframe\">\n",
       "  <thead>\n",
       "    <tr style=\"text-align: right;\">\n",
       "      <th></th>\n",
       "      <th>InstArea</th>\n",
       "      <th>HolderArea</th>\n",
       "      <th>mod_Year</th>\n",
       "      <th>log_Price</th>\n",
       "      <th>Company_Hama</th>\n",
       "      <th>Company_Spectra</th>\n",
       "      <th>Company_Star</th>\n",
       "      <th>Company_Thermo</th>\n",
       "    </tr>\n",
       "  </thead>\n",
       "  <tbody>\n",
       "    <tr>\n",
       "      <th>0</th>\n",
       "      <td>213.75</td>\n",
       "      <td>938.89</td>\n",
       "      <td>4790.455449</td>\n",
       "      <td>7.642524</td>\n",
       "      <td>0</td>\n",
       "      <td>0</td>\n",
       "      <td>1</td>\n",
       "      <td>0</td>\n",
       "    </tr>\n",
       "    <tr>\n",
       "      <th>1</th>\n",
       "      <td>157.75</td>\n",
       "      <td>1066.67</td>\n",
       "      <td>1781.947176</td>\n",
       "      <td>7.503841</td>\n",
       "      <td>0</td>\n",
       "      <td>0</td>\n",
       "      <td>1</td>\n",
       "      <td>0</td>\n",
       "    </tr>\n",
       "    <tr>\n",
       "      <th>2</th>\n",
       "      <td>223.25</td>\n",
       "      <td>1250.00</td>\n",
       "      <td>4517.602985</td>\n",
       "      <td>7.711997</td>\n",
       "      <td>0</td>\n",
       "      <td>0</td>\n",
       "      <td>1</td>\n",
       "      <td>0</td>\n",
       "    </tr>\n",
       "    <tr>\n",
       "      <th>3</th>\n",
       "      <td>214.62</td>\n",
       "      <td>1061.11</td>\n",
       "      <td>352.947004</td>\n",
       "      <td>7.244228</td>\n",
       "      <td>0</td>\n",
       "      <td>0</td>\n",
       "      <td>1</td>\n",
       "      <td>0</td>\n",
       "    </tr>\n",
       "    <tr>\n",
       "      <th>4</th>\n",
       "      <td>274.75</td>\n",
       "      <td>1584.44</td>\n",
       "      <td>4384.176752</td>\n",
       "      <td>7.824046</td>\n",
       "      <td>0</td>\n",
       "      <td>0</td>\n",
       "      <td>1</td>\n",
       "      <td>0</td>\n",
       "    </tr>\n",
       "  </tbody>\n",
       "</table>\n",
       "</div>"
      ],
      "text/plain": [
       "   InstArea  HolderArea     mod_Year  log_Price  Company_Hama  \\\n",
       "0    213.75      938.89  4790.455449   7.642524             0   \n",
       "1    157.75     1066.67  1781.947176   7.503841             0   \n",
       "2    223.25     1250.00  4517.602985   7.711997             0   \n",
       "3    214.62     1061.11   352.947004   7.244228             0   \n",
       "4    274.75     1584.44  4384.176752   7.824046             0   \n",
       "\n",
       "   Company_Spectra  Company_Star  Company_Thermo  \n",
       "0                0             1               0  \n",
       "1                0             1               0  \n",
       "2                0             1               0  \n",
       "3                0             1               0  \n",
       "4                0             1               0  "
      ]
     },
     "execution_count": 26,
     "metadata": {},
     "output_type": "execute_result"
    }
   ],
   "source": [
    "data_pp = raw_data_with_dummies.drop(['Price'], axis=1)\n",
    "data_pp.head()"
   ]
  },
  {
   "cell_type": "markdown",
   "metadata": {},
   "source": [
    "# 7. Perform Linear regression"
   ]
  },
  {
   "cell_type": "markdown",
   "metadata": {},
   "source": [
    "### 7.1 Declare the inputs and the targets"
   ]
  },
  {
   "cell_type": "code",
   "execution_count": 27,
   "metadata": {
    "collapsed": true
   },
   "outputs": [],
   "source": [
    "targets = data_pp['log_Price']\n",
    "inputs  = data_pp.drop(['log_Price'], axis=1)"
   ]
  },
  {
   "cell_type": "markdown",
   "metadata": {},
   "source": [
    "### 7.2 Feature scaling"
   ]
  },
  {
   "cell_type": "code",
   "execution_count": 28,
   "metadata": {},
   "outputs": [
    {
     "data": {
      "text/plain": [
       "StandardScaler(copy=True, with_mean=True, with_std=True)"
      ]
     },
     "execution_count": 28,
     "metadata": {},
     "output_type": "execute_result"
    }
   ],
   "source": [
    "from sklearn.preprocessing import StandardScaler\n",
    "\n",
    "scaler = StandardScaler()\n",
    "scaler.fit(inputs)"
   ]
  },
  {
   "cell_type": "code",
   "execution_count": 29,
   "metadata": {
    "collapsed": true
   },
   "outputs": [],
   "source": [
    "inputs_scaled = scaler.transform(inputs)"
   ]
  },
  {
   "cell_type": "code",
   "execution_count": 30,
   "metadata": {},
   "outputs": [
    {
     "data": {
      "text/plain": [
       "array([[ 0.33781653, -0.21993963,  1.21049766, ..., -0.0763882 ,\n",
       "         0.50249152, -0.40340039],\n",
       "       [-0.52546058, -0.10731401, -0.31105225, ..., -0.0763882 ,\n",
       "         0.50249152, -0.40340039],\n",
       "       [ 0.48426533,  0.05427351,  1.07250281, ..., -0.0763882 ,\n",
       "         0.50249152, -0.40340039],\n",
       "       ..., \n",
       "       [ 1.55179997, -0.16196097, -1.18595653, ..., -0.0763882 ,\n",
       "         0.50249152, -0.40340039],\n",
       "       [-0.88002082, -0.09585578, -1.0793264 , ..., -0.0763882 ,\n",
       "         0.50249152, -0.40340039],\n",
       "       [-0.53702233, -0.0743143 , -0.71953989, ..., -0.0763882 ,\n",
       "         0.50249152, -0.40340039]])"
      ]
     },
     "execution_count": 30,
     "metadata": {},
     "output_type": "execute_result"
    }
   ],
   "source": [
    "inputs_scaled"
   ]
  },
  {
   "cell_type": "markdown",
   "metadata": {},
   "source": [
    "### 7.3 Train test split"
   ]
  },
  {
   "cell_type": "code",
   "execution_count": 31,
   "metadata": {
    "collapsed": true
   },
   "outputs": [],
   "source": [
    "from sklearn.model_selection import train_test_split\n",
    "\n",
    "x_train, x_test, y_train, y_test = train_test_split(inputs_scaled, targets, test_size=0.2, random_state=10)"
   ]
  },
  {
   "cell_type": "markdown",
   "metadata": {
    "collapsed": true
   },
   "source": [
    "### 7.4 Build the model"
   ]
  },
  {
   "cell_type": "code",
   "execution_count": 32,
   "metadata": {},
   "outputs": [
    {
     "data": {
      "text/plain": [
       "LinearRegression(copy_X=True, fit_intercept=True, n_jobs=1, normalize=False)"
      ]
     },
     "execution_count": 32,
     "metadata": {},
     "output_type": "execute_result"
    }
   ],
   "source": [
    "from sklearn.linear_model import LinearRegression\n",
    "\n",
    "reg = LinearRegression()\n",
    "reg.fit(x_train,y_train)"
   ]
  },
  {
   "cell_type": "markdown",
   "metadata": {},
   "source": [
    "### 7.5 Find the coefficients (or weights in machine learning language, since the features are scaled here)"
   ]
  },
  {
   "cell_type": "code",
   "execution_count": 33,
   "metadata": {},
   "outputs": [
    {
     "data": {
      "text/plain": [
       "array([ 0.18406156,  0.0342056 ,  0.16550088,  0.03138556, -0.03679136,\n",
       "        0.07691341,  0.00626972])"
      ]
     },
     "execution_count": 33,
     "metadata": {},
     "output_type": "execute_result"
    }
   ],
   "source": [
    "reg.coef_"
   ]
  },
  {
   "cell_type": "code",
   "execution_count": 34,
   "metadata": {},
   "outputs": [
    {
     "data": {
      "text/html": [
       "<div>\n",
       "<style>\n",
       "    .dataframe thead tr:only-child th {\n",
       "        text-align: right;\n",
       "    }\n",
       "\n",
       "    .dataframe thead th {\n",
       "        text-align: left;\n",
       "    }\n",
       "\n",
       "    .dataframe tbody tr th {\n",
       "        vertical-align: top;\n",
       "    }\n",
       "</style>\n",
       "<table border=\"1\" class=\"dataframe\">\n",
       "  <thead>\n",
       "    <tr style=\"text-align: right;\">\n",
       "      <th></th>\n",
       "      <th>Features</th>\n",
       "      <th>Weights</th>\n",
       "    </tr>\n",
       "  </thead>\n",
       "  <tbody>\n",
       "    <tr>\n",
       "      <th>0</th>\n",
       "      <td>InstArea</td>\n",
       "      <td>0.184062</td>\n",
       "    </tr>\n",
       "    <tr>\n",
       "      <th>1</th>\n",
       "      <td>HolderArea</td>\n",
       "      <td>0.034206</td>\n",
       "    </tr>\n",
       "    <tr>\n",
       "      <th>2</th>\n",
       "      <td>mod_Year</td>\n",
       "      <td>0.165501</td>\n",
       "    </tr>\n",
       "    <tr>\n",
       "      <th>3</th>\n",
       "      <td>Company_Hama</td>\n",
       "      <td>0.031386</td>\n",
       "    </tr>\n",
       "    <tr>\n",
       "      <th>4</th>\n",
       "      <td>Company_Spectra</td>\n",
       "      <td>-0.036791</td>\n",
       "    </tr>\n",
       "    <tr>\n",
       "      <th>5</th>\n",
       "      <td>Company_Star</td>\n",
       "      <td>0.076913</td>\n",
       "    </tr>\n",
       "    <tr>\n",
       "      <th>6</th>\n",
       "      <td>Company_Thermo</td>\n",
       "      <td>0.006270</td>\n",
       "    </tr>\n",
       "  </tbody>\n",
       "</table>\n",
       "</div>"
      ],
      "text/plain": [
       "          Features   Weights\n",
       "0         InstArea  0.184062\n",
       "1       HolderArea  0.034206\n",
       "2         mod_Year  0.165501\n",
       "3     Company_Hama  0.031386\n",
       "4  Company_Spectra -0.036791\n",
       "5     Company_Star  0.076913\n",
       "6   Company_Thermo  0.006270"
      ]
     },
     "execution_count": 34,
     "metadata": {},
     "output_type": "execute_result"
    }
   ],
   "source": [
    "reg_summary = pd.DataFrame(inputs.columns.values, columns=['Features'])\n",
    "reg_summary['Weights'] = reg.coef_\n",
    "reg_summary"
   ]
  },
  {
   "cell_type": "markdown",
   "metadata": {},
   "source": [
    "- Can you gauge the importance of features (feature selection) from these weights?\n",
    "- What can you say about the relative importance of the categorical variables, i.e. which category is more important and which is not?"
   ]
  },
  {
   "cell_type": "markdown",
   "metadata": {},
   "source": [
    "### 7.6 Now use you model to predict on the testing dataset"
   ]
  },
  {
   "cell_type": "markdown",
   "metadata": {},
   "source": [
    "Note that the testing dataset is something your model hasn't seen. So, it provides a useful way to check how well you model performs on new data."
   ]
  },
  {
   "cell_type": "code",
   "execution_count": 35,
   "metadata": {
    "collapsed": true
   },
   "outputs": [],
   "source": [
    "y_hat_test = reg.predict(x_test)"
   ]
  },
  {
   "cell_type": "markdown",
   "metadata": {},
   "source": [
    "Plot predictions (y_hat_test) vs. target values (y_test) to see how well your model did"
   ]
  },
  {
   "cell_type": "code",
   "execution_count": 38,
   "metadata": {},
   "outputs": [
    {
     "data": {
      "image/png": "[encoded data removed]",
      "text/plain": [
       "<matplotlib.figure.Figure at 0x1117755c0>"
      ]
     },
     "metadata": {},
     "output_type": "display_data"
    }
   ],
   "source": [
    "plt.scatter(y_test, y_hat_test)\n",
    "plt.xlabel('Targets (y_test)',size=18)\n",
    "plt.ylabel('Predictions (y_hat_test)',size=18)\n",
    "plt.xlim(5,10)\n",
    "plt.ylim(5,10)\n",
    "\n",
    "xx = np.arange(4,11,0.1)\n",
    "yy = xx\n",
    "\n",
    "plt.plot(xx, yy, '-', color='red')\n",
    "\n",
    "plt.show()"
   ]
  },
  {
   "cell_type": "code",
   "execution_count": 40,
   "metadata": {},
   "outputs": [
    {
     "data": {
      "text/plain": [
       "0.79867531270880976"
      ]
     },
     "execution_count": 40,
     "metadata": {},
     "output_type": "execute_result"
    }
   ],
   "source": [
    "# Calculate R^2\n",
    "reg.score(x_test,y_test)"
   ]
  },
  {
   "cell_type": "code",
   "execution_count": 40,
   "metadata": {},
   "outputs": [
    {
     "data": {
      "text/plain": [
       "0.79867531270880976"
      ]
     },
     "execution_count": 40,
     "metadata": {},
     "output_type": "execute_result"
    }
   ],
   "source": [
    "# Calculate R^2\n",
    "reg.score(x_test,y_test)"
   ]
  },
  {
   "cell_type": "markdown",
   "metadata": {
    "scrolled": true
   },
   "source": [
    "### 7.7 Metrics to evaluate the model"
   ]
  },
  {
   "cell_type": "markdown",
   "metadata": {},
   "source": [
    "Calculate R-squared"
   ]
  },
  {
   "cell_type": "code",
   "execution_count": 59,
   "metadata": {},
   "outputs": [
    {
     "data": {
      "text/plain": [
       "0.79867531270880976"
      ]
     },
     "execution_count": 59,
     "metadata": {},
     "output_type": "execute_result"
    }
   ],
   "source": [
    "reg.score(x_test,y_test)"
   ]
  },
  {
   "cell_type": "markdown",
   "metadata": {},
   "source": [
    "Calculate MSE (mean squared error) in order to see how well your model has done. MSE is another good metric to check for accuracy and improve upon the model. MSE is a general metric that can be used for many models, while R-squared is restricted to linear reg"
   ]
  },
  {
   "cell_type": "code",
   "execution_count": 60,
   "metadata": {},
   "outputs": [
    {
     "data": {
      "text/html": [
       "<div>\n",
       "<style>\n",
       "    .dataframe thead tr:only-child th {\n",
       "        text-align: right;\n",
       "    }\n",
       "\n",
       "    .dataframe thead th {\n",
       "        text-align: left;\n",
       "    }\n",
       "\n",
       "    .dataframe tbody tr th {\n",
       "        vertical-align: top;\n",
       "    }\n",
       "</style>\n",
       "<table border=\"1\" class=\"dataframe\">\n",
       "  <thead>\n",
       "    <tr style=\"text-align: right;\">\n",
       "      <th></th>\n",
       "      <th>Target</th>\n",
       "      <th>Prediction</th>\n",
       "    </tr>\n",
       "  </thead>\n",
       "  <tbody>\n",
       "    <tr>\n",
       "      <th>0</th>\n",
       "      <td>2000.0</td>\n",
       "      <td>2004.429160</td>\n",
       "    </tr>\n",
       "    <tr>\n",
       "      <th>1</th>\n",
       "      <td>1493.5</td>\n",
       "      <td>1407.224375</td>\n",
       "    </tr>\n",
       "    <tr>\n",
       "      <th>2</th>\n",
       "      <td>1150.0</td>\n",
       "      <td>1241.845048</td>\n",
       "    </tr>\n",
       "    <tr>\n",
       "      <th>3</th>\n",
       "      <td>1190.0</td>\n",
       "      <td>963.444377</td>\n",
       "    </tr>\n",
       "    <tr>\n",
       "      <th>4</th>\n",
       "      <td>1020.0</td>\n",
       "      <td>1320.276618</td>\n",
       "    </tr>\n",
       "  </tbody>\n",
       "</table>\n",
       "</div>"
      ],
      "text/plain": [
       "   Target   Prediction\n",
       "0  2000.0  2004.429160\n",
       "1  1493.5  1407.224375\n",
       "2  1150.0  1241.845048\n",
       "3  1190.0   963.444377\n",
       "4  1020.0  1320.276618"
      ]
     },
     "execution_count": 60,
     "metadata": {},
     "output_type": "execute_result"
    }
   ],
   "source": [
    "df_pf = pd.DataFrame()\n",
    "df_pf['Target'] = np.exp(y_test)\n",
    "df_pf['Prediction'] = np.exp(y_hat_test)\n",
    "df_pf.head()"
   ]
  },
  {
   "cell_type": "code",
   "execution_count": 57,
   "metadata": {},
   "outputs": [
    {
     "name": "stdout",
     "output_type": "stream",
     "text": [
      "219877.383837\n"
     ]
    }
   ],
   "source": [
    "from sklearn.metrics import mean_squared_error as mse\n",
    "print(mse(df_pf['Target'], df_pf['Prediction']))"
   ]
  }
 ],
 "metadata": {
  "kernelspec": {
   "display_name": "Python 3",
   "language": "python",
   "name": "python3"
  },
  "language_info": {
   "codemirror_mode": {
    "name": "ipython",
    "version": 3
   },
   "file_extension": ".py",
   "mimetype": "text/x-python",
   "name": "python",
   "nbconvert_exporter": "python",
   "pygments_lexer": "ipython3",
   "version": "3.6.3"
  }
 },
 "nbformat": 4,
 "nbformat_minor": 2
}
