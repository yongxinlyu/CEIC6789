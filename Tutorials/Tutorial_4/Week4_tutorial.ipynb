{
 "cells": [
  {
   "cell_type": "markdown",
   "metadata": {},
   "source": [
    "# Linear regression"
   ]
  },
  {
   "cell_type": "markdown",
   "metadata": {},
   "source": [
    "You are working for a research lab, and the lab has asked you to purchase a spectrometer for some experiments. While scanning the internet, you have managed to collect a good amount of data on different spectrometers. \n",
    "\n",
    "The file spectrometer_price.xlsx contains the relevant dataset. Here's a description of the columns:\n",
    "\n",
    "- Company: Name of the company manufacturing the spectrometer.\n",
    "- Year: The year in which the spectrometer was manufactured.\n",
    "- InstArea: the main instrument area (cm2).\n",
    "- HolderArea: Remainder of the area that holds other supplementary components (cm2).\n",
    "- Rating: Average ratings given for the spectrometer by customers.\n",
    "- Price: the price of the spectrometer (dollars).\n",
    "\n",
    "Being a curious data scientist, you want to now predict the price of the spectrometer given its attributes using a linear regression model.  \n",
    "\n",
    "Here's a template that assigns several tasks for you and also provides a roadmap to guide you. Please note, you are free to follow your own coding style and name the variables the way you like. "
   ]
  },
  {
   "cell_type": "markdown",
   "metadata": {},
   "source": [
    "## 1. Import the relevant libraries"
   ]
  },
  {
   "cell_type": "markdown",
   "metadata": {},
   "source": [
    "## 2. Load the data"
   ]
  },
  {
   "cell_type": "markdown",
   "metadata": {},
   "source": [
    "## 3. Explore the descriptive statistics"
   ]
  },
  {
   "cell_type": "markdown",
   "metadata": {},
   "source": [
    "## 4. Data preprocessing"
   ]
  },
  {
   "cell_type": "markdown",
   "metadata": {},
   "source": [
    "If necessary, we carry out preprocessing here. However, in this example, we don't need to do this. So, we can proceed ahead."
   ]
  },
  {
   "cell_type": "markdown",
   "metadata": {},
   "source": [
    "## 5. Check the OLS assumptions"
   ]
  },
  {
   "cell_type": "markdown",
   "metadata": {},
   "source": [
    "### 5.1 Check for Linearity"
   ]
  },
  {
   "cell_type": "code",
   "execution_count": null,
   "metadata": {
    "collapsed": true
   },
   "outputs": [],
   "source": [
    "# Use scatter plots to check for linearity\n"
   ]
  },
  {
   "cell_type": "markdown",
   "metadata": {},
   "source": [
    "In what follows, write a code that will obtain an optimized quadratic fit to the Price vs. Year plot. Other functions could also be explored, such as higher degree polynomials and power law functions. If you would like to test other better fits than quadratic, then please give it a shot in your free time, and see how those functions affect the final predictions."
   ]
  },
  {
   "cell_type": "code",
   "execution_count": null,
   "metadata": {},
   "outputs": [],
   "source": [
    "def poly_year(x, a, b, c):\n",
    "    return a * (x + b)**2 + c\n",
    "\n",
    "x, y = None, None\n",
    "\n",
    "# curve fitting\n",
    "from scipy.optimize import curve_fit\n",
    "popt, _ = curve_fit(poly_year, x, y)\n",
    "\n",
    "# summarize the parameter values\n",
    "a, b, c = popt\n",
    "print('y = %.5f * (x + %.5f)**2 + %.5f' % (a, b, c))"
   ]
  },
  {
   "cell_type": "markdown",
   "metadata": {},
   "source": [
    "Show the optimized quadratic curve on the scatter plot of Year vs. Price to see how well the curve fits"
   ]
  },
  {
   "cell_type": "code",
   "execution_count": null,
   "metadata": {},
   "outputs": [],
   "source": [
    "# plot Year vs Price (a scatter plot)\n",
    "\n",
    "\n",
    "# define a sequence of inputs between the smallest and largest known inputs to plot the quadratic line obtained\n",
    "x_line = np.arange(min(x), max(x), 1)\n",
    "\n",
    "# calculate the output (quadratic fit) for the range\n",
    "\n",
    "\n",
    "# create a line plot for the quadratic function\n"
   ]
  },
  {
   "cell_type": "code",
   "execution_count": null,
   "metadata": {},
   "outputs": [],
   "source": [
    "# Now we understand that Price could be roughly proportional to (Year + b)^2, rather than just Year. \n",
    "# So, create a new column in raw_data that adds the quadratic expression\n",
    "\n"
   ]
  },
  {
   "cell_type": "code",
   "execution_count": null,
   "metadata": {
    "scrolled": true
   },
   "outputs": [],
   "source": [
    "# Check if Price vs. (Year + b)^2 is linear or not using a scatter plot\n",
    "\n"
   ]
  },
  {
   "cell_type": "code",
   "execution_count": null,
   "metadata": {},
   "outputs": [],
   "source": [
    "# Drop the Year column since it is not necessary\n",
    "\n"
   ]
  },
  {
   "cell_type": "markdown",
   "metadata": {},
   "source": [
    "### 5.2 Check for Homoscedasticity"
   ]
  },
  {
   "cell_type": "markdown",
   "metadata": {},
   "source": [
    "### 5.3 Check for Autocorrelation"
   ]
  },
  {
   "cell_type": "markdown",
   "metadata": {},
   "source": [
    "### 5.4 Check for Multicollinearity"
   ]
  },
  {
   "cell_type": "markdown",
   "metadata": {},
   "source": [
    "## 6. Create dummy variables"
   ]
  },
  {
   "cell_type": "markdown",
   "metadata": {},
   "source": [
    "### 6.1 Check for VIF with dummy variables"
   ]
  },
  {
   "cell_type": "markdown",
   "metadata": {},
   "source": [
    "# 7. Perform Linear regression"
   ]
  },
  {
   "cell_type": "markdown",
   "metadata": {},
   "source": [
    "### 7.1 Declare the inputs and the targets"
   ]
  },
  {
   "cell_type": "markdown",
   "metadata": {},
   "source": [
    "### 7.2 Feature scaling"
   ]
  },
  {
   "cell_type": "markdown",
   "metadata": {},
   "source": [
    "### 7.3 Train test split"
   ]
  },
  {
   "cell_type": "markdown",
   "metadata": {
    "collapsed": true
   },
   "source": [
    "### 7.4 Build the model"
   ]
  },
  {
   "cell_type": "markdown",
   "metadata": {},
   "source": [
    "### 7.5 Find the coefficients (or weights in machine learning language, since the features are scaled here)"
   ]
  },
  {
   "cell_type": "markdown",
   "metadata": {},
   "source": [
    "- Can you gauge the importance of features (feature selection) from these weights?\n",
    "- What can you say about the relative importance of the categorical variables, i.e. which category is more important and which is not?"
   ]
  },
  {
   "cell_type": "markdown",
   "metadata": {},
   "source": [
    "### 7.6 Now use you model to predict on the testing dataset"
   ]
  },
  {
   "cell_type": "markdown",
   "metadata": {},
   "source": [
    "Note that the testing dataset is something your model hasn't seen. So, it provides a useful way to check how well you model performs on new data."
   ]
  },
  {
   "cell_type": "markdown",
   "metadata": {},
   "source": [
    "Plot predictions (y_hat_test) vs. target values (y_test) to see how well your model did"
   ]
  },
  {
   "cell_type": "markdown",
   "metadata": {
    "scrolled": true
   },
   "source": [
    "### 7.7 Metrics to evaluate the model"
   ]
  },
  {
   "cell_type": "markdown",
   "metadata": {},
   "source": [
    "Calculate R-squared"
   ]
  },
  {
   "cell_type": "code",
   "execution_count": null,
   "metadata": {
    "collapsed": true
   },
   "outputs": [],
   "source": []
  },
  {
   "cell_type": "markdown",
   "metadata": {},
   "source": [
    "Calculate MSE (mean squared error) in order to see how well your model has done. MSE is another good metric to check for accuracy and improve upon the model. MSE is a general metric that can be used for many models, while R-squared is restricted to linear reg"
   ]
  },
  {
   "cell_type": "code",
   "execution_count": null,
   "metadata": {
    "collapsed": true
   },
   "outputs": [],
   "source": []
  }
 ],
 "metadata": {
  "kernelspec": {
   "display_name": "Python 3",
   "language": "python",
   "name": "python3"
  },
  "language_info": {
   "codemirror_mode": {
    "name": "ipython",
    "version": 3
   },
   "file_extension": ".py",
   "mimetype": "text/x-python",
   "name": "python",
   "nbconvert_exporter": "python",
   "pygments_lexer": "ipython3",
   "version": "3.6.3"
  }
 },
 "nbformat": 4,
 "nbformat_minor": 2
}
